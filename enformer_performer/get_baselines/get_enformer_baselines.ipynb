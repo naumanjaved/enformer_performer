{
 "cells": [
  {
   "cell_type": "code",
   "execution_count": 16,
   "id": "33c63b8d-a337-48a9-89e0-706edc68c692",
   "metadata": {},
   "outputs": [],
   "source": [
    "import time\n",
    "import os\n",
    "import subprocess\n",
    "import sys\n",
    "import re\n",
    "import argparse\n",
    "import collections\n",
    "import gzip\n",
    "import math\n",
    "import shutil\n",
    "\n",
    "\n",
    "\n",
    "import matplotlib.pyplot as plt\n",
    "import wandb\n",
    "import numpy as np\n",
    "import time\n",
    "from datetime import datetime\n",
    "import random\n",
    "\n",
    "import seaborn as sns\n",
    "%matplotlib inline\n",
    "import logging\n",
    "from silence_tensorflow import silence_tensorflow\n",
    "#silence_tensorflow()\n",
    "#os.environ['TPU_LOAD_LIBRARY']='0'\n",
    "os.environ['TF_ENABLE_EAGER_CLIENT_STREAMING_ENQUEUE']='False'\n",
    "import tensorflow as tf\n",
    "\n",
    "\n",
    "import tensorflow.experimental.numpy as tnp\n",
    "import tensorflow_addons as tfa\n",
    "from tensorflow import strings as tfs\n",
    "from tensorflow.keras import mixed_precision\n",
    "from scipy.stats.stats import pearsonr  \n",
    "from scipy.stats.stats import spearmanr  \n",
    "## custom modules\n",
    "import metrics as metrics\n",
    "from optimizers import *\n",
    "import schedulers as schedulers\n",
    "\n",
    "from scipy import stats\n",
    "\n",
    "import enformer_vanilla as enformer\n"
   ]
  },
  {
   "cell_type": "code",
   "execution_count": 17,
   "id": "15007bd4-77ed-4128-9ba8-94422c367d33",
   "metadata": {},
   "outputs": [
    {
     "name": "stderr",
     "output_type": "stream",
     "text": [
      "2022-12-24 21:29:11.108671: I tensorflow/core/common_runtime/eager/kernel_and_device.cc:94] Ignoring error status when releasing multi-device function handle UNIMPLEMENTED: Releasing a multi-device component handle on a remote device is not yet implemented.\n",
      "2022-12-24 21:29:11.109463: I tensorflow/core/common_runtime/eager/kernel_and_device.cc:94] Ignoring error status when releasing multi-device function handle UNIMPLEMENTED: Releasing a multi-device component handle on a remote device is not yet implemented.\n"
     ]
    },
    {
     "name": "stdout",
     "output_type": "stream",
     "text": [
      "INFO:tensorflow:Deallocate tpu buffers before initializing tpu system.\n"
     ]
    },
    {
     "name": "stderr",
     "output_type": "stream",
     "text": [
      "INFO:tensorflow:Deallocate tpu buffers before initializing tpu system.\n"
     ]
    },
    {
     "name": "stdout",
     "output_type": "stream",
     "text": [
      "WARNING:tensorflow:TPU system node-5 has already been initialized. Reinitializing the TPU can cause previously created variables on TPU to be lost.\n"
     ]
    },
    {
     "name": "stderr",
     "output_type": "stream",
     "text": [
      "WARNING:tensorflow:TPU system node-5 has already been initialized. Reinitializing the TPU can cause previously created variables on TPU to be lost.\n"
     ]
    },
    {
     "name": "stdout",
     "output_type": "stream",
     "text": [
      "INFO:tensorflow:Initializing the TPU system: node-5\n"
     ]
    },
    {
     "name": "stderr",
     "output_type": "stream",
     "text": [
      "INFO:tensorflow:Initializing the TPU system: node-5\n"
     ]
    },
    {
     "name": "stdout",
     "output_type": "stream",
     "text": [
      "INFO:tensorflow:Finished initializing TPU system.\n"
     ]
    },
    {
     "name": "stderr",
     "output_type": "stream",
     "text": [
      "INFO:tensorflow:Finished initializing TPU system.\n"
     ]
    },
    {
     "name": "stdout",
     "output_type": "stream",
     "text": [
      "INFO:tensorflow:Found TPU system:\n"
     ]
    },
    {
     "name": "stderr",
     "output_type": "stream",
     "text": [
      "INFO:tensorflow:Found TPU system:\n"
     ]
    },
    {
     "name": "stdout",
     "output_type": "stream",
     "text": [
      "INFO:tensorflow:*** Num TPU Cores: 8\n"
     ]
    },
    {
     "name": "stderr",
     "output_type": "stream",
     "text": [
      "INFO:tensorflow:*** Num TPU Cores: 8\n"
     ]
    },
    {
     "name": "stdout",
     "output_type": "stream",
     "text": [
      "INFO:tensorflow:*** Num TPU Workers: 1\n"
     ]
    },
    {
     "name": "stderr",
     "output_type": "stream",
     "text": [
      "INFO:tensorflow:*** Num TPU Workers: 1\n"
     ]
    },
    {
     "name": "stdout",
     "output_type": "stream",
     "text": [
      "INFO:tensorflow:*** Num TPU Cores Per Worker: 8\n"
     ]
    },
    {
     "name": "stderr",
     "output_type": "stream",
     "text": [
      "INFO:tensorflow:*** Num TPU Cores Per Worker: 8\n"
     ]
    },
    {
     "name": "stdout",
     "output_type": "stream",
     "text": [
      "INFO:tensorflow:*** Available Device: _DeviceAttributes(/job:localhost/replica:0/task:0/device:CPU:0, CPU, 0, 0)\n"
     ]
    },
    {
     "name": "stderr",
     "output_type": "stream",
     "text": [
      "INFO:tensorflow:*** Available Device: _DeviceAttributes(/job:localhost/replica:0/task:0/device:CPU:0, CPU, 0, 0)\n"
     ]
    },
    {
     "name": "stdout",
     "output_type": "stream",
     "text": [
      "INFO:tensorflow:*** Available Device: _DeviceAttributes(/job:worker/replica:0/task:0/device:CPU:0, CPU, 0, 0)\n"
     ]
    },
    {
     "name": "stderr",
     "output_type": "stream",
     "text": [
      "INFO:tensorflow:*** Available Device: _DeviceAttributes(/job:worker/replica:0/task:0/device:CPU:0, CPU, 0, 0)\n"
     ]
    },
    {
     "name": "stdout",
     "output_type": "stream",
     "text": [
      "INFO:tensorflow:*** Available Device: _DeviceAttributes(/job:worker/replica:0/task:0/device:TPU:0, TPU, 0, 0)\n"
     ]
    },
    {
     "name": "stderr",
     "output_type": "stream",
     "text": [
      "INFO:tensorflow:*** Available Device: _DeviceAttributes(/job:worker/replica:0/task:0/device:TPU:0, TPU, 0, 0)\n"
     ]
    },
    {
     "name": "stdout",
     "output_type": "stream",
     "text": [
      "INFO:tensorflow:*** Available Device: _DeviceAttributes(/job:worker/replica:0/task:0/device:TPU:1, TPU, 0, 0)\n"
     ]
    },
    {
     "name": "stderr",
     "output_type": "stream",
     "text": [
      "INFO:tensorflow:*** Available Device: _DeviceAttributes(/job:worker/replica:0/task:0/device:TPU:1, TPU, 0, 0)\n"
     ]
    },
    {
     "name": "stdout",
     "output_type": "stream",
     "text": [
      "INFO:tensorflow:*** Available Device: _DeviceAttributes(/job:worker/replica:0/task:0/device:TPU:2, TPU, 0, 0)\n"
     ]
    },
    {
     "name": "stderr",
     "output_type": "stream",
     "text": [
      "INFO:tensorflow:*** Available Device: _DeviceAttributes(/job:worker/replica:0/task:0/device:TPU:2, TPU, 0, 0)\n"
     ]
    },
    {
     "name": "stdout",
     "output_type": "stream",
     "text": [
      "INFO:tensorflow:*** Available Device: _DeviceAttributes(/job:worker/replica:0/task:0/device:TPU:3, TPU, 0, 0)\n"
     ]
    },
    {
     "name": "stderr",
     "output_type": "stream",
     "text": [
      "INFO:tensorflow:*** Available Device: _DeviceAttributes(/job:worker/replica:0/task:0/device:TPU:3, TPU, 0, 0)\n"
     ]
    },
    {
     "name": "stdout",
     "output_type": "stream",
     "text": [
      "INFO:tensorflow:*** Available Device: _DeviceAttributes(/job:worker/replica:0/task:0/device:TPU:4, TPU, 0, 0)\n"
     ]
    },
    {
     "name": "stderr",
     "output_type": "stream",
     "text": [
      "INFO:tensorflow:*** Available Device: _DeviceAttributes(/job:worker/replica:0/task:0/device:TPU:4, TPU, 0, 0)\n"
     ]
    },
    {
     "name": "stdout",
     "output_type": "stream",
     "text": [
      "INFO:tensorflow:*** Available Device: _DeviceAttributes(/job:worker/replica:0/task:0/device:TPU:5, TPU, 0, 0)\n"
     ]
    },
    {
     "name": "stderr",
     "output_type": "stream",
     "text": [
      "INFO:tensorflow:*** Available Device: _DeviceAttributes(/job:worker/replica:0/task:0/device:TPU:5, TPU, 0, 0)\n"
     ]
    },
    {
     "name": "stdout",
     "output_type": "stream",
     "text": [
      "INFO:tensorflow:*** Available Device: _DeviceAttributes(/job:worker/replica:0/task:0/device:TPU:6, TPU, 0, 0)\n"
     ]
    },
    {
     "name": "stderr",
     "output_type": "stream",
     "text": [
      "INFO:tensorflow:*** Available Device: _DeviceAttributes(/job:worker/replica:0/task:0/device:TPU:6, TPU, 0, 0)\n"
     ]
    },
    {
     "name": "stdout",
     "output_type": "stream",
     "text": [
      "INFO:tensorflow:*** Available Device: _DeviceAttributes(/job:worker/replica:0/task:0/device:TPU:7, TPU, 0, 0)\n"
     ]
    },
    {
     "name": "stderr",
     "output_type": "stream",
     "text": [
      "INFO:tensorflow:*** Available Device: _DeviceAttributes(/job:worker/replica:0/task:0/device:TPU:7, TPU, 0, 0)\n"
     ]
    },
    {
     "name": "stdout",
     "output_type": "stream",
     "text": [
      "INFO:tensorflow:*** Available Device: _DeviceAttributes(/job:worker/replica:0/task:0/device:TPU_SYSTEM:0, TPU_SYSTEM, 0, 0)\n"
     ]
    },
    {
     "name": "stderr",
     "output_type": "stream",
     "text": [
      "INFO:tensorflow:*** Available Device: _DeviceAttributes(/job:worker/replica:0/task:0/device:TPU_SYSTEM:0, TPU_SYSTEM, 0, 0)\n"
     ]
    },
    {
     "name": "stdout",
     "output_type": "stream",
     "text": [
      "INFO:tensorflow:*** Available Device: _DeviceAttributes(/job:worker/replica:0/task:0/device:XLA_CPU:0, XLA_CPU, 0, 0)\n"
     ]
    },
    {
     "name": "stderr",
     "output_type": "stream",
     "text": [
      "INFO:tensorflow:*** Available Device: _DeviceAttributes(/job:worker/replica:0/task:0/device:XLA_CPU:0, XLA_CPU, 0, 0)\n",
      "WARNING:absl:options.experimental_threading is deprecated. Use options.threading instead.\n"
     ]
    }
   ],
   "source": [
    "resolver = tf.distribute.cluster_resolver.TPUClusterResolver(tpu='node-5')\n",
    "tf.config.experimental_connect_to_cluster(resolver)\n",
    "tf.tpu.experimental.initialize_tpu_system(resolver)\n",
    "strategy = tf.distribute.TPUStrategy(resolver)\n",
    "\n",
    "with strategy.scope():\n",
    "    options = tf.data.Options()\n",
    "    options.experimental_distribute.auto_shard_policy=\\\n",
    "        tf.data.experimental.AutoShardPolicy.OFF\n",
    "    options.deterministic=False\n",
    "    options.experimental_threading.max_intra_op_parallelism=1\n",
    "    mixed_precision.set_global_policy('mixed_bfloat16')\n",
    "    #options.num_devices = 64\n",
    "\n",
    "    BATCH_SIZE_PER_REPLICA = 1 # batch size 24, use LR ~ 2.5 e -04\n",
    "    NUM_REPLICAS = strategy.num_replicas_in_sync\n",
    "    GLOBAL_BATCH_SIZE = BATCH_SIZE_PER_REPLICA * NUM_REPLICAS\n",
    "    "
   ]
  },
  {
   "cell_type": "code",
   "execution_count": 18,
   "id": "1128c58d-ad77-496f-90dd-4709f7b0710c",
   "metadata": {},
   "outputs": [],
   "source": [
    "def deserialize_val_TSS(serialized_example,input_length,max_shift, out_length,num_targets):\n",
    "    \"\"\"Deserialize bytes stored in TFRecordFile.\"\"\"\n",
    "    feature_map = {\n",
    "        'sequence': tf.io.FixedLenFeature([], tf.string),\n",
    "        'target': tf.io.FixedLenFeature([], tf.string),\n",
    "        'tss_mask': tf.io.FixedLenFeature([], tf.string),\n",
    "        'gene_name': tf.io.FixedLenFeature([], tf.string)\n",
    "    }\n",
    "    \n",
    "    data = tf.io.parse_example(serialized_example, feature_map)\n",
    "\n",
    "    shift = 5\n",
    "    input_seq_length = input_length + max_shift\n",
    "    interval_end = input_length + shift\n",
    "    \n",
    "    ### rev_comp\n",
    "    #rev_comp = random.randrange(0,2)\n",
    "\n",
    "    example = tf.io.parse_example(serialized_example, feature_map)\n",
    "    sequence = tf.io.decode_raw(example['sequence'], tf.bool)\n",
    "    sequence = tf.reshape(sequence, (input_length + max_shift, 4))\n",
    "    sequence = tf.cast(sequence, tf.float32)\n",
    "    sequence = tf.slice(sequence, [shift,0],[input_length,-1])\n",
    "    \n",
    "    target = tf.io.decode_raw(example['target'], tf.float16)\n",
    "    target = tf.reshape(target,\n",
    "                        (out_length, num_targets))\n",
    "    \n",
    "    tss_mask = tf.io.parse_tensor(data['tss_mask'],\n",
    "                                  out_type=tf.int32)\n",
    "\n",
    "    \n",
    "    gene_name= tf.io.parse_tensor(example['gene_name'],out_type=tf.int32)\n",
    "    gene_name = tf.tile(tf.expand_dims(gene_name,axis=0),[638])\n",
    "    cell_types = tf.range(0,638)\n",
    "    \n",
    "    return {'sequence': tf.ensure_shape(sequence,\n",
    "                                        [input_length,4]),\n",
    "            'target': tf.ensure_shape(target,\n",
    "                                      [896,num_targets]),\n",
    "            'tss_mask': tf.ensure_shape(tss_mask,\n",
    "                                        [896,1]),\n",
    "            'gene_name': tf.ensure_shape(gene_name,\n",
    "                                         [638,]),\n",
    "            'cell_types': tf.ensure_shape(cell_types,\n",
    "                                           [638,])}"
   ]
  },
  {
   "cell_type": "code",
   "execution_count": 19,
   "id": "5541cd34-bae2-4039-8fe8-4d993b16d54f",
   "metadata": {},
   "outputs": [],
   "source": [
    "pearsonsR = metrics.MetricDict({'PearsonR': metrics.PearsonR(reduce_axis=(0,1))})\n",
    "R2 = metrics.MetricDict({'R2': metrics.R2(reduce_axis=(0,1))})\n",
    "\n",
    "\n",
    "with strategy.scope():\n",
    "    \n",
    "    list_files_val = (tf.io.gfile.glob(os.path.join(\"gs://genformer_data/expanded_originals/196k/human/tfrecords_tss\",\n",
    "                                                \"tssmask-valid*.tfr\")))\n",
    "    \n",
    "    files = tf.data.Dataset.list_files(list_files_val)\n",
    "    dataset_build = tf.data.TFRecordDataset(files,\n",
    "                                      compression_type='ZLIB',\n",
    "                                      num_parallel_reads=4)\n",
    "    dataset_build = dataset_build.with_options(options)\n",
    "    dataset_build = dataset_build.map(lambda record: deserialize_val_TSS(record,\n",
    "                                                     196608,\n",
    "                                                     10,\n",
    "                                                     896,\n",
    "                                                     5313),\n",
    "                          deterministic=False,\n",
    "                          num_parallel_calls=4)\n",
    "    \n",
    "\n",
    "    dataset_build=dataset_build.repeat(1).batch(1).prefetch(1)\n",
    "    val_dist_build= strategy.experimental_distribute_dataset(dataset_build)\n",
    "    val_dist_build_it = iter(val_dist_build)\n",
    "    \n",
    "    model = enformer.Enformer()\n",
    "    \n",
    "    def run_build_dist(iterator):\n",
    "        @tf.function\n",
    "        def run_build(inputs):\n",
    "            sequence = inputs['sequence']\n",
    "            model(sequence,is_training=False)\n",
    "        strategy.run(run_build,\n",
    "                     args=(next(iterator),))\n",
    "    \n",
    "    run_build_dist(val_dist_build_it)\n",
    "    ### build model then load weights\n",
    "    \n",
    "    \n",
    "    def run_val_dist(iterator):\n",
    "        @tf.function\n",
    "        def run_build(inputs):\n",
    "            sequence = inputs['sequence']\n",
    "            model(sequence,is_training=False)\n",
    "        strategy.run(run_build,\n",
    "                     args=(next(iterator),))\n",
    "    \n",
    "    checkpoint_options = tf.train.CheckpointOptions(experimental_io_device=\"/job:localhost\")\n",
    "    checkpoint = tf.train.Checkpoint(module=model)#,options=options)\n",
    "    tf.saved_model.LoadOptions(experimental_io_device='/job:localhost')\n",
    "    latest = tf.train.latest_checkpoint(\"/home/jupyter/dev/BE_CD69_paper_2022/enformer_fine_tuning/checkpoint/sonnet_weights/\")\n",
    "\n",
    "    checkpoint.restore(latest,options=checkpoint_options).assert_consumed()\n",
    "    "
   ]
  },
  {
   "cell_type": "markdown",
   "id": "e01dad7b-5b96-49dc-a9c5-1130092e8bed",
   "metadata": {},
   "source": [
    "## next(val_dist_build_it)"
   ]
  },
  {
   "cell_type": "code",
   "execution_count": 21,
   "id": "b3772961-391c-460a-9c18-46c07e3ad5e8",
   "metadata": {},
   "outputs": [
    {
     "name": "stdout",
     "output_type": "stream",
     "text": [
      "WARNING:tensorflow:6 out of the last 6 calls to <function TPUExtended._tpu_function_creator.<locals>.tpu_function at 0x7f01143fa830> triggered tf.function retracing. Tracing is expensive and the excessive number of tracings could be due to (1) creating @tf.function repeatedly in a loop, (2) passing tensors with different shapes, (3) passing Python objects instead of tensors. For (1), please define your @tf.function outside of the loop. For (2), @tf.function has reduce_retracing=True option that can avoid unnecessary retracing. For (3), please refer to https://www.tensorflow.org/guide/function#controlling_retracing and https://www.tensorflow.org/api_docs/python/tf/function for  more details.\n"
     ]
    },
    {
     "name": "stderr",
     "output_type": "stream",
     "text": [
      "WARNING:tensorflow:6 out of the last 6 calls to <function TPUExtended._tpu_function_creator.<locals>.tpu_function at 0x7f01143fa830> triggered tf.function retracing. Tracing is expensive and the excessive number of tracings could be due to (1) creating @tf.function repeatedly in a loop, (2) passing tensors with different shapes, (3) passing Python objects instead of tensors. For (1), please define your @tf.function outside of the loop. For (2), @tf.function has reduce_retracing=True option that can avoid unnecessary retracing. For (3), please refer to https://www.tensorflow.org/guide/function#controlling_retracing and https://www.tensorflow.org/api_docs/python/tf/function for  more details.\n"
     ]
    }
   ],
   "source": [
    "with strategy.scope():\n",
    "    overall_step = 0\n",
    "    pearsons_list=[]\n",
    "    r2_list=[]\n",
    "    def dist_run_model(iterator):\n",
    "        @tf.function\n",
    "        def run_model(inputs):\n",
    "            sequence = inputs['sequence']\n",
    "            target = inputs['target'][:,:,4675:]\n",
    "            \n",
    "            tss_mask = inputs['tss_mask']\n",
    "            gene_name = inputs['gene_name']\n",
    "            \n",
    "            cell_types = inputs['cell_types']\n",
    "            return model(sequence,is_training=False)['human'][:,:,4675:],target,tss_mask,gene_name,cell_types\n",
    "        \n",
    "        dist_out,dist_target,tss_mask,gene_name,cell_types = strategy.run(run_model,\n",
    "                                args=(next(iterator),))\n",
    "        return dist_out,dist_target,tss_mask,gene_name,cell_types\n",
    "    \n",
    "    \n",
    "    pred_gene_cents_all = []\n",
    "    true_gene_cents_all = []\n",
    "    gene_names_all = []\n",
    "    cell_types_all = []\n",
    "    \n",
    "    for k,file in enumerate(list_files_val):\n",
    "        if k > 0:\n",
    "            continue\n",
    "\n",
    "        dataset = tf.data.TFRecordDataset(file,\n",
    "                                          compression_type='ZLIB',\n",
    "                                          num_parallel_reads=4)\n",
    "        dataset = dataset.with_options(options)\n",
    "        dataset = dataset.map(lambda record: deserialize_val_TSS(record,\n",
    "                                                         196608,\n",
    "                                                         10,\n",
    "                                                         896,\n",
    "                                                         5313),\n",
    "                              deterministic=False,\n",
    "                              num_parallel_calls=4)\n",
    "\n",
    "        dataset=dataset.repeat(1).batch(8).prefetch(1)\n",
    "        val_dist= strategy.experimental_distribute_dataset(dataset)\n",
    "        val_dist_it = iter(val_dist)\n",
    "\n",
    "        for step in range(32):\n",
    "            try:\n",
    "                dist_out,dist_target,dist_tss_mask,dist_gene_name,dist_cell_types = dist_run_model(val_dist_it)\n",
    "                \n",
    "                for i in range(8):\n",
    "                    dist_out_vals = dist_out.values[i]\n",
    "                    dist_target_vals = dist_target.values[i]\n",
    "                    dist_tss_mask_vals = dist_tss_mask.values[i]\n",
    "                    dist_gene_name_vals = dist_gene_name.values[i]\n",
    "                    dist_cell_types_vals = dist_cell_types.values[i]\n",
    "                    \n",
    "                    true_gene_cent = tf.reduce_sum((tf.cast(dist_target_vals,dtype=tf.float32) * tf.cast(dist_tss_mask_vals,dtype=tf.float32)),\n",
    "                                                   axis=1)\n",
    "                    pred_gene_cent = tf.reduce_sum(tf.cast(dist_out_vals,dtype=tf.float32) * tf.cast(dist_tss_mask_vals,dtype=tf.float32),\n",
    "                                                   axis=1)\n",
    "                    \n",
    "                    true_gene_cents_all.append(true_gene_cent[0,:].numpy())\n",
    "                    pred_gene_cents_all.append(pred_gene_cent[0,:].numpy())\n",
    "                    gene_names_all.append(dist_gene_name_vals[0,:].numpy())\n",
    "                    cell_types_all.append(dist_cell_types_vals[0,:].numpy())\n",
    "\n",
    "                    overall_step += 1\n",
    "                \n",
    "            except StopIteration:\n",
    "                print('reached end')\n",
    "                break\n",
    "        "
   ]
  },
  {
   "cell_type": "code",
   "execution_count": 26,
   "id": "95457fdb-2647-4efc-b1c5-9f2f70c555f9",
   "metadata": {},
   "outputs": [],
   "source": [
    "import pandas as pd\n",
    "from scipy.stats.stats import pearsonr, spearmanr\n",
    "from scipy.stats import zscore\n",
    "results_df = pd.DataFrame()\n",
    "results_df['true'] = np.concatenate(true_gene_cents_all,axis=0)\n",
    "results_df['pred'] = np.concatenate(pred_gene_cents_all,axis=0)\n",
    "results_df['gene_encoding']  =np.concatenate(gene_names_all,axis=0)\n",
    "results_df['cell_type_encoding'] = np.concatenate(cell_types_all,axis=0)\n",
    "\n",
    "results_df=results_df.groupby(['gene_encoding', 'cell_type_encoding']).agg({'true': 'sum', 'pred': 'sum'})\n",
    "\n",
    "results_df['true_zscore']=results_df.groupby(['cell_type_encoding']).true.transform(lambda x : zscore(x))\n",
    "results_df['pred_zscore']=results_df.groupby(['cell_type_encoding']).pred.transform(lambda x : zscore(x))\n",
    "\n",
    "true_zscore=results_df[['true_zscore']].to_numpy()[:,0]\n",
    "\n",
    "pred_zscore=results_df[['pred_zscore']].to_numpy()[:,0]\n",
    "\n",
    "cell_specific_corrs=results_df.groupby('cell_type_encoding')[['true_zscore','pred_zscore']].corr(method='pearson').unstack().iloc[:,1].tolist()"
   ]
  },
  {
   "cell_type": "code",
   "execution_count": 28,
   "id": "8e03e5ea-a120-4abe-baee-08a7836fb186",
   "metadata": {},
   "outputs": [
    {
     "data": {
      "text/plain": [
       "0.47793149458487727"
      ]
     },
     "execution_count": 28,
     "metadata": {},
     "output_type": "execute_result"
    }
   ],
   "source": [
    "np.mean(cell_specific_corrs)"
   ]
  },
  {
   "cell_type": "code",
   "execution_count": 30,
   "id": "832df46e-9797-4e8c-a29a-898dea0e8174",
   "metadata": {},
   "outputs": [
    {
     "data": {
      "text/html": [
       "<div>\n",
       "<style scoped>\n",
       "    .dataframe tbody tr th:only-of-type {\n",
       "        vertical-align: middle;\n",
       "    }\n",
       "\n",
       "    .dataframe tbody tr th {\n",
       "        vertical-align: top;\n",
       "    }\n",
       "\n",
       "    .dataframe thead th {\n",
       "        text-align: right;\n",
       "    }\n",
       "</style>\n",
       "<table border=\"1\" class=\"dataframe\">\n",
       "  <thead>\n",
       "    <tr style=\"text-align: right;\">\n",
       "      <th></th>\n",
       "      <th></th>\n",
       "      <th>true_zscore</th>\n",
       "      <th>pred_zscore</th>\n",
       "    </tr>\n",
       "    <tr>\n",
       "      <th>cell_type_encoding</th>\n",
       "      <th></th>\n",
       "      <th></th>\n",
       "      <th></th>\n",
       "    </tr>\n",
       "  </thead>\n",
       "  <tbody>\n",
       "    <tr>\n",
       "      <th rowspan=\"2\" valign=\"top\">0</th>\n",
       "      <th>true_zscore</th>\n",
       "      <td>1.000000</td>\n",
       "      <td>0.136402</td>\n",
       "    </tr>\n",
       "    <tr>\n",
       "      <th>pred_zscore</th>\n",
       "      <td>0.136402</td>\n",
       "      <td>1.000000</td>\n",
       "    </tr>\n",
       "    <tr>\n",
       "      <th rowspan=\"2\" valign=\"top\">1</th>\n",
       "      <th>true_zscore</th>\n",
       "      <td>1.000000</td>\n",
       "      <td>0.076286</td>\n",
       "    </tr>\n",
       "    <tr>\n",
       "      <th>pred_zscore</th>\n",
       "      <td>0.076286</td>\n",
       "      <td>1.000000</td>\n",
       "    </tr>\n",
       "    <tr>\n",
       "      <th>2</th>\n",
       "      <th>true_zscore</th>\n",
       "      <td>1.000000</td>\n",
       "      <td>0.149145</td>\n",
       "    </tr>\n",
       "    <tr>\n",
       "      <th>...</th>\n",
       "      <th>...</th>\n",
       "      <td>...</td>\n",
       "      <td>...</td>\n",
       "    </tr>\n",
       "    <tr>\n",
       "      <th>635</th>\n",
       "      <th>pred_zscore</th>\n",
       "      <td>0.320477</td>\n",
       "      <td>1.000000</td>\n",
       "    </tr>\n",
       "    <tr>\n",
       "      <th rowspan=\"2\" valign=\"top\">636</th>\n",
       "      <th>true_zscore</th>\n",
       "      <td>1.000000</td>\n",
       "      <td>0.618767</td>\n",
       "    </tr>\n",
       "    <tr>\n",
       "      <th>pred_zscore</th>\n",
       "      <td>0.618767</td>\n",
       "      <td>1.000000</td>\n",
       "    </tr>\n",
       "    <tr>\n",
       "      <th rowspan=\"2\" valign=\"top\">637</th>\n",
       "      <th>true_zscore</th>\n",
       "      <td>1.000000</td>\n",
       "      <td>0.659398</td>\n",
       "    </tr>\n",
       "    <tr>\n",
       "      <th>pred_zscore</th>\n",
       "      <td>0.659398</td>\n",
       "      <td>1.000000</td>\n",
       "    </tr>\n",
       "  </tbody>\n",
       "</table>\n",
       "<p>1276 rows × 2 columns</p>\n",
       "</div>"
      ],
      "text/plain": [
       "                                true_zscore  pred_zscore\n",
       "cell_type_encoding                                      \n",
       "0                  true_zscore     1.000000     0.136402\n",
       "                   pred_zscore     0.136402     1.000000\n",
       "1                  true_zscore     1.000000     0.076286\n",
       "                   pred_zscore     0.076286     1.000000\n",
       "2                  true_zscore     1.000000     0.149145\n",
       "...                                     ...          ...\n",
       "635                pred_zscore     0.320477     1.000000\n",
       "636                true_zscore     1.000000     0.618767\n",
       "                   pred_zscore     0.618767     1.000000\n",
       "637                true_zscore     1.000000     0.659398\n",
       "                   pred_zscore     0.659398     1.000000\n",
       "\n",
       "[1276 rows x 2 columns]"
      ]
     },
     "execution_count": 30,
     "metadata": {},
     "output_type": "execute_result"
    }
   ],
   "source": [
    "results_df.groupby('cell_type_encoding')[['true_zscore','pred_zscore']].corr(method='pearson')"
   ]
  },
  {
   "cell_type": "code",
   "execution_count": 7,
   "id": "9b5ce926-ba04-4a7a-988f-7ced520ce6a1",
   "metadata": {},
   "outputs": [],
   "source": [
    "import tensorflow as tf\n",
    "def deserialize_val_TSS(serialized_example):\n",
    "    \"\"\"Deserialize bytes stored in TFRecordFile.\"\"\"\n",
    "    feature_map = {\n",
    "        'sequence': tf.io.FixedLenFeature([], tf.string),\n",
    "        'target': tf.io.FixedLenFeature([], tf.string)\n",
    "    }\n",
    "    \n",
    "    example = tf.io.parse_example(serialized_example, feature_map)\n",
    "\n",
    "\n",
    "    example = tf.io.parse_example(serialized_example, feature_map)\n",
    "    sequence = tf.io.decode_raw(example['sequence'], tf.bool)\n",
    "    sequence = tf.reshape(sequence, (393216 + 10, 4))\n",
    "    sequence = tf.cast(sequence, tf.float32)\n",
    "    sequence = tf.slice(sequence, [5,0],[393216,-1])\n",
    "    \n",
    "    target = tf.io.decode_raw(example['target'], tf.float16)\n",
    "    target = tf.reshape(target,\n",
    "                        (896, 5313))\n",
    "    \n",
    "\n",
    "    return {'sequence': tf.ensure_shape(sequence,\n",
    "                                        [393216,4]),\n",
    "            'target': tf.ensure_shape(target,\n",
    "                                      [896,5313])}\n",
    "\n",
    "dataset_build = tf.data.TFRecordDataset(\"gs://genformer_data/expanded_originals/393k/human/tfrecords/train-0-0.tfr\",\n",
    "                                  compression_type='ZLIB',\n",
    "                                  num_parallel_reads=4)\n",
    "#dataset_build = dataset_build.with_options(options)\n",
    "dataset_build = dataset_build.map(lambda record: deserialize_val_TSS(record),\n",
    "                      deterministic=False,\n",
    "                      num_parallel_calls=4)\n",
    "\n",
    "\n",
    "dataset_build=dataset_build.repeat(1).batch(1).prefetch(1)\n",
    "#val_dist_build= strategy.experimental_distribute_dataset(dataset_build)\n",
    "val_dist_build_it = iter(dataset_build)\n",
    "out=next(val_dist_build_it)"
   ]
  },
  {
   "cell_type": "code",
   "execution_count": 11,
   "id": "fae6e2af-0e9a-413d-9fb7-c41a02d58f32",
   "metadata": {},
   "outputs": [
    {
     "data": {
      "text/plain": [
       "<tf.Tensor: shape=(25, 4), dtype=float32, numpy=\n",
       "array([[0., 0., 1., 0.],\n",
       "       [0., 0., 0., 1.],\n",
       "       [0., 0., 0., 1.],\n",
       "       [0., 1., 0., 0.],\n",
       "       [0., 0., 0., 1.],\n",
       "       [1., 0., 0., 0.],\n",
       "       [0., 0., 0., 1.],\n",
       "       [0., 1., 0., 0.],\n",
       "       [1., 0., 0., 0.],\n",
       "       [1., 0., 0., 0.],\n",
       "       [0., 0., 0., 1.],\n",
       "       [0., 1., 0., 0.],\n",
       "       [0., 1., 0., 0.],\n",
       "       [0., 1., 0., 0.],\n",
       "       [0., 1., 0., 0.],\n",
       "       [0., 1., 0., 0.],\n",
       "       [0., 0., 0., 1.],\n",
       "       [1., 0., 0., 0.],\n",
       "       [1., 0., 0., 0.],\n",
       "       [1., 0., 0., 0.],\n",
       "       [1., 0., 0., 0.],\n",
       "       [1., 0., 0., 0.],\n",
       "       [1., 0., 0., 0.],\n",
       "       [1., 0., 0., 0.],\n",
       "       [0., 1., 0., 0.]], dtype=float32)>"
      ]
     },
     "execution_count": 11,
     "metadata": {},
     "output_type": "execute_result"
    }
   ],
   "source": [
    "out['sequence'][0,:25,:]"
   ]
  },
  {
   "cell_type": "code",
   "execution_count": 6,
   "id": "8513d049-9d9d-4ae1-843c-045227ebed59",
   "metadata": {},
   "outputs": [],
   "source": [
    "import pandas as pd\n",
    "import numpy as np"
   ]
  },
  {
   "cell_type": "code",
   "execution_count": 7,
   "id": "01721285-2977-4c19-a0cc-25c68814bb47",
   "metadata": {},
   "outputs": [],
   "source": [
    "results_df = pd.read_csv('gene_level_predictions.tsv',sep='\\t')"
   ]
  },
  {
   "cell_type": "code",
   "execution_count": 8,
   "id": "88ee6f47-2094-4339-9901-212b550781df",
   "metadata": {},
   "outputs": [
    {
     "ename": "KeyError",
     "evalue": "'gene_encoding'",
     "output_type": "error",
     "traceback": [
      "\u001b[0;31m---------------------------------------------------------------------------\u001b[0m",
      "\u001b[0;31mKeyError\u001b[0m                                  Traceback (most recent call last)",
      "\u001b[0;32m/tmp/ipykernel_3400/3869008323.py\u001b[0m in \u001b[0;36m<module>\u001b[0;34m\u001b[0m\n\u001b[0;32m----> 1\u001b[0;31m \u001b[0mresults_df\u001b[0m\u001b[0;34m=\u001b[0m\u001b[0mresults_df\u001b[0m\u001b[0;34m.\u001b[0m\u001b[0mgroupby\u001b[0m\u001b[0;34m(\u001b[0m\u001b[0;34m[\u001b[0m\u001b[0;34m'gene_encoding'\u001b[0m\u001b[0;34m,\u001b[0m \u001b[0;34m'cell_type_encoding'\u001b[0m\u001b[0;34m]\u001b[0m\u001b[0;34m)\u001b[0m\u001b[0;34m.\u001b[0m\u001b[0magg\u001b[0m\u001b[0;34m(\u001b[0m\u001b[0;34m{\u001b[0m\u001b[0;34m'true'\u001b[0m\u001b[0;34m:\u001b[0m \u001b[0;34m'sum'\u001b[0m\u001b[0;34m,\u001b[0m \u001b[0;34m'pred'\u001b[0m\u001b[0;34m:\u001b[0m \u001b[0;34m'sum'\u001b[0m\u001b[0;34m}\u001b[0m\u001b[0;34m)\u001b[0m\u001b[0;34m\u001b[0m\u001b[0;34m\u001b[0m\u001b[0m\n\u001b[0m\u001b[1;32m      2\u001b[0m \u001b[0mresults_df\u001b[0m\u001b[0;34m[\u001b[0m\u001b[0;34m'true'\u001b[0m\u001b[0;34m]\u001b[0m \u001b[0;34m=\u001b[0m \u001b[0mnp\u001b[0m\u001b[0;34m.\u001b[0m\u001b[0mlog2\u001b[0m\u001b[0;34m(\u001b[0m\u001b[0;36m1.0\u001b[0m\u001b[0;34m+\u001b[0m\u001b[0mresults_df\u001b[0m\u001b[0;34m[\u001b[0m\u001b[0;34m'true'\u001b[0m\u001b[0;34m]\u001b[0m\u001b[0;34m)\u001b[0m\u001b[0;34m\u001b[0m\u001b[0;34m\u001b[0m\u001b[0m\n\u001b[1;32m      3\u001b[0m \u001b[0mresults_df\u001b[0m\u001b[0;34m[\u001b[0m\u001b[0;34m'pred'\u001b[0m\u001b[0;34m]\u001b[0m \u001b[0;34m=\u001b[0m \u001b[0mnp\u001b[0m\u001b[0;34m.\u001b[0m\u001b[0mlog2\u001b[0m\u001b[0;34m(\u001b[0m\u001b[0;36m1.0\u001b[0m\u001b[0;34m+\u001b[0m\u001b[0mresults_df\u001b[0m\u001b[0;34m[\u001b[0m\u001b[0;34m'pred'\u001b[0m\u001b[0;34m]\u001b[0m\u001b[0;34m)\u001b[0m\u001b[0;34m\u001b[0m\u001b[0;34m\u001b[0m\u001b[0m\n\u001b[1;32m      4\u001b[0m \u001b[0;34m\u001b[0m\u001b[0m\n\u001b[1;32m      5\u001b[0m \u001b[0;32mtry\u001b[0m\u001b[0;34m:\u001b[0m\u001b[0;34m\u001b[0m\u001b[0;34m\u001b[0m\u001b[0m\n",
      "\u001b[0;32m/opt/conda/lib/python3.7/site-packages/pandas/core/frame.py\u001b[0m in \u001b[0;36mgroupby\u001b[0;34m(self, by, axis, level, as_index, sort, group_keys, squeeze, observed, dropna)\u001b[0m\n\u001b[1;32m   7639\u001b[0m             \u001b[0msqueeze\u001b[0m\u001b[0;34m=\u001b[0m\u001b[0msqueeze\u001b[0m\u001b[0;34m,\u001b[0m  \u001b[0;31m# type: ignore[arg-type]\u001b[0m\u001b[0;34m\u001b[0m\u001b[0;34m\u001b[0m\u001b[0m\n\u001b[1;32m   7640\u001b[0m             \u001b[0mobserved\u001b[0m\u001b[0;34m=\u001b[0m\u001b[0mobserved\u001b[0m\u001b[0;34m,\u001b[0m\u001b[0;34m\u001b[0m\u001b[0;34m\u001b[0m\u001b[0m\n\u001b[0;32m-> 7641\u001b[0;31m             \u001b[0mdropna\u001b[0m\u001b[0;34m=\u001b[0m\u001b[0mdropna\u001b[0m\u001b[0;34m,\u001b[0m\u001b[0;34m\u001b[0m\u001b[0;34m\u001b[0m\u001b[0m\n\u001b[0m\u001b[1;32m   7642\u001b[0m         )\n\u001b[1;32m   7643\u001b[0m \u001b[0;34m\u001b[0m\u001b[0m\n",
      "\u001b[0;32m/opt/conda/lib/python3.7/site-packages/pandas/core/groupby/groupby.py\u001b[0m in \u001b[0;36m__init__\u001b[0;34m(self, obj, keys, axis, level, grouper, exclusions, selection, as_index, sort, group_keys, squeeze, observed, mutated, dropna)\u001b[0m\n\u001b[1;32m    895\u001b[0m                 \u001b[0mobserved\u001b[0m\u001b[0;34m=\u001b[0m\u001b[0mobserved\u001b[0m\u001b[0;34m,\u001b[0m\u001b[0;34m\u001b[0m\u001b[0;34m\u001b[0m\u001b[0m\n\u001b[1;32m    896\u001b[0m                 \u001b[0mmutated\u001b[0m\u001b[0;34m=\u001b[0m\u001b[0mself\u001b[0m\u001b[0;34m.\u001b[0m\u001b[0mmutated\u001b[0m\u001b[0;34m,\u001b[0m\u001b[0;34m\u001b[0m\u001b[0;34m\u001b[0m\u001b[0m\n\u001b[0;32m--> 897\u001b[0;31m                 \u001b[0mdropna\u001b[0m\u001b[0;34m=\u001b[0m\u001b[0mself\u001b[0m\u001b[0;34m.\u001b[0m\u001b[0mdropna\u001b[0m\u001b[0;34m,\u001b[0m\u001b[0;34m\u001b[0m\u001b[0;34m\u001b[0m\u001b[0m\n\u001b[0m\u001b[1;32m    898\u001b[0m             )\n\u001b[1;32m    899\u001b[0m \u001b[0;34m\u001b[0m\u001b[0m\n",
      "\u001b[0;32m/opt/conda/lib/python3.7/site-packages/pandas/core/groupby/grouper.py\u001b[0m in \u001b[0;36mget_grouper\u001b[0;34m(obj, key, axis, level, sort, observed, mutated, validate, dropna)\u001b[0m\n\u001b[1;32m    860\u001b[0m                 \u001b[0min_axis\u001b[0m\u001b[0;34m,\u001b[0m \u001b[0mlevel\u001b[0m\u001b[0;34m,\u001b[0m \u001b[0mgpr\u001b[0m \u001b[0;34m=\u001b[0m \u001b[0;32mFalse\u001b[0m\u001b[0;34m,\u001b[0m \u001b[0mgpr\u001b[0m\u001b[0;34m,\u001b[0m \u001b[0;32mNone\u001b[0m\u001b[0;34m\u001b[0m\u001b[0;34m\u001b[0m\u001b[0m\n\u001b[1;32m    861\u001b[0m             \u001b[0;32melse\u001b[0m\u001b[0;34m:\u001b[0m\u001b[0;34m\u001b[0m\u001b[0;34m\u001b[0m\u001b[0m\n\u001b[0;32m--> 862\u001b[0;31m                 \u001b[0;32mraise\u001b[0m \u001b[0mKeyError\u001b[0m\u001b[0;34m(\u001b[0m\u001b[0mgpr\u001b[0m\u001b[0;34m)\u001b[0m\u001b[0;34m\u001b[0m\u001b[0;34m\u001b[0m\u001b[0m\n\u001b[0m\u001b[1;32m    863\u001b[0m         \u001b[0;32melif\u001b[0m \u001b[0misinstance\u001b[0m\u001b[0;34m(\u001b[0m\u001b[0mgpr\u001b[0m\u001b[0;34m,\u001b[0m \u001b[0mGrouper\u001b[0m\u001b[0;34m)\u001b[0m \u001b[0;32mand\u001b[0m \u001b[0mgpr\u001b[0m\u001b[0;34m.\u001b[0m\u001b[0mkey\u001b[0m \u001b[0;32mis\u001b[0m \u001b[0;32mnot\u001b[0m \u001b[0;32mNone\u001b[0m\u001b[0;34m:\u001b[0m\u001b[0;34m\u001b[0m\u001b[0;34m\u001b[0m\u001b[0m\n\u001b[1;32m    864\u001b[0m             \u001b[0;31m# Add key to exclusions\u001b[0m\u001b[0;34m\u001b[0m\u001b[0;34m\u001b[0m\u001b[0;34m\u001b[0m\u001b[0m\n",
      "\u001b[0;31mKeyError\u001b[0m: 'gene_encoding'"
     ]
    }
   ],
   "source": [
    "results_df=results_df.groupby(['gene_encoding', 'cell_type_encoding']).agg({'true': 'sum', 'pred': 'sum'})\n",
    "results_df['true'] = np.log2(1.0+results_df['true'])\n",
    "results_df['pred'] = np.log2(1.0+results_df['pred'])\n",
    "\n",
    "try: \n",
    "    cell_specific_corrs=results_df.groupby('cell_type_encoding')[['true_zscore','pred_zscore']].corr(method='pearson').unstack().iloc[:,1].tolist()\n",
    "except np.linalg.LinAlgError as err:\n",
    "    cell_specific_corrs = [0.0] * len(np.unique(cell_types))\n",
    "\n",
    "try: \n",
    "    gene_specific_corrs=results_df.groupby('gene_encoding')[['true_zscore','pred_zscore']].corr(method='pearson').unstack().iloc[:,1].tolist()\n",
    "except np.linalg.LinAlgError as err:\n",
    "    gene_specific_corrs = [0.0] * len(np.unique(gene_map))\n",
    "\n",
    "corrs_overall = np.nanmean(cell_specific_corrs), \\\n",
    "                    np.nanmean(gene_specific_corrs)"
   ]
  },
  {
   "cell_type": "code",
   "execution_count": 9,
   "id": "58767c44-56f6-4baa-8793-0ffa5668cdf9",
   "metadata": {},
   "outputs": [
    {
     "data": {
      "text/html": [
       "<div>\n",
       "<style scoped>\n",
       "    .dataframe tbody tr th:only-of-type {\n",
       "        vertical-align: middle;\n",
       "    }\n",
       "\n",
       "    .dataframe tbody tr th {\n",
       "        vertical-align: top;\n",
       "    }\n",
       "\n",
       "    .dataframe thead th {\n",
       "        text-align: right;\n",
       "    }\n",
       "</style>\n",
       "<table border=\"1\" class=\"dataframe\">\n",
       "  <thead>\n",
       "    <tr style=\"text-align: right;\">\n",
       "      <th></th>\n",
       "      <th>true</th>\n",
       "      <th>pred</th>\n",
       "      <th>true_zscore</th>\n",
       "      <th>pred_zscore</th>\n",
       "    </tr>\n",
       "  </thead>\n",
       "  <tbody>\n",
       "    <tr>\n",
       "      <th>0</th>\n",
       "      <td>8.473462</td>\n",
       "      <td>8.681625</td>\n",
       "      <td>0.853461</td>\n",
       "      <td>0.950524</td>\n",
       "    </tr>\n",
       "    <tr>\n",
       "      <th>1</th>\n",
       "      <td>8.804750</td>\n",
       "      <td>7.921510</td>\n",
       "      <td>1.303997</td>\n",
       "      <td>1.060832</td>\n",
       "    </tr>\n",
       "    <tr>\n",
       "      <th>2</th>\n",
       "      <td>8.827936</td>\n",
       "      <td>8.042851</td>\n",
       "      <td>1.261695</td>\n",
       "      <td>1.049663</td>\n",
       "    </tr>\n",
       "    <tr>\n",
       "      <th>3</th>\n",
       "      <td>7.849972</td>\n",
       "      <td>7.451152</td>\n",
       "      <td>1.178418</td>\n",
       "      <td>1.065244</td>\n",
       "    </tr>\n",
       "    <tr>\n",
       "      <th>4</th>\n",
       "      <td>7.515326</td>\n",
       "      <td>7.903860</td>\n",
       "      <td>0.888531</td>\n",
       "      <td>1.057324</td>\n",
       "    </tr>\n",
       "    <tr>\n",
       "      <th>...</th>\n",
       "      <td>...</td>\n",
       "      <td>...</td>\n",
       "      <td>...</td>\n",
       "      <td>...</td>\n",
       "    </tr>\n",
       "    <tr>\n",
       "      <th>1031641</th>\n",
       "      <td>6.978035</td>\n",
       "      <td>6.129662</td>\n",
       "      <td>1.834530</td>\n",
       "      <td>1.469072</td>\n",
       "    </tr>\n",
       "    <tr>\n",
       "      <th>1031642</th>\n",
       "      <td>7.423812</td>\n",
       "      <td>6.144497</td>\n",
       "      <td>1.659949</td>\n",
       "      <td>1.261396</td>\n",
       "    </tr>\n",
       "    <tr>\n",
       "      <th>1031643</th>\n",
       "      <td>6.003384</td>\n",
       "      <td>5.271635</td>\n",
       "      <td>1.465065</td>\n",
       "      <td>1.354486</td>\n",
       "    </tr>\n",
       "    <tr>\n",
       "      <th>1031644</th>\n",
       "      <td>8.865876</td>\n",
       "      <td>8.291864</td>\n",
       "      <td>1.403999</td>\n",
       "      <td>1.274530</td>\n",
       "    </tr>\n",
       "    <tr>\n",
       "      <th>1031645</th>\n",
       "      <td>8.527779</td>\n",
       "      <td>8.022845</td>\n",
       "      <td>1.472783</td>\n",
       "      <td>1.328615</td>\n",
       "    </tr>\n",
       "  </tbody>\n",
       "</table>\n",
       "<p>1031646 rows × 4 columns</p>\n",
       "</div>"
      ],
      "text/plain": [
       "             true      pred  true_zscore  pred_zscore\n",
       "0        8.473462  8.681625     0.853461     0.950524\n",
       "1        8.804750  7.921510     1.303997     1.060832\n",
       "2        8.827936  8.042851     1.261695     1.049663\n",
       "3        7.849972  7.451152     1.178418     1.065244\n",
       "4        7.515326  7.903860     0.888531     1.057324\n",
       "...           ...       ...          ...          ...\n",
       "1031641  6.978035  6.129662     1.834530     1.469072\n",
       "1031642  7.423812  6.144497     1.659949     1.261396\n",
       "1031643  6.003384  5.271635     1.465065     1.354486\n",
       "1031644  8.865876  8.291864     1.403999     1.274530\n",
       "1031645  8.527779  8.022845     1.472783     1.328615\n",
       "\n",
       "[1031646 rows x 4 columns]"
      ]
     },
     "execution_count": 9,
     "metadata": {},
     "output_type": "execute_result"
    }
   ],
   "source": [
    "results_df"
   ]
  },
  {
   "cell_type": "code",
   "execution_count": null,
   "id": "11eff233-2c6e-49f5-96c5-6e37030a46b3",
   "metadata": {},
   "outputs": [],
   "source": []
  }
 ],
 "metadata": {
  "environment": {
   "name": "tf2-cpu.2-6.m81",
   "type": "gcloud",
   "uri": "gcr.io/deeplearning-platform-release/tf2-cpu.2-6:m81"
  },
  "kernelspec": {
   "display_name": "Python 3",
   "language": "python",
   "name": "python3"
  },
  "language_info": {
   "codemirror_mode": {
    "name": "ipython",
    "version": 3
   },
   "file_extension": ".py",
   "mimetype": "text/x-python",
   "name": "python",
   "nbconvert_exporter": "python",
   "pygments_lexer": "ipython3",
   "version": "3.7.10"
  }
 },
 "nbformat": 4,
 "nbformat_minor": 5
}
