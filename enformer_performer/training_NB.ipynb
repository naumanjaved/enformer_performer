{
 "cells": [
  {
   "cell_type": "code",
   "execution_count": 1,
   "id": "f0f91784-f159-4d80-a394-1c57ea7d900c",
   "metadata": {},
   "outputs": [
    {
     "name": "stderr",
     "output_type": "stream",
     "text": [
      "2023-01-18 02:51:28.196947: I tensorflow/core/platform/cpu_feature_guard.cc:193] This TensorFlow binary is optimized with oneAPI Deep Neural Network Library (oneDNN) to use the following CPU instructions in performance-critical operations:  AVX2 FMA\n",
      "To enable them in other operations, rebuild TensorFlow with the appropriate compiler flags.\n",
      "2023-01-18 02:51:28.372947: W tensorflow/compiler/xla/stream_executor/platform/default/dso_loader.cc:64] Could not load dynamic library 'libcudart.so.11.0'; dlerror: libcudart.so.11.0: cannot open shared object file: No such file or directory\n",
      "2023-01-18 02:51:28.372993: I tensorflow/compiler/xla/stream_executor/cuda/cudart_stub.cc:29] Ignore above cudart dlerror if you do not have a GPU set up on your machine.\n",
      "2023-01-18 02:51:29.318048: W tensorflow/compiler/xla/stream_executor/platform/default/dso_loader.cc:64] Could not load dynamic library 'libnvinfer.so.7'; dlerror: libnvinfer.so.7: cannot open shared object file: No such file or directory\n",
      "2023-01-18 02:51:29.318220: W tensorflow/compiler/xla/stream_executor/platform/default/dso_loader.cc:64] Could not load dynamic library 'libnvinfer_plugin.so.7'; dlerror: libnvinfer_plugin.so.7: cannot open shared object file: No such file or directory\n",
      "2023-01-18 02:51:29.318236: W tensorflow/compiler/tf2tensorrt/utils/py_utils.cc:38] TF-TRT Warning: Cannot dlopen some TensorRT libraries. If you would like to use Nvidia GPU with TensorRT, please make sure the missing libraries mentioned above are installed properly.\n"
     ]
    },
    {
     "ename": "ValueError",
     "evalue": "Custom>sinusoidal has already been registered to <function sinusoidal at 0x7f0faf14bf80>",
     "output_type": "error",
     "traceback": [
      "\u001b[0;31m---------------------------------------------------------------------------\u001b[0m",
      "\u001b[0;31mValueError\u001b[0m                                Traceback (most recent call last)",
      "\u001b[0;32m/tmp/ipykernel_9844/975736446.py\u001b[0m in \u001b[0;36m<module>\u001b[0;34m\u001b[0m\n\u001b[1;32m     42\u001b[0m \u001b[0;32mimport\u001b[0m \u001b[0mtraining_utils_enformer_performer\u001b[0m \u001b[0;32mas\u001b[0m \u001b[0mtraining_utils\u001b[0m\u001b[0;34m\u001b[0m\u001b[0;34m\u001b[0m\u001b[0m\n\u001b[1;32m     43\u001b[0m \u001b[0;34m\u001b[0m\u001b[0m\n\u001b[0;32m---> 44\u001b[0;31m \u001b[0;32mimport\u001b[0m \u001b[0menformer_performer\u001b[0m \u001b[0;32mas\u001b[0m \u001b[0menformer_performer\u001b[0m\u001b[0;34m\u001b[0m\u001b[0;34m\u001b[0m\u001b[0m\n\u001b[0m\u001b[1;32m     45\u001b[0m \u001b[0;34m\u001b[0m\u001b[0m\n\u001b[1;32m     46\u001b[0m \u001b[0;32mfrom\u001b[0m \u001b[0mscipy\u001b[0m \u001b[0;32mimport\u001b[0m \u001b[0mstats\u001b[0m\u001b[0;34m\u001b[0m\u001b[0;34m\u001b[0m\u001b[0m\n",
      "\u001b[0;32m~/dev/genformer_public/enformer_batch_norm_experiments/enformer_performer.py\u001b[0m in \u001b[0;36m<module>\u001b[0;34m\u001b[0m\n\u001b[1;32m     10\u001b[0m \u001b[0;34m\u001b[0m\u001b[0m\n\u001b[1;32m     11\u001b[0m \u001b[0;32mfrom\u001b[0m \u001b[0mtensorflow\u001b[0m\u001b[0;34m.\u001b[0m\u001b[0mkeras\u001b[0m\u001b[0;34m.\u001b[0m\u001b[0mlayers\u001b[0m\u001b[0;34m.\u001b[0m\u001b[0mexperimental\u001b[0m \u001b[0;32mimport\u001b[0m \u001b[0mSyncBatchNormalization\u001b[0m \u001b[0;32mas\u001b[0m \u001b[0msyncbatchnorm\u001b[0m\u001b[0;34m\u001b[0m\u001b[0;34m\u001b[0m\u001b[0m\n\u001b[0;32m---> 12\u001b[0;31m \u001b[0;32mfrom\u001b[0m \u001b[0mlayers\u001b[0m \u001b[0;32mimport\u001b[0m \u001b[0;34m*\u001b[0m\u001b[0;34m\u001b[0m\u001b[0;34m\u001b[0m\u001b[0m\n\u001b[0m\u001b[1;32m     13\u001b[0m \u001b[0;34m\u001b[0m\u001b[0m\n\u001b[1;32m     14\u001b[0m \u001b[0mSEQUENCE_LENGTH\u001b[0m\u001b[0;34m=\u001b[0m\u001b[0;36m196608\u001b[0m\u001b[0;34m\u001b[0m\u001b[0;34m\u001b[0m\u001b[0m\n",
      "\u001b[0;32m~/dev/genformer_public/enformer_batch_norm_experiments/layers.py\u001b[0m in \u001b[0;36m<module>\u001b[0;34m\u001b[0m\n\u001b[1;32m    646\u001b[0m \u001b[0;34m\u001b[0m\u001b[0m\n\u001b[1;32m    647\u001b[0m \u001b[0;34m\u001b[0m\u001b[0m\n\u001b[0;32m--> 648\u001b[0;31m \u001b[0;34m@\u001b[0m\u001b[0mtf\u001b[0m\u001b[0;34m.\u001b[0m\u001b[0mkeras\u001b[0m\u001b[0;34m.\u001b[0m\u001b[0mutils\u001b[0m\u001b[0;34m.\u001b[0m\u001b[0mregister_keras_serializable\u001b[0m\u001b[0;34m(\u001b[0m\u001b[0;34m)\u001b[0m\u001b[0;34m\u001b[0m\u001b[0;34m\u001b[0m\u001b[0m\n\u001b[0m\u001b[1;32m    649\u001b[0m \u001b[0;32mdef\u001b[0m \u001b[0msinusoidal\u001b[0m\u001b[0;34m(\u001b[0m\u001b[0minput_shape\u001b[0m\u001b[0;34m)\u001b[0m\u001b[0;34m:\u001b[0m\u001b[0;34m\u001b[0m\u001b[0;34m\u001b[0m\u001b[0m\n\u001b[1;32m    650\u001b[0m     '''\n",
      "\u001b[0;32m/opt/conda/lib/python3.7/site-packages/keras/saving/object_registration.py\u001b[0m in \u001b[0;36mdecorator\u001b[0;34m(arg)\u001b[0m\n\u001b[1;32m    147\u001b[0m         \u001b[0;32mif\u001b[0m \u001b[0mregistered_name\u001b[0m \u001b[0;32min\u001b[0m \u001b[0m_GLOBAL_CUSTOM_OBJECTS\u001b[0m\u001b[0;34m:\u001b[0m\u001b[0;34m\u001b[0m\u001b[0;34m\u001b[0m\u001b[0m\n\u001b[1;32m    148\u001b[0m             raise ValueError(\n\u001b[0;32m--> 149\u001b[0;31m                 \u001b[0;34mf\"{registered_name} has already been registered to \"\u001b[0m\u001b[0;34m\u001b[0m\u001b[0;34m\u001b[0m\u001b[0m\n\u001b[0m\u001b[1;32m    150\u001b[0m                 \u001b[0;34mf\"{_GLOBAL_CUSTOM_OBJECTS[registered_name]}\"\u001b[0m\u001b[0;34m\u001b[0m\u001b[0;34m\u001b[0m\u001b[0m\n\u001b[1;32m    151\u001b[0m             )\n",
      "\u001b[0;31mValueError\u001b[0m: Custom>sinusoidal has already been registered to <function sinusoidal at 0x7f0faf14bf80>"
     ]
    }
   ],
   "source": [
    "import time\n",
    "import os\n",
    "import subprocess\n",
    "import sys\n",
    "import re\n",
    "import argparse\n",
    "import collections\n",
    "import gzip\n",
    "import math\n",
    "import shutil\n",
    "\n",
    "\n",
    "\n",
    "import matplotlib.pyplot as plt\n",
    "import wandb\n",
    "import numpy as np\n",
    "import time\n",
    "from datetime import datetime\n",
    "import random\n",
    "\n",
    "import seaborn as sns\n",
    "%matplotlib inline\n",
    "import logging\n",
    "from silence_tensorflow import silence_tensorflow\n",
    "#silence_tensorflow()\n",
    "#os.environ['TPU_LOAD_LIBRARY']='0'\n",
    "os.environ['TF_ENABLE_EAGER_CLIENT_STREAMING_ENQUEUE']='False'\n",
    "import tensorflow as tf\n",
    "\n",
    "\n",
    "import tensorflow.experimental.numpy as tnp\n",
    "import tensorflow_addons as tfa\n",
    "from tensorflow import strings as tfs\n",
    "from tensorflow.keras import mixed_precision\n",
    "from scipy.stats.stats import pearsonr  \n",
    "from scipy.stats.stats import spearmanr  \n",
    "## custom modules\n",
    "import metrics as metrics\n",
    "from optimizers import *\n",
    "import schedulers as schedulers\n",
    "\n",
    "import training_utils_enformer_performer as training_utils\n",
    "\n",
    "import enformer_performer as enformer_performer\n",
    "\n",
    "from scipy import stats\n"
   ]
  },
  {
   "cell_type": "code",
   "execution_count": 2,
   "id": "d33684ed-393f-4af6-83b8-ed8150d9be72",
   "metadata": {},
   "outputs": [
    {
     "name": "stderr",
     "output_type": "stream",
     "text": [
      "2022-12-28 02:08:13.498255: W tensorflow/compiler/xla/stream_executor/platform/default/dso_loader.cc:64] Could not load dynamic library 'libcuda.so.1'; dlerror: libcuda.so.1: cannot open shared object file: No such file or directory\n",
      "2022-12-28 02:08:13.498309: W tensorflow/compiler/xla/stream_executor/cuda/cuda_driver.cc:265] failed call to cuInit: UNKNOWN ERROR (303)\n",
      "2022-12-28 02:08:13.498332: I tensorflow/compiler/xla/stream_executor/cuda/cuda_diagnostics.cc:156] kernel driver does not appear to be running on this host (tpu-genformer-v2-6): /proc/driver/nvidia/version does not exist\n"
     ]
    },
    {
     "name": "stdout",
     "output_type": "stream",
     "text": [
      "INFO:tensorflow:Deallocate tpu buffers before initializing tpu system.\n"
     ]
    },
    {
     "name": "stderr",
     "output_type": "stream",
     "text": [
      "2022-12-28 02:08:13.783057: I tensorflow/core/platform/cpu_feature_guard.cc:193] This TensorFlow binary is optimized with oneAPI Deep Neural Network Library (oneDNN) to use the following CPU instructions in performance-critical operations:  AVX2 FMA\n",
      "To enable them in other operations, rebuild TensorFlow with the appropriate compiler flags.\n",
      "INFO:tensorflow:Deallocate tpu buffers before initializing tpu system.\n",
      "2022-12-28 02:08:13.820446: I tensorflow/core/distributed_runtime/rpc/grpc_server_lib.cc:447] Started server with target: grpc://localhost:49556\n"
     ]
    },
    {
     "name": "stdout",
     "output_type": "stream",
     "text": [
      "INFO:tensorflow:Initializing the TPU system: node-5\n"
     ]
    },
    {
     "name": "stderr",
     "output_type": "stream",
     "text": [
      "INFO:tensorflow:Initializing the TPU system: node-5\n"
     ]
    },
    {
     "name": "stdout",
     "output_type": "stream",
     "text": [
      "INFO:tensorflow:Finished initializing TPU system.\n"
     ]
    },
    {
     "name": "stderr",
     "output_type": "stream",
     "text": [
      "INFO:tensorflow:Finished initializing TPU system.\n"
     ]
    },
    {
     "name": "stdout",
     "output_type": "stream",
     "text": [
      "INFO:tensorflow:Found TPU system:\n"
     ]
    },
    {
     "name": "stderr",
     "output_type": "stream",
     "text": [
      "INFO:tensorflow:Found TPU system:\n"
     ]
    },
    {
     "name": "stdout",
     "output_type": "stream",
     "text": [
      "INFO:tensorflow:*** Num TPU Cores: 8\n"
     ]
    },
    {
     "name": "stderr",
     "output_type": "stream",
     "text": [
      "INFO:tensorflow:*** Num TPU Cores: 8\n"
     ]
    },
    {
     "name": "stdout",
     "output_type": "stream",
     "text": [
      "INFO:tensorflow:*** Num TPU Workers: 1\n"
     ]
    },
    {
     "name": "stderr",
     "output_type": "stream",
     "text": [
      "INFO:tensorflow:*** Num TPU Workers: 1\n"
     ]
    },
    {
     "name": "stdout",
     "output_type": "stream",
     "text": [
      "INFO:tensorflow:*** Num TPU Cores Per Worker: 8\n"
     ]
    },
    {
     "name": "stderr",
     "output_type": "stream",
     "text": [
      "INFO:tensorflow:*** Num TPU Cores Per Worker: 8\n"
     ]
    },
    {
     "name": "stdout",
     "output_type": "stream",
     "text": [
      "INFO:tensorflow:*** Available Device: _DeviceAttributes(/job:localhost/replica:0/task:0/device:CPU:0, CPU, 0, 0)\n"
     ]
    },
    {
     "name": "stderr",
     "output_type": "stream",
     "text": [
      "INFO:tensorflow:*** Available Device: _DeviceAttributes(/job:localhost/replica:0/task:0/device:CPU:0, CPU, 0, 0)\n"
     ]
    },
    {
     "name": "stdout",
     "output_type": "stream",
     "text": [
      "INFO:tensorflow:*** Available Device: _DeviceAttributes(/job:worker/replica:0/task:0/device:CPU:0, CPU, 0, 0)\n"
     ]
    },
    {
     "name": "stderr",
     "output_type": "stream",
     "text": [
      "INFO:tensorflow:*** Available Device: _DeviceAttributes(/job:worker/replica:0/task:0/device:CPU:0, CPU, 0, 0)\n"
     ]
    },
    {
     "name": "stdout",
     "output_type": "stream",
     "text": [
      "INFO:tensorflow:*** Available Device: _DeviceAttributes(/job:worker/replica:0/task:0/device:TPU:0, TPU, 0, 0)\n"
     ]
    },
    {
     "name": "stderr",
     "output_type": "stream",
     "text": [
      "INFO:tensorflow:*** Available Device: _DeviceAttributes(/job:worker/replica:0/task:0/device:TPU:0, TPU, 0, 0)\n"
     ]
    },
    {
     "name": "stdout",
     "output_type": "stream",
     "text": [
      "INFO:tensorflow:*** Available Device: _DeviceAttributes(/job:worker/replica:0/task:0/device:TPU:1, TPU, 0, 0)\n"
     ]
    },
    {
     "name": "stderr",
     "output_type": "stream",
     "text": [
      "INFO:tensorflow:*** Available Device: _DeviceAttributes(/job:worker/replica:0/task:0/device:TPU:1, TPU, 0, 0)\n"
     ]
    },
    {
     "name": "stdout",
     "output_type": "stream",
     "text": [
      "INFO:tensorflow:*** Available Device: _DeviceAttributes(/job:worker/replica:0/task:0/device:TPU:2, TPU, 0, 0)\n"
     ]
    },
    {
     "name": "stderr",
     "output_type": "stream",
     "text": [
      "INFO:tensorflow:*** Available Device: _DeviceAttributes(/job:worker/replica:0/task:0/device:TPU:2, TPU, 0, 0)\n"
     ]
    },
    {
     "name": "stdout",
     "output_type": "stream",
     "text": [
      "INFO:tensorflow:*** Available Device: _DeviceAttributes(/job:worker/replica:0/task:0/device:TPU:3, TPU, 0, 0)\n"
     ]
    },
    {
     "name": "stderr",
     "output_type": "stream",
     "text": [
      "INFO:tensorflow:*** Available Device: _DeviceAttributes(/job:worker/replica:0/task:0/device:TPU:3, TPU, 0, 0)\n"
     ]
    },
    {
     "name": "stdout",
     "output_type": "stream",
     "text": [
      "INFO:tensorflow:*** Available Device: _DeviceAttributes(/job:worker/replica:0/task:0/device:TPU:4, TPU, 0, 0)\n"
     ]
    },
    {
     "name": "stderr",
     "output_type": "stream",
     "text": [
      "INFO:tensorflow:*** Available Device: _DeviceAttributes(/job:worker/replica:0/task:0/device:TPU:4, TPU, 0, 0)\n"
     ]
    },
    {
     "name": "stdout",
     "output_type": "stream",
     "text": [
      "INFO:tensorflow:*** Available Device: _DeviceAttributes(/job:worker/replica:0/task:0/device:TPU:5, TPU, 0, 0)\n"
     ]
    },
    {
     "name": "stderr",
     "output_type": "stream",
     "text": [
      "INFO:tensorflow:*** Available Device: _DeviceAttributes(/job:worker/replica:0/task:0/device:TPU:5, TPU, 0, 0)\n"
     ]
    },
    {
     "name": "stdout",
     "output_type": "stream",
     "text": [
      "INFO:tensorflow:*** Available Device: _DeviceAttributes(/job:worker/replica:0/task:0/device:TPU:6, TPU, 0, 0)\n"
     ]
    },
    {
     "name": "stderr",
     "output_type": "stream",
     "text": [
      "INFO:tensorflow:*** Available Device: _DeviceAttributes(/job:worker/replica:0/task:0/device:TPU:6, TPU, 0, 0)\n"
     ]
    },
    {
     "name": "stdout",
     "output_type": "stream",
     "text": [
      "INFO:tensorflow:*** Available Device: _DeviceAttributes(/job:worker/replica:0/task:0/device:TPU:7, TPU, 0, 0)\n"
     ]
    },
    {
     "name": "stderr",
     "output_type": "stream",
     "text": [
      "INFO:tensorflow:*** Available Device: _DeviceAttributes(/job:worker/replica:0/task:0/device:TPU:7, TPU, 0, 0)\n"
     ]
    },
    {
     "name": "stdout",
     "output_type": "stream",
     "text": [
      "INFO:tensorflow:*** Available Device: _DeviceAttributes(/job:worker/replica:0/task:0/device:TPU_SYSTEM:0, TPU_SYSTEM, 0, 0)\n"
     ]
    },
    {
     "name": "stderr",
     "output_type": "stream",
     "text": [
      "INFO:tensorflow:*** Available Device: _DeviceAttributes(/job:worker/replica:0/task:0/device:TPU_SYSTEM:0, TPU_SYSTEM, 0, 0)\n"
     ]
    },
    {
     "name": "stdout",
     "output_type": "stream",
     "text": [
      "INFO:tensorflow:*** Available Device: _DeviceAttributes(/job:worker/replica:0/task:0/device:XLA_CPU:0, XLA_CPU, 0, 0)\n"
     ]
    },
    {
     "name": "stderr",
     "output_type": "stream",
     "text": [
      "INFO:tensorflow:*** Available Device: _DeviceAttributes(/job:worker/replica:0/task:0/device:XLA_CPU:0, XLA_CPU, 0, 0)\n",
      "WARNING:absl:options.experimental_threading is deprecated. Use options.threading instead.\n"
     ]
    }
   ],
   "source": [
    "resolver = tf.distribute.cluster_resolver.TPUClusterResolver(tpu='node-5')\n",
    "tf.config.experimental_connect_to_cluster(resolver)\n",
    "tf.tpu.experimental.initialize_tpu_system(resolver)\n",
    "strategy = tf.distribute.TPUStrategy(resolver)\n",
    "\n",
    "with strategy.scope():\n",
    "    options = tf.data.Options()\n",
    "    options.experimental_distribute.auto_shard_policy=\\\n",
    "        tf.data.experimental.AutoShardPolicy.FILE\n",
    "    options.deterministic=False\n",
    "    options.experimental_threading.max_intra_op_parallelism=1\n",
    "    mixed_precision.set_global_policy('mixed_bfloat16')\n",
    "    #options.num_devices = 64\n",
    "\n",
    "    BATCH_SIZE_PER_REPLICA = 1 # batch size 24, use LR ~ 2.5 e -04\n",
    "    NUM_REPLICAS = strategy.num_replicas_in_sync\n",
    "    GLOBAL_BATCH_SIZE = BATCH_SIZE_PER_REPLICA * NUM_REPLICAS\n",
    "    "
   ]
  },
  {
   "cell_type": "code",
   "execution_count": 3,
   "id": "93effd89-8681-48e6-be68-36e027605040",
   "metadata": {},
   "outputs": [
    {
     "name": "stdout",
     "output_type": "stream",
     "text": [
      "WARNING:tensorflow:From /opt/conda/lib/python3.7/site-packages/tensorflow/python/autograph/pyct/static_analysis/liveness.py:83: Analyzer.lamba_check (from tensorflow.python.autograph.pyct.static_analysis.liveness) is deprecated and will be removed after 2023-09-23.\n",
      "Instructions for updating:\n",
      "Lambda fuctions will be no more assumed to be used in the statement where they are used, or at least in the same block. https://github.com/tensorflow/tensorflow/issues/56089\n"
     ]
    },
    {
     "name": "stderr",
     "output_type": "stream",
     "text": [
      "WARNING:tensorflow:From /opt/conda/lib/python3.7/site-packages/tensorflow/python/autograph/pyct/static_analysis/liveness.py:83: Analyzer.lamba_check (from tensorflow.python.autograph.pyct.static_analysis.liveness) is deprecated and will be removed after 2023-09-23.\n",
      "Instructions for updating:\n",
      "Lambda fuctions will be no more assumed to be used in the statement where they are used, or at least in the same block. https://github.com/tensorflow/tensorflow/issues/56089\n"
     ]
    }
   ],
   "source": [
    "iterators={'human': ('gs://genformer_data/expanded_originals/196k',5313),\n",
    "           'mouse': ('gs://genformer_data/expanded_originals/196k',1643)}\n",
    "           \n",
    "g = tf.random.Generator.from_non_deterministic_state()\n",
    "tr_data_it_dict,val_data_it_dict,val_data_TSS_it =  \\\n",
    "    training_utils.return_distributed_iterators(iterators,\n",
    "                                                \"gs://genformer_data/expanded_originals/196k/human/tfrecords_tss\",\n",
    "                                                 GLOBAL_BATCH_SIZE,\n",
    "                                                 196608,\n",
    "                                                 10,\n",
    "                                                 4,\n",
    "                                                 10,\n",
    "                                                 strategy,\n",
    "                                                 options,\n",
    "                                                g)\n"
   ]
  },
  {
   "cell_type": "code",
   "execution_count": 4,
   "id": "b0de2869-14d8-46c8-9efd-77cb51e28a8d",
   "metadata": {},
   "outputs": [],
   "source": [
    "with strategy.scope():\n",
    "    model = enformer_performer.enformer_performer(\n",
    "        num_transformer_layers=11,\n",
    "        num_heads=8,\n",
    "        heads_channels= {'human': 5313,\n",
    "                         'mouse': 1643},\n",
    "        stable_variant=True,\n",
    "        dim=192,\n",
    "        d_model=1536,\n",
    "        norm=True,\n",
    "        max_seq_length=1536,\n",
    "        nb_random_features=256,\n",
    "        hidden_size=1536,\n",
    "        numerical_stabilizer=0.001,\n",
    "        rel_pos_bins=1536,\n",
    "        use_mask_pos=False,\n",
    "        use_rot_emb=True,\n",
    "        kernel_transformation=\"softmax_kernel_transformation\",\n",
    "        normalize=True,\n",
    "        seed=5)"
   ]
  },
  {
   "cell_type": "code",
   "execution_count": 5,
   "id": "cb20d1ad-4e38-4e69-9e29-75a19e7bfc91",
   "metadata": {},
   "outputs": [],
   "source": [
    "with strategy.scope():        \n",
    "\n",
    "    optimizer1 = tf.keras.optimizers.Adam(learning_rate=1.0e-04)\n",
    "\n",
    "    optimizer2 = tf.keras.optimizers.Adam(learning_rate=1.0e-04)\n",
    "    optimizers_in = optimizer1,optimizer2\n",
    "\n",
    "    metric_dict = {}\n",
    "    organism_dict = {'human': (500,30),\n",
    "                     'mouse': (500,30)}\n",
    "\n",
    "    dist_train_step, dist_val_step_h,dist_val_step_m, val_step_TSS, build_step,metric_dict = training_utils.return_train_val_functions(model,\n",
    "                                                                                                                                         50,\n",
    "                                                                                                                                       50,\n",
    "                                                                                                                                       50,\n",
    "                                                                                                                                         50,\n",
    "                                                                                                                                         optimizers_in,\n",
    "                                                                                                                                         strategy,\n",
    "                                                                                                                                         metric_dict, \n",
    "                                                                                                                                         GLOBAL_BATCH_SIZE,\n",
    "                                                                                                                                        0.20,\n",
    "                                                                                                                                         BATCH_SIZE_PER_REPLICA,\n",
    "                                                                                                                                        loss_fn_main='poisson')\n"
   ]
  },
  {
   "cell_type": "code",
   "execution_count": 7,
   "id": "2400a655-9fec-4661-aa56-415bf14c3191",
   "metadata": {},
   "outputs": [
    {
     "name": "stdout",
     "output_type": "stream",
     "text": [
      "starting epoch_ 1\n",
      "WARNING:tensorflow:Gradients do not exist for variables ['enformer_performer/dense_23/kernel:0', 'enformer_performer/dense_23/bias:0'] when minimizing the loss. If you're using `model.compile()`, did you forget to provide a `loss` argument?\n"
     ]
    },
    {
     "name": "stderr",
     "output_type": "stream",
     "text": [
      "WARNING:tensorflow:Gradients do not exist for variables ['enformer_performer/dense_23/kernel:0', 'enformer_performer/dense_23/bias:0'] when minimizing the loss. If you're using `model.compile()`, did you forget to provide a `loss` argument?\n"
     ]
    },
    {
     "name": "stdout",
     "output_type": "stream",
     "text": [
      "WARNING:tensorflow:Gradients do not exist for variables ['enformer_performer/dense_23/kernel:0', 'enformer_performer/dense_23/bias:0'] when minimizing the loss. If you're using `model.compile()`, did you forget to provide a `loss` argument?\n"
     ]
    },
    {
     "name": "stderr",
     "output_type": "stream",
     "text": [
      "WARNING:tensorflow:Gradients do not exist for variables ['enformer_performer/dense_23/kernel:0', 'enformer_performer/dense_23/bias:0'] when minimizing the loss. If you're using `model.compile()`, did you forget to provide a `loss` argument?\n"
     ]
    },
    {
     "name": "stdout",
     "output_type": "stream",
     "text": [
      "WARNING:tensorflow:Gradients do not exist for variables ['enformer_performer/dense_22/kernel:0', 'enformer_performer/dense_22/bias:0'] when minimizing the loss. If you're using `model.compile()`, did you forget to provide a `loss` argument?\n"
     ]
    },
    {
     "name": "stderr",
     "output_type": "stream",
     "text": [
      "WARNING:tensorflow:Gradients do not exist for variables ['enformer_performer/dense_22/kernel:0', 'enformer_performer/dense_22/bias:0'] when minimizing the loss. If you're using `model.compile()`, did you forget to provide a `loss` argument?\n"
     ]
    },
    {
     "name": "stdout",
     "output_type": "stream",
     "text": [
      "WARNING:tensorflow:Gradients do not exist for variables ['enformer_performer/dense_22/kernel:0', 'enformer_performer/dense_22/bias:0'] when minimizing the loss. If you're using `model.compile()`, did you forget to provide a `loss` argument?\n"
     ]
    },
    {
     "name": "stderr",
     "output_type": "stream",
     "text": [
      "WARNING:tensorflow:Gradients do not exist for variables ['enformer_performer/dense_22/kernel:0', 'enformer_performer/dense_22/bias:0'] when minimizing the loss. If you're using `model.compile()`, did you forget to provide a `loss` argument?\n"
     ]
    },
    {
     "name": "stdout",
     "output_type": "stream",
     "text": [
      "completed epoch 1\n",
      "hg_train_loss: 0.10304573\n",
      "training duration(mins): 6.337669161955516\n",
      "val_loss: 0.10204952\n",
      "human_pearsonsR: \n",
      "[-0.01178927 -0.01963302 -0.02671412 ... -0.0026256  -0.00525206\n",
      " -0.00349261]\n",
      "human_R2: \n",
      "[-1.43055916e-02 -1.15620375e-01 -8.67861509e-02 ... -9.97424126e-04\n",
      " -1.09314919e-03 -8.85725021e-05]\n",
      "completed epoch 1 validation\n",
      "validation duration(mins): 1.615167506535848\n",
      "patience counter at: 0\n"
     ]
    },
    {
     "ename": "TypeError",
     "evalue": "in user code:\n\n    File \"/home/jupyter/dev/genformer_public/enformer_batch_norm_experiments/training_utils_enformer_performer.py\", line 407, in val_step  *\n        target=tf.cast(inputs['target'],\n\n    TypeError: Only integers, slices (`:`), ellipsis (`...`), tf.newaxis (`None`) and scalar tf.int32/tf.int64 tensors are valid indices, got 'target'\n",
     "output_type": "error",
     "traceback": [
      "\u001b[0;31m---------------------------------------------------------------------------\u001b[0m",
      "\u001b[0;31mTypeError\u001b[0m                                 Traceback (most recent call last)",
      "\u001b[0;32m/tmp/ipykernel_3174/4274295741.py\u001b[0m in \u001b[0;36m<module>\u001b[0;34m\u001b[0m\n\u001b[1;32m     50\u001b[0m \u001b[0;34m\u001b[0m\u001b[0m\n\u001b[1;32m     51\u001b[0m \u001b[0;34m\u001b[0m\u001b[0m\n\u001b[0;32m---> 52\u001b[0;31m         \u001b[0mval_step_TSS\u001b[0m\u001b[0;34m(\u001b[0m\u001b[0mval_data_TSS_it\u001b[0m\u001b[0;34m)\u001b[0m\u001b[0;34m\u001b[0m\u001b[0;34m\u001b[0m\u001b[0m\n\u001b[0m\u001b[1;32m     53\u001b[0m \u001b[0;34m\u001b[0m\u001b[0m\n\u001b[1;32m     54\u001b[0m \u001b[0;34m\u001b[0m\u001b[0m\n",
      "\u001b[0;32m~/dev/genformer_public/enformer_batch_norm_experiments/training_utils_enformer_performer.py\u001b[0m in \u001b[0;36mdist_val_step_TSS\u001b[0;34m(iterator)\u001b[0m\n\u001b[1;32m    432\u001b[0m \u001b[0;34m\u001b[0m\u001b[0m\n\u001b[1;32m    433\u001b[0m             pred_rep, true_rep, gene_rep, cell_type_rep = strategy.run(val_step,\n\u001b[0;32m--> 434\u001b[0;31m                                                        args=(next(iterator),))\n\u001b[0m\u001b[1;32m    435\u001b[0m \u001b[0;34m\u001b[0m\u001b[0m\n\u001b[1;32m    436\u001b[0m             \u001b[0mpred_reshape\u001b[0m \u001b[0;34m=\u001b[0m \u001b[0mtf\u001b[0m\u001b[0;34m.\u001b[0m\u001b[0mreshape\u001b[0m\u001b[0;34m(\u001b[0m\u001b[0mstrategy\u001b[0m\u001b[0;34m.\u001b[0m\u001b[0mgather\u001b[0m\u001b[0;34m(\u001b[0m\u001b[0mpred_rep\u001b[0m\u001b[0;34m,\u001b[0m \u001b[0maxis\u001b[0m\u001b[0;34m=\u001b[0m\u001b[0;36m0\u001b[0m\u001b[0;34m)\u001b[0m\u001b[0;34m,\u001b[0m \u001b[0;34m[\u001b[0m\u001b[0;34m-\u001b[0m\u001b[0;36m1\u001b[0m\u001b[0;34m]\u001b[0m\u001b[0;34m)\u001b[0m \u001b[0;31m# reshape to 1D\u001b[0m\u001b[0;34m\u001b[0m\u001b[0;34m\u001b[0m\u001b[0m\n",
      "\u001b[0;32m/opt/conda/lib/python3.7/site-packages/tensorflow/python/distribute/tpu_strategy.py\u001b[0m in \u001b[0;36mrun\u001b[0;34m(self, fn, args, kwargs, options)\u001b[0m\n\u001b[1;32m    426\u001b[0m     \u001b[0mfn\u001b[0m \u001b[0;34m=\u001b[0m \u001b[0mautograph\u001b[0m\u001b[0;34m.\u001b[0m\u001b[0mtf_convert\u001b[0m\u001b[0;34m(\u001b[0m\u001b[0mfn\u001b[0m\u001b[0;34m,\u001b[0m \u001b[0mautograph_ctx\u001b[0m\u001b[0;34m.\u001b[0m\u001b[0mcontrol_status_ctx\u001b[0m\u001b[0;34m(\u001b[0m\u001b[0;34m)\u001b[0m\u001b[0;34m)\u001b[0m\u001b[0;34m\u001b[0m\u001b[0;34m\u001b[0m\u001b[0m\n\u001b[1;32m    427\u001b[0m     \u001b[0moptions\u001b[0m \u001b[0;34m=\u001b[0m \u001b[0moptions\u001b[0m \u001b[0;32mor\u001b[0m \u001b[0mdistribute_lib\u001b[0m\u001b[0;34m.\u001b[0m\u001b[0mRunOptions\u001b[0m\u001b[0;34m(\u001b[0m\u001b[0;34m)\u001b[0m\u001b[0;34m\u001b[0m\u001b[0;34m\u001b[0m\u001b[0m\n\u001b[0;32m--> 428\u001b[0;31m     \u001b[0;32mreturn\u001b[0m \u001b[0mself\u001b[0m\u001b[0;34m.\u001b[0m\u001b[0mextended\u001b[0m\u001b[0;34m.\u001b[0m\u001b[0mtpu_run\u001b[0m\u001b[0;34m(\u001b[0m\u001b[0mfn\u001b[0m\u001b[0;34m,\u001b[0m \u001b[0margs\u001b[0m\u001b[0;34m,\u001b[0m \u001b[0mkwargs\u001b[0m\u001b[0;34m,\u001b[0m \u001b[0moptions\u001b[0m\u001b[0;34m)\u001b[0m\u001b[0;34m\u001b[0m\u001b[0;34m\u001b[0m\u001b[0m\n\u001b[0m\u001b[1;32m    429\u001b[0m \u001b[0;34m\u001b[0m\u001b[0m\n\u001b[1;32m    430\u001b[0m   \u001b[0;34m@\u001b[0m\u001b[0mproperty\u001b[0m\u001b[0;34m\u001b[0m\u001b[0;34m\u001b[0m\u001b[0m\n",
      "\u001b[0;32m/opt/conda/lib/python3.7/site-packages/tensorflow/python/distribute/tpu_strategy.py\u001b[0m in \u001b[0;36mtpu_run\u001b[0;34m(self, fn, args, kwargs, options)\u001b[0m\n\u001b[1;32m   1559\u001b[0m   \u001b[0;32mdef\u001b[0m \u001b[0mtpu_run\u001b[0m\u001b[0;34m(\u001b[0m\u001b[0mself\u001b[0m\u001b[0;34m,\u001b[0m \u001b[0mfn\u001b[0m\u001b[0;34m,\u001b[0m \u001b[0margs\u001b[0m\u001b[0;34m,\u001b[0m \u001b[0mkwargs\u001b[0m\u001b[0;34m,\u001b[0m \u001b[0moptions\u001b[0m\u001b[0;34m=\u001b[0m\u001b[0;32mNone\u001b[0m\u001b[0;34m)\u001b[0m\u001b[0;34m:\u001b[0m\u001b[0;34m\u001b[0m\u001b[0;34m\u001b[0m\u001b[0m\n\u001b[1;32m   1560\u001b[0m     \u001b[0mfunc\u001b[0m \u001b[0;34m=\u001b[0m \u001b[0mself\u001b[0m\u001b[0;34m.\u001b[0m\u001b[0m_tpu_function_creator\u001b[0m\u001b[0;34m(\u001b[0m\u001b[0mfn\u001b[0m\u001b[0;34m,\u001b[0m \u001b[0moptions\u001b[0m\u001b[0;34m)\u001b[0m\u001b[0;34m\u001b[0m\u001b[0;34m\u001b[0m\u001b[0m\n\u001b[0;32m-> 1561\u001b[0;31m     \u001b[0;32mreturn\u001b[0m \u001b[0mfunc\u001b[0m\u001b[0;34m(\u001b[0m\u001b[0margs\u001b[0m\u001b[0;34m,\u001b[0m \u001b[0mkwargs\u001b[0m\u001b[0;34m)\u001b[0m\u001b[0;34m\u001b[0m\u001b[0;34m\u001b[0m\u001b[0m\n\u001b[0m\u001b[1;32m   1562\u001b[0m \u001b[0;34m\u001b[0m\u001b[0m\n\u001b[1;32m   1563\u001b[0m   \u001b[0;32mdef\u001b[0m \u001b[0m_tpu_function_creator\u001b[0m\u001b[0;34m(\u001b[0m\u001b[0mself\u001b[0m\u001b[0;34m,\u001b[0m \u001b[0mfn\u001b[0m\u001b[0;34m,\u001b[0m \u001b[0moptions\u001b[0m\u001b[0;34m)\u001b[0m\u001b[0;34m:\u001b[0m\u001b[0;34m\u001b[0m\u001b[0;34m\u001b[0m\u001b[0m\n",
      "\u001b[0;32m/opt/conda/lib/python3.7/site-packages/tensorflow/python/util/traceback_utils.py\u001b[0m in \u001b[0;36merror_handler\u001b[0;34m(*args, **kwargs)\u001b[0m\n\u001b[1;32m    151\u001b[0m     \u001b[0;32mexcept\u001b[0m \u001b[0mException\u001b[0m \u001b[0;32mas\u001b[0m \u001b[0me\u001b[0m\u001b[0;34m:\u001b[0m\u001b[0;34m\u001b[0m\u001b[0;34m\u001b[0m\u001b[0m\n\u001b[1;32m    152\u001b[0m       \u001b[0mfiltered_tb\u001b[0m \u001b[0;34m=\u001b[0m \u001b[0m_process_traceback_frames\u001b[0m\u001b[0;34m(\u001b[0m\u001b[0me\u001b[0m\u001b[0;34m.\u001b[0m\u001b[0m__traceback__\u001b[0m\u001b[0;34m)\u001b[0m\u001b[0;34m\u001b[0m\u001b[0;34m\u001b[0m\u001b[0m\n\u001b[0;32m--> 153\u001b[0;31m       \u001b[0;32mraise\u001b[0m \u001b[0me\u001b[0m\u001b[0;34m.\u001b[0m\u001b[0mwith_traceback\u001b[0m\u001b[0;34m(\u001b[0m\u001b[0mfiltered_tb\u001b[0m\u001b[0;34m)\u001b[0m \u001b[0;32mfrom\u001b[0m \u001b[0;32mNone\u001b[0m\u001b[0;34m\u001b[0m\u001b[0;34m\u001b[0m\u001b[0m\n\u001b[0m\u001b[1;32m    154\u001b[0m     \u001b[0;32mfinally\u001b[0m\u001b[0;34m:\u001b[0m\u001b[0;34m\u001b[0m\u001b[0;34m\u001b[0m\u001b[0m\n\u001b[1;32m    155\u001b[0m       \u001b[0;32mdel\u001b[0m \u001b[0mfiltered_tb\u001b[0m\u001b[0;34m\u001b[0m\u001b[0;34m\u001b[0m\u001b[0m\n",
      "\u001b[0;32m/opt/conda/lib/python3.7/site-packages/tensorflow/python/distribute/tpu_strategy.py\u001b[0m in \u001b[0;36mtf__tpu_function\u001b[0;34m(args, kwargs)\u001b[0m\n\u001b[1;32m    146\u001b[0m                 \u001b[0;32mwith\u001b[0m \u001b[0mag__\u001b[0m\u001b[0;34m.\u001b[0m\u001b[0mld\u001b[0m\u001b[0;34m(\u001b[0m\u001b[0mstrategy\u001b[0m\u001b[0;34m)\u001b[0m\u001b[0;34m.\u001b[0m\u001b[0mscope\u001b[0m\u001b[0;34m(\u001b[0m\u001b[0;34m)\u001b[0m\u001b[0;34m:\u001b[0m\u001b[0;34m\u001b[0m\u001b[0;34m\u001b[0m\u001b[0m\n\u001b[1;32m    147\u001b[0m                     \u001b[0mxla_options\u001b[0m \u001b[0;34m=\u001b[0m \u001b[0mag__\u001b[0m\u001b[0;34m.\u001b[0m\u001b[0mor_\u001b[0m\u001b[0;34m(\u001b[0m\u001b[0;34m(\u001b[0m\u001b[0;32mlambda\u001b[0m \u001b[0;34m:\u001b[0m \u001b[0mag__\u001b[0m\u001b[0;34m.\u001b[0m\u001b[0mld\u001b[0m\u001b[0;34m(\u001b[0m\u001b[0moptions\u001b[0m\u001b[0;34m)\u001b[0m\u001b[0;34m.\u001b[0m\u001b[0mexperimental_xla_options\u001b[0m\u001b[0;34m)\u001b[0m\u001b[0;34m,\u001b[0m \u001b[0;34m(\u001b[0m\u001b[0;32mlambda\u001b[0m \u001b[0;34m:\u001b[0m \u001b[0mag__\u001b[0m\u001b[0;34m.\u001b[0m\u001b[0mconverted_call\u001b[0m\u001b[0;34m(\u001b[0m\u001b[0mag__\u001b[0m\u001b[0;34m.\u001b[0m\u001b[0mld\u001b[0m\u001b[0;34m(\u001b[0m\u001b[0mtpu\u001b[0m\u001b[0;34m)\u001b[0m\u001b[0;34m.\u001b[0m\u001b[0mXLAOptions\u001b[0m\u001b[0;34m,\u001b[0m \u001b[0;34m(\u001b[0m\u001b[0;34m)\u001b[0m\u001b[0;34m,\u001b[0m \u001b[0mdict\u001b[0m\u001b[0;34m(\u001b[0m\u001b[0muse_spmd_for_xla_partitioning\u001b[0m\u001b[0;34m=\u001b[0m\u001b[0mag__\u001b[0m\u001b[0;34m.\u001b[0m\u001b[0mld\u001b[0m\u001b[0;34m(\u001b[0m\u001b[0mself\u001b[0m\u001b[0;34m)\u001b[0m\u001b[0;34m.\u001b[0m\u001b[0m_use_spmd_for_xla_partitioning\u001b[0m\u001b[0;34m)\u001b[0m\u001b[0;34m,\u001b[0m \u001b[0mfscope\u001b[0m\u001b[0;34m)\u001b[0m\u001b[0;34m)\u001b[0m\u001b[0;34m)\u001b[0m\u001b[0;34m\u001b[0m\u001b[0;34m\u001b[0m\u001b[0m\n\u001b[0;32m--> 148\u001b[0;31m                     \u001b[0mreplicate_outputs\u001b[0m \u001b[0;34m=\u001b[0m \u001b[0mag__\u001b[0m\u001b[0;34m.\u001b[0m\u001b[0mconverted_call\u001b[0m\u001b[0;34m(\u001b[0m\u001b[0mag__\u001b[0m\u001b[0;34m.\u001b[0m\u001b[0mld\u001b[0m\u001b[0;34m(\u001b[0m\u001b[0mtpu\u001b[0m\u001b[0;34m)\u001b[0m\u001b[0;34m.\u001b[0m\u001b[0mreplicate\u001b[0m\u001b[0;34m,\u001b[0m \u001b[0;34m(\u001b[0m\u001b[0mag__\u001b[0m\u001b[0;34m.\u001b[0m\u001b[0mld\u001b[0m\u001b[0;34m(\u001b[0m\u001b[0mreplicated_fn\u001b[0m\u001b[0;34m)\u001b[0m\u001b[0;34m,\u001b[0m \u001b[0mag__\u001b[0m\u001b[0;34m.\u001b[0m\u001b[0mld\u001b[0m\u001b[0;34m(\u001b[0m\u001b[0mreplicate_inputs\u001b[0m\u001b[0;34m)\u001b[0m\u001b[0;34m)\u001b[0m\u001b[0;34m,\u001b[0m \u001b[0mdict\u001b[0m\u001b[0;34m(\u001b[0m\u001b[0mdevice_assignment\u001b[0m\u001b[0;34m=\u001b[0m\u001b[0mag__\u001b[0m\u001b[0;34m.\u001b[0m\u001b[0mld\u001b[0m\u001b[0;34m(\u001b[0m\u001b[0mself\u001b[0m\u001b[0;34m)\u001b[0m\u001b[0;34m.\u001b[0m\u001b[0m_device_assignment\u001b[0m\u001b[0;34m,\u001b[0m \u001b[0mmaximum_shapes\u001b[0m\u001b[0;34m=\u001b[0m\u001b[0mag__\u001b[0m\u001b[0;34m.\u001b[0m\u001b[0mld\u001b[0m\u001b[0;34m(\u001b[0m\u001b[0mmaximum_shapes\u001b[0m\u001b[0;34m)\u001b[0m\u001b[0;34m,\u001b[0m \u001b[0mpadding_spec\u001b[0m\u001b[0;34m=\u001b[0m\u001b[0mag__\u001b[0m\u001b[0;34m.\u001b[0m\u001b[0mld\u001b[0m\u001b[0;34m(\u001b[0m\u001b[0mpadding_spec\u001b[0m\u001b[0;34m)\u001b[0m\u001b[0;34m,\u001b[0m \u001b[0mxla_options\u001b[0m\u001b[0;34m=\u001b[0m\u001b[0mag__\u001b[0m\u001b[0;34m.\u001b[0m\u001b[0mld\u001b[0m\u001b[0;34m(\u001b[0m\u001b[0mxla_options\u001b[0m\u001b[0;34m)\u001b[0m\u001b[0;34m)\u001b[0m\u001b[0;34m,\u001b[0m \u001b[0mfscope\u001b[0m\u001b[0;34m)\u001b[0m\u001b[0;34m\u001b[0m\u001b[0;34m\u001b[0m\u001b[0m\n\u001b[0m\u001b[1;32m    149\u001b[0m                 \u001b[0mfilter_ops\u001b[0m \u001b[0;34m=\u001b[0m \u001b[0mag__\u001b[0m\u001b[0;34m.\u001b[0m\u001b[0mautograph_artifact\u001b[0m\u001b[0;34m(\u001b[0m\u001b[0;34m(\u001b[0m\u001b[0;32mlambda\u001b[0m \u001b[0mx\u001b[0m\u001b[0;34m:\u001b[0m \u001b[0;34m[\u001b[0m\u001b[0mag__\u001b[0m\u001b[0;34m.\u001b[0m\u001b[0mld\u001b[0m\u001b[0;34m(\u001b[0m\u001b[0mo\u001b[0m\u001b[0;34m)\u001b[0m \u001b[0;32mfor\u001b[0m \u001b[0mo\u001b[0m \u001b[0;32min\u001b[0m \u001b[0mag__\u001b[0m\u001b[0;34m.\u001b[0m\u001b[0mld\u001b[0m\u001b[0;34m(\u001b[0m\u001b[0mx\u001b[0m\u001b[0;34m)\u001b[0m \u001b[0;32mif\u001b[0m \u001b[0mag__\u001b[0m\u001b[0;34m.\u001b[0m\u001b[0mnot_\u001b[0m\u001b[0;34m(\u001b[0m\u001b[0mag__\u001b[0m\u001b[0;34m.\u001b[0m\u001b[0mconverted_call\u001b[0m\u001b[0;34m(\u001b[0m\u001b[0mag__\u001b[0m\u001b[0;34m.\u001b[0m\u001b[0mld\u001b[0m\u001b[0;34m(\u001b[0m\u001b[0misinstance\u001b[0m\u001b[0;34m)\u001b[0m\u001b[0;34m,\u001b[0m \u001b[0;34m(\u001b[0m\u001b[0mag__\u001b[0m\u001b[0;34m.\u001b[0m\u001b[0mld\u001b[0m\u001b[0;34m(\u001b[0m\u001b[0mo\u001b[0m\u001b[0;34m)\u001b[0m\u001b[0;34m,\u001b[0m \u001b[0mag__\u001b[0m\u001b[0;34m.\u001b[0m\u001b[0mld\u001b[0m\u001b[0;34m(\u001b[0m\u001b[0mops\u001b[0m\u001b[0;34m)\u001b[0m\u001b[0;34m.\u001b[0m\u001b[0mOperation\u001b[0m\u001b[0;34m)\u001b[0m\u001b[0;34m,\u001b[0m \u001b[0;32mNone\u001b[0m\u001b[0;34m,\u001b[0m \u001b[0mfscope\u001b[0m\u001b[0;34m)\u001b[0m\u001b[0;34m)\u001b[0m\u001b[0;34m]\u001b[0m\u001b[0;34m)\u001b[0m\u001b[0;34m)\u001b[0m\u001b[0;34m\u001b[0m\u001b[0;34m\u001b[0m\u001b[0m\n\u001b[1;32m    150\u001b[0m \u001b[0;34m\u001b[0m\u001b[0m\n",
      "\u001b[0;32m/opt/conda/lib/python3.7/site-packages/tensorflow/python/distribute/tpu_strategy.py\u001b[0m in \u001b[0;36mreplicated_fn\u001b[0;34m(replica_id, replica_args, replica_kwargs)\u001b[0m\n\u001b[1;32m     39\u001b[0m                         \u001b[0mretval__1\u001b[0m \u001b[0;34m=\u001b[0m \u001b[0mag__\u001b[0m\u001b[0;34m.\u001b[0m\u001b[0mUndefinedReturnValue\u001b[0m\u001b[0;34m(\u001b[0m\u001b[0;34m)\u001b[0m\u001b[0;34m\u001b[0m\u001b[0;34m\u001b[0m\u001b[0m\n\u001b[1;32m     40\u001b[0m                         \u001b[0;32mwith\u001b[0m \u001b[0mag__\u001b[0m\u001b[0;34m.\u001b[0m\u001b[0mld\u001b[0m\u001b[0;34m(\u001b[0m\u001b[0m_TPUReplicaContext\u001b[0m\u001b[0;34m)\u001b[0m\u001b[0;34m(\u001b[0m\u001b[0mag__\u001b[0m\u001b[0;34m.\u001b[0m\u001b[0mld\u001b[0m\u001b[0;34m(\u001b[0m\u001b[0mstrategy\u001b[0m\u001b[0;34m)\u001b[0m\u001b[0;34m,\u001b[0m \u001b[0mreplica_id_in_sync_group\u001b[0m\u001b[0;34m=\u001b[0m\u001b[0mag__\u001b[0m\u001b[0;34m.\u001b[0m\u001b[0mld\u001b[0m\u001b[0;34m(\u001b[0m\u001b[0mreplica_id\u001b[0m\u001b[0;34m)\u001b[0m\u001b[0;34m)\u001b[0m\u001b[0;34m:\u001b[0m\u001b[0;34m\u001b[0m\u001b[0;34m\u001b[0m\u001b[0m\n\u001b[0;32m---> 41\u001b[0;31m                             \u001b[0mag__\u001b[0m\u001b[0;34m.\u001b[0m\u001b[0mld\u001b[0m\u001b[0;34m(\u001b[0m\u001b[0mresult\u001b[0m\u001b[0;34m)\u001b[0m\u001b[0;34m[\u001b[0m\u001b[0;36m0\u001b[0m\u001b[0;34m]\u001b[0m \u001b[0;34m=\u001b[0m \u001b[0mag__\u001b[0m\u001b[0;34m.\u001b[0m\u001b[0mconverted_call\u001b[0m\u001b[0;34m(\u001b[0m\u001b[0mag__\u001b[0m\u001b[0;34m.\u001b[0m\u001b[0mld\u001b[0m\u001b[0;34m(\u001b[0m\u001b[0mfn\u001b[0m\u001b[0;34m)\u001b[0m\u001b[0;34m,\u001b[0m \u001b[0mtuple\u001b[0m\u001b[0;34m(\u001b[0m\u001b[0mag__\u001b[0m\u001b[0;34m.\u001b[0m\u001b[0mld\u001b[0m\u001b[0;34m(\u001b[0m\u001b[0mreplica_args\u001b[0m\u001b[0;34m)\u001b[0m\u001b[0;34m)\u001b[0m\u001b[0;34m,\u001b[0m \u001b[0mdict\u001b[0m\u001b[0;34m(\u001b[0m\u001b[0;34m**\u001b[0m\u001b[0mag__\u001b[0m\u001b[0;34m.\u001b[0m\u001b[0mld\u001b[0m\u001b[0;34m(\u001b[0m\u001b[0mreplica_kwargs\u001b[0m\u001b[0;34m)\u001b[0m\u001b[0;34m)\u001b[0m\u001b[0;34m,\u001b[0m \u001b[0mfscope_1\u001b[0m\u001b[0;34m)\u001b[0m\u001b[0;34m\u001b[0m\u001b[0;34m\u001b[0m\u001b[0m\n\u001b[0m\u001b[1;32m     42\u001b[0m                         \u001b[0;32mtry\u001b[0m\u001b[0;34m:\u001b[0m\u001b[0;34m\u001b[0m\u001b[0;34m\u001b[0m\u001b[0m\n\u001b[1;32m     43\u001b[0m                             \u001b[0mdo_return_1\u001b[0m \u001b[0;34m=\u001b[0m \u001b[0;32mTrue\u001b[0m\u001b[0;34m\u001b[0m\u001b[0;34m\u001b[0m\u001b[0m\n",
      "\u001b[0;32m~/dev/genformer_public/enformer_batch_norm_experiments/training_utils_enformer_performer.py\u001b[0m in \u001b[0;36mtf__val_step\u001b[0;34m(inputs)\u001b[0m\n\u001b[1;32m      9\u001b[0m                 \u001b[0mdo_return\u001b[0m \u001b[0;34m=\u001b[0m \u001b[0;32mFalse\u001b[0m\u001b[0;34m\u001b[0m\u001b[0;34m\u001b[0m\u001b[0m\n\u001b[1;32m     10\u001b[0m                 \u001b[0mretval_\u001b[0m \u001b[0;34m=\u001b[0m \u001b[0mag__\u001b[0m\u001b[0;34m.\u001b[0m\u001b[0mUndefinedReturnValue\u001b[0m\u001b[0;34m(\u001b[0m\u001b[0;34m)\u001b[0m\u001b[0;34m\u001b[0m\u001b[0;34m\u001b[0m\u001b[0m\n\u001b[0;32m---> 11\u001b[0;31m                 \u001b[0mtarget\u001b[0m \u001b[0;34m=\u001b[0m \u001b[0mag__\u001b[0m\u001b[0;34m.\u001b[0m\u001b[0mconverted_call\u001b[0m\u001b[0;34m(\u001b[0m\u001b[0mag__\u001b[0m\u001b[0;34m.\u001b[0m\u001b[0mld\u001b[0m\u001b[0;34m(\u001b[0m\u001b[0mtf\u001b[0m\u001b[0;34m)\u001b[0m\u001b[0;34m.\u001b[0m\u001b[0mcast\u001b[0m\u001b[0;34m,\u001b[0m \u001b[0;34m(\u001b[0m\u001b[0mag__\u001b[0m\u001b[0;34m.\u001b[0m\u001b[0mld\u001b[0m\u001b[0;34m(\u001b[0m\u001b[0minputs\u001b[0m\u001b[0;34m)\u001b[0m\u001b[0;34m[\u001b[0m\u001b[0;34m'target'\u001b[0m\u001b[0;34m]\u001b[0m\u001b[0;34m,\u001b[0m\u001b[0;34m)\u001b[0m\u001b[0;34m,\u001b[0m \u001b[0mdict\u001b[0m\u001b[0;34m(\u001b[0m\u001b[0mdtype\u001b[0m\u001b[0;34m=\u001b[0m\u001b[0mag__\u001b[0m\u001b[0;34m.\u001b[0m\u001b[0mld\u001b[0m\u001b[0;34m(\u001b[0m\u001b[0mtf\u001b[0m\u001b[0;34m)\u001b[0m\u001b[0;34m.\u001b[0m\u001b[0mfloat32\u001b[0m\u001b[0;34m)\u001b[0m\u001b[0;34m,\u001b[0m \u001b[0mfscope\u001b[0m\u001b[0;34m)\u001b[0m\u001b[0;34m[\u001b[0m\u001b[0;34m:\u001b[0m\u001b[0;34m,\u001b[0m \u001b[0;34m:\u001b[0m\u001b[0;34m,\u001b[0m \u001b[0;36m4675\u001b[0m\u001b[0;34m:\u001b[0m\u001b[0;34m]\u001b[0m\u001b[0;34m\u001b[0m\u001b[0;34m\u001b[0m\u001b[0m\n\u001b[0m\u001b[1;32m     12\u001b[0m                 \u001b[0msequence\u001b[0m \u001b[0;34m=\u001b[0m \u001b[0mag__\u001b[0m\u001b[0;34m.\u001b[0m\u001b[0mconverted_call\u001b[0m\u001b[0;34m(\u001b[0m\u001b[0mag__\u001b[0m\u001b[0;34m.\u001b[0m\u001b[0mld\u001b[0m\u001b[0;34m(\u001b[0m\u001b[0mtf\u001b[0m\u001b[0;34m)\u001b[0m\u001b[0;34m.\u001b[0m\u001b[0mcast\u001b[0m\u001b[0;34m,\u001b[0m \u001b[0;34m(\u001b[0m\u001b[0mag__\u001b[0m\u001b[0;34m.\u001b[0m\u001b[0mld\u001b[0m\u001b[0;34m(\u001b[0m\u001b[0minputs\u001b[0m\u001b[0;34m)\u001b[0m\u001b[0;34m[\u001b[0m\u001b[0;34m'sequence'\u001b[0m\u001b[0;34m]\u001b[0m\u001b[0;34m,\u001b[0m\u001b[0;34m)\u001b[0m\u001b[0;34m,\u001b[0m \u001b[0mdict\u001b[0m\u001b[0;34m(\u001b[0m\u001b[0mdtype\u001b[0m\u001b[0;34m=\u001b[0m\u001b[0mag__\u001b[0m\u001b[0;34m.\u001b[0m\u001b[0mld\u001b[0m\u001b[0;34m(\u001b[0m\u001b[0mtf\u001b[0m\u001b[0;34m)\u001b[0m\u001b[0;34m.\u001b[0m\u001b[0mfloat32\u001b[0m\u001b[0;34m)\u001b[0m\u001b[0;34m,\u001b[0m \u001b[0mfscope\u001b[0m\u001b[0;34m)\u001b[0m\u001b[0;34m\u001b[0m\u001b[0;34m\u001b[0m\u001b[0m\n\u001b[1;32m     13\u001b[0m                 \u001b[0mtss_mask\u001b[0m \u001b[0;34m=\u001b[0m \u001b[0mag__\u001b[0m\u001b[0;34m.\u001b[0m\u001b[0mconverted_call\u001b[0m\u001b[0;34m(\u001b[0m\u001b[0mag__\u001b[0m\u001b[0;34m.\u001b[0m\u001b[0mld\u001b[0m\u001b[0;34m(\u001b[0m\u001b[0mtf\u001b[0m\u001b[0;34m)\u001b[0m\u001b[0;34m.\u001b[0m\u001b[0mcast\u001b[0m\u001b[0;34m,\u001b[0m \u001b[0;34m(\u001b[0m\u001b[0mag__\u001b[0m\u001b[0;34m.\u001b[0m\u001b[0mld\u001b[0m\u001b[0;34m(\u001b[0m\u001b[0minputs\u001b[0m\u001b[0;34m)\u001b[0m\u001b[0;34m[\u001b[0m\u001b[0;34m'tss_mask'\u001b[0m\u001b[0;34m]\u001b[0m\u001b[0;34m,\u001b[0m\u001b[0;34m)\u001b[0m\u001b[0;34m,\u001b[0m \u001b[0mdict\u001b[0m\u001b[0;34m(\u001b[0m\u001b[0mdtype\u001b[0m\u001b[0;34m=\u001b[0m\u001b[0mag__\u001b[0m\u001b[0;34m.\u001b[0m\u001b[0mld\u001b[0m\u001b[0;34m(\u001b[0m\u001b[0mtf\u001b[0m\u001b[0;34m)\u001b[0m\u001b[0;34m.\u001b[0m\u001b[0mfloat32\u001b[0m\u001b[0;34m)\u001b[0m\u001b[0;34m,\u001b[0m \u001b[0mfscope\u001b[0m\u001b[0;34m)\u001b[0m\u001b[0;34m\u001b[0m\u001b[0;34m\u001b[0m\u001b[0m\n",
      "\u001b[0;31mTypeError\u001b[0m: in user code:\n\n    File \"/home/jupyter/dev/genformer_public/enformer_batch_norm_experiments/training_utils_enformer_performer.py\", line 407, in val_step  *\n        target=tf.cast(inputs['target'],\n\n    TypeError: Only integers, slices (`:`), ellipsis (`...`), tf.newaxis (`None`) and scalar tf.int32/tf.int64 tensors are valid indices, got 'target'\n"
     ]
    }
   ],
   "source": [
    "with strategy.scope():        \n",
    "    ### main training loop\n",
    "    global_step = 0\n",
    "    val_losses = []\n",
    "    val_pearsons = []\n",
    "    val_R2 = []\n",
    "    patience_counter = 0\n",
    "    stop_criteria = False\n",
    "    best_epoch = 0\n",
    "\n",
    "    for epoch_i in range(1, 4):\n",
    "        print('starting epoch_', str(epoch_i))\n",
    "        start = time.time()\n",
    "        if epoch_i == 1:\n",
    "            # run once to build the model w/o updating anything\n",
    "            build_step(val_data_it_dict['human'])\n",
    "\n",
    "        dist_train_step(tr_data_it_dict['human'],\n",
    "                        tr_data_it_dict['mouse'])\n",
    "        \n",
    "\n",
    "\n",
    "        end = time.time()\n",
    "        duration = (end - start) / 60.\n",
    "        print('completed epoch ' + str(epoch_i))\n",
    "        print('hg_train_loss: ' + str(metric_dict['human_tr'].result().numpy()))\n",
    "        \n",
    "        print('training duration(mins): ' + str(duration))\n",
    "\n",
    "        start = time.time()\n",
    "        dist_val_step_h(val_data_it_dict['human'])\n",
    "\n",
    "        print('val_loss: ' + str(metric_dict['human_val'].result().numpy()))\n",
    "        val_losses.append(metric_dict['human_val'].result().numpy())\n",
    "\n",
    "        print('human_pearsonsR: ')\n",
    "        pearsonsR=metric_dict['human_pearsonsR'].result()['PearsonR'].numpy()\n",
    "        print(pearsonsR)\n",
    "\n",
    "        val_pearsons.append(np.nanmedian(pearsonsR))\n",
    "        print('human_R2: ')\n",
    "        print(metric_dict['human_R2'].result()['R2'].numpy())\n",
    "\n",
    "\n",
    "        end = time.time()\n",
    "        duration = (end - start) / 60.\n",
    "        print('completed epoch ' + str(epoch_i) + ' validation')\n",
    "        print('validation duration(mins): ' + str(duration))\n",
    "        print('patience counter at: ' + str(patience_counter))\n",
    "\n",
    "        \n",
    "        val_step_TSS(val_data_TSS_it)\n",
    "        \n",
    "\n",
    "        y_trues = metric_dict['hg_corr_stats'].result()['y_trues'].numpy()\n",
    "        y_preds = metric_dict['hg_corr_stats'].result()['y_preds'].numpy()\n",
    "        cell_types = metric_dict['hg_corr_stats'].result()['cell_types'].numpy()\n",
    "        gene_map = metric_dict['hg_corr_stats'].result()['gene_map'].numpy()\n",
    "        \n",
    "        \n",
    "        \n",
    "        if (epoch_i > 2):\n",
    "            stop_criteria,patience_counter,best_epoch = \\\n",
    "                training_utils.early_stopping(current_val_loss=val_losses[-1],\n",
    "                                                logged_val_losses=val_losses,\n",
    "                                                current_pearsons=val_pearsons[-1],\n",
    "                                                logged_pearsons=val_pearsons,\n",
    "                                                current_epoch=epoch_i,\n",
    "                                                best_epoch=best_epoch,\n",
    "                                                save_freq=5,\n",
    "                                                patience=5,\n",
    "                                                patience_counter=patience_counter,\n",
    "                                                min_delta=1.0e-05,\n",
    "                                                model=enformer_model,\n",
    "                                                save_directory=\"gs://picard-testing-176520/test\",\n",
    "                                                saved_model_basename=\"test_model\",\n",
    "                                                checkpoint=checkpoint)\n",
    "        #plt.close('all')\n",
    "        print('patience counter at: ' + str(patience_counter))\n",
    "        for key, item in metric_dict.items():\n",
    "            item.reset_state()"
   ]
  },
  {
   "cell_type": "code",
   "execution_count": null,
   "id": "3472f238-8ef0-4026-a003-56eaa4520b51",
   "metadata": {},
   "outputs": [],
   "source": [
    "gamma_names=[]\n",
    "gamma_vars=[]\n",
    "\n",
    "beta_names=[]\n",
    "beta_vars=[]\n",
    "\n",
    "moving_means_names=[]\n",
    "moving_means_vars=[]\n",
    "\n",
    "moving_vars_names=[]\n",
    "moving_vars_vars=[]\n",
    "\n",
    "all_vars=[(k,x.name,x) for k,x in enumerate(model.stem_res_conv.variables)]\n",
    "\n",
    "for gamma_tuple in all_vars:\n",
    "    if 'sync_batch_normalization' in gamma_tuple[1]:\n",
    "        \n",
    "        specific_var = gamma_tuple[1].split('/')[1].split(':')[0]\n",
    "\n",
    "        var_name = specific_var + \"_1\"\n",
    "        vals = list(np.log(1.0+gamma_tuple[-1].values[0].numpy()))\n",
    "        #print(vals)\n",
    "        names = []\n",
    "        for variable_val in vals:\n",
    "            names.append(var_name)\n",
    "        if 'gamma' in var_name:\n",
    "            gamma_names += names\n",
    "            gamma_vars += vals\n",
    "        if 'beta' in var_name:\n",
    "            beta_names += names\n",
    "            beta_vars += vals\n",
    "        if 'moving_mean' in var_name:\n",
    "            moving_means_names += names\n",
    "            moving_means_vars += vals\n",
    "        if 'moving_variance' in var_name:\n",
    "            moving_vars_names += names\n",
    "            moving_vars_vars += vals    \n",
    "        \n",
    "            \n",
    "all_vars=[(k,x.name,x) for k,x in enumerate(model.conv_tower.variables)]\n",
    "\n",
    "for gamma_tuple in all_vars:\n",
    "    if 'sync_batch_normalization' in gamma_tuple[1]:\n",
    "        specific_var = gamma_tuple[1].split('/')[1].split(':')[0]\n",
    "        layer_num= int(gamma_tuple[1].split('/')[0].split('_')[-1])+1\n",
    "        \n",
    "        var_name = specific_var + \"_\" + str(layer_num)\n",
    "        vals = list(np.log(1.0+gamma_tuple[-1].values[0].numpy()))\n",
    "        #print(vals)\n",
    "        names = []\n",
    "        for variable_val in vals:\n",
    "            names.append(var_name)\n",
    "        if 'gamma' in var_name:\n",
    "            gamma_names += names\n",
    "            gamma_vars += vals\n",
    "        if 'beta' in var_name:\n",
    "            beta_names += names\n",
    "            beta_vars += vals\n",
    "        if 'moving_mean' in var_name:\n",
    "            moving_means_names += names\n",
    "            moving_means_vars += vals\n",
    "        if 'moving_variance' in var_name:\n",
    "            moving_vars_names += names\n",
    "            moving_vars_vars += vals    \n",
    "        "
   ]
  },
  {
   "cell_type": "code",
   "execution_count": 8,
   "id": "dc20f8fe-e650-4c5d-8e5c-c63f89f72407",
   "metadata": {},
   "outputs": [
    {
     "data": {
      "text/plain": [
       "<seaborn.axisgrid.FacetGrid at 0x7f2a01ddef90>"
      ]
     },
     "execution_count": 8,
     "metadata": {},
     "output_type": "execute_result"
    },
    {
     "data": {
      "image/png": "[encoded data removed]",
      "text/plain": [
       "<Figure size 451.625x360 with 1 Axes>"
      ]
     },
     "metadata": {
      "needs_background": "light"
     },
     "output_type": "display_data"
    }
   ],
   "source": [
    "import pandas as pd\n",
    "import seaborn as sns\n",
    "gamma_df=pd.DataFrame(list(zip(gamma_names, gamma_vars)), columns =['layer', 'values'])\n",
    "sns.displot(data=gamma_df, x=\"values\", hue=\"layer\", kind=\"kde\")"
   ]
  },
  {
   "cell_type": "code",
   "execution_count": 9,
   "id": "373d5a8f-25bd-4010-8cc8-88a3a7a284fe",
   "metadata": {},
   "outputs": [
    {
     "data": {
      "text/plain": [
       "<seaborn.axisgrid.FacetGrid at 0x7f2a70687190>"
      ]
     },
     "execution_count": 9,
     "metadata": {},
     "output_type": "execute_result"
    },
    {
     "data": {
      "image/png": "[encoded data removed]",
      "text/plain": [
       "<Figure size 436.125x360 with 1 Axes>"
      ]
     },
     "metadata": {
      "needs_background": "light"
     },
     "output_type": "display_data"
    }
   ],
   "source": [
    "beta_df=pd.DataFrame(list(zip(beta_names, beta_vars)), columns =['layer', 'values'])\n",
    "sns.displot(data=beta_df, x=\"values\", hue=\"layer\", kind=\"kde\")"
   ]
  },
  {
   "cell_type": "code",
   "execution_count": 85,
   "id": "1e46e73a-0a17-4075-92a0-52a99ca72e39",
   "metadata": {},
   "outputs": [
    {
     "data": {
      "text/plain": [
       "0.6931471805599453"
      ]
     },
     "execution_count": 85,
     "metadata": {},
     "output_type": "execute_result"
    }
   ],
   "source": [
    "np.log(2)"
   ]
  },
  {
   "cell_type": "code",
   "execution_count": 12,
   "id": "d0b69175-06d4-4734-9c8a-c6c14c5662b9",
   "metadata": {},
   "outputs": [],
   "source": [
    "out=exponential_linspace_int(start=768, end=1536,num=6, divisible_by=128)"
   ]
  },
  {
   "cell_type": "code",
   "execution_count": 10,
   "id": "52b571fe-3f9f-4139-8089-4a541459566e",
   "metadata": {},
   "outputs": [
    {
     "name": "stdout",
     "output_type": "stream",
     "text": [
      "None\n"
     ]
    }
   ],
   "source": [
    "    results_df = pd.DataFrame()\n",
    "    results_df['true'] = y_trues\n",
    "    results_df['pred'] = y_preds\n",
    "    results_df['gene_encoding'] =gene_map\n",
    "    results_df['cell_type_encoding'] = cell_types"
   ]
  },
  {
   "cell_type": "code",
   "execution_count": 19,
   "id": "ef03cf32-55f3-497c-a706-c689484bc45b",
   "metadata": {},
   "outputs": [],
   "source": [
    "import pandas as pd\n",
    "results_df = pd.DataFrame()\n",
    "results_df['test']=np.random.normal(0, 1, 20)\n",
    "results_df['test1']=np.random.normal(0, 1, 20)\n",
    "results_df['group1']=np.array([1,2] * 10)\n",
    "results_df['group2']=np.array(['A','B'] * 10)"
   ]
  },
  {
   "cell_type": "code",
   "execution_count": 20,
   "id": "21d24593-4b8a-4bd6-bfa9-81bef2c003c1",
   "metadata": {},
   "outputs": [
    {
     "data": {
      "text/plain": [
       "[-0.05797280165825752, -0.249068029203528]"
      ]
     },
     "execution_count": 20,
     "metadata": {},
     "output_type": "execute_result"
    }
   ],
   "source": [
    "results_df.groupby('group1')[['test','test1']].corr(method='pearson').unstack().iloc[:,1].tolist()"
   ]
  },
  {
   "cell_type": "code",
   "execution_count": 28,
   "id": "17f52311-1fe0-4eb8-94a0-2bb1cad8a2c1",
   "metadata": {},
   "outputs": [],
   "source": [
    "from scipy.stats.stats import pearsonr, spearmanr\n",
    "indices = [x for x in range(0,20,2)]"
   ]
  },
  {
   "cell_type": "code",
   "execution_count": 29,
   "id": "ced90eb9-38ce-435d-ab3f-325b431e3fa2",
   "metadata": {},
   "outputs": [
    {
     "data": {
      "text/plain": [
       "(-0.05797280165825758, 0.8736098449541455)"
      ]
     },
     "execution_count": 29,
     "metadata": {},
     "output_type": "execute_result"
    }
   ],
   "source": [
    "pearsonr(results_df[['test']].to_numpy()[:,0][indices],\n",
    "         results_df[['test1']].to_numpy()[:,0][indices])\n",
    "         "
   ]
  },
  {
   "cell_type": "code",
   "execution_count": 27,
   "id": "37b21905-061b-4533-92d3-093752e4ca88",
   "metadata": {},
   "outputs": [
    {
     "data": {
      "text/plain": [
       "(20, 1)"
      ]
     },
     "execution_count": 27,
     "metadata": {},
     "output_type": "execute_result"
    }
   ],
   "source": [
    "results_df[['test']].to_numpy().shape"
   ]
  },
  {
   "cell_type": "code",
   "execution_count": 38,
   "id": "74241809-1a97-440c-98e2-4d6ad01ea92a",
   "metadata": {},
   "outputs": [],
   "source": [
    "test1=tf.constant([[[0.,1.,2.],\n",
    "                   [0.,0.,0.]]])\n",
    "\n",
    "test2=tf.constant([[[0.,0.,0.],\n",
    "                   [0.,1.,2.]]])"
   ]
  },
  {
   "cell_type": "code",
   "execution_count": 43,
   "id": "358524f4-aa67-4890-b071-f75ddd41ffe3",
   "metadata": {},
   "outputs": [
    {
     "data": {
      "text/plain": [
       "<tf.Tensor: shape=(), dtype=float32, numpy=8.559048>"
      ]
     },
     "execution_count": 43,
     "metadata": {},
     "output_type": "execute_result"
    }
   ],
   "source": [
    "tf.reduce_mean(tf.keras.losses.poisson(tf.transpose(test1, perm=[0, 2, 1]),tf.transpose(test2, perm=[0, 2, 1])))"
   ]
  },
  {
   "cell_type": "code",
   "execution_count": 44,
   "id": "0851f0f5-fa50-46e2-8340-8609696bde5b",
   "metadata": {},
   "outputs": [
    {
     "data": {
      "text/plain": [
       "<tf.Tensor: shape=(1, 3), dtype=float32, numpy=array([[ 0.      ,  8.559048, 17.118095]], dtype=float32)>"
      ]
     },
     "execution_count": 44,
     "metadata": {},
     "output_type": "execute_result"
    }
   ],
   "source": [
    "tf.keras.losses.poisson(tf.transpose(test1, perm=[0, 2, 1]),tf.transpose(test2, perm=[0, 2, 1]))"
   ]
  },
  {
   "cell_type": "code",
   "execution_count": 45,
   "id": "15794832-68b0-4ce2-89ea-8118966b32dd",
   "metadata": {},
   "outputs": [
    {
     "data": {
      "text/plain": [
       "8.559047666666666"
      ]
     },
     "execution_count": 45,
     "metadata": {},
     "output_type": "execute_result"
    }
   ],
   "source": [
    "(17.118095 + 8.559048) / 3"
   ]
  },
  {
   "cell_type": "code",
   "execution_count": 48,
   "id": "6f197005-88eb-401e-8f9c-1895e00b8cd9",
   "metadata": {},
   "outputs": [
    {
     "data": {
      "text/plain": [
       "<tf.Tensor: shape=(1, 3), dtype=float32, numpy=array([[ 0.      ,  8.559048, 17.118095]], dtype=float32)>"
      ]
     },
     "execution_count": 48,
     "metadata": {},
     "output_type": "execute_result"
    }
   ],
   "source": [
    "t=tf.keras.losses.Poisson(reduction=tf.keras.losses.Reduction.NONE)\n",
    "\n",
    "t(tf.transpose(test1, perm=[0, 2, 1]),tf.transpose(test2, perm=[0, 2, 1]))"
   ]
  },
  {
   "cell_type": "code",
   "execution_count": 17,
   "id": "9facfb42-cacc-468f-9673-4cd27f607375",
   "metadata": {},
   "outputs": [],
   "source": [
    "def deserialize(serialized_example):\n",
    "    \"\"\"Deserialize bytes stored in TFRecordFile.\"\"\"\n",
    "    feature_map = {\n",
    "      'sequence': tf.io.FixedLenFeature([], tf.string),\n",
    "      'target': tf.io.FixedLenFeature([], tf.string),\n",
    "    }\n",
    "    \n",
    "    data = tf.io.parse_example(serialized_example, feature_map)\n",
    "\n",
    "    sequence = tf.io.decode_raw(data['sequence'], tf.bool)\n",
    "    sequence = tf.reshape(sequence, (131072, 4))\n",
    "    sequence = tf.cast(sequence, tf.float32)\n",
    "    \n",
    "    target = tf.io.decode_raw(data['target'], tf.float16)\n",
    "    target = tf.reshape(target,\n",
    "                        (896, 5313))\n",
    "\n",
    "    return {'sequence': tf.ensure_shape(sequence,\n",
    "                                        [131072,4]),\n",
    "            'target': tf.ensure_shape(target,\n",
    "                                      [896,5313])}\n",
    "\n",
    "\n",
    "dataset = tf.data.TFRecordDataset(\"gs://terra_cagerna/basenji_barnyard/data/human/tfrecords/train-0-0.tfr\",\n",
    "                                  compression_type='ZLIB',\n",
    "                                  num_parallel_reads=4)\n",
    "\n",
    "dataset=dataset.map(lambda record: deserialize(record),\n",
    "                                               num_parallel_calls=4)\n",
    "dataset_iter=iter(dataset.batch(1))"
   ]
  },
  {
   "cell_type": "code",
   "execution_count": 18,
   "id": "19003a3e-f89a-4f56-9769-eb64b0fffc69",
   "metadata": {},
   "outputs": [],
   "source": [
    "out=next(dataset_iter)"
   ]
  },
  {
   "cell_type": "code",
   "execution_count": 30,
   "id": "1a7a8d0d-1b08-483d-a758-6e713ed85015",
   "metadata": {},
   "outputs": [],
   "source": [
    "def deserialize_val_TSS(serialized_example,input_length=196608,max_shift=10, out_length=896,num_targets=5313):\n",
    "    \"\"\"Deserialize bytes stored in TFRecordFile.\"\"\"\n",
    "    feature_map = {\n",
    "        'sequence': tf.io.FixedLenFeature([], tf.string),\n",
    "        'target': tf.io.FixedLenFeature([], tf.string),\n",
    "        'tss_mask': tf.io.FixedLenFeature([], tf.string),\n",
    "        'gene_name': tf.io.FixedLenFeature([], tf.string)\n",
    "    }\n",
    "    \n",
    "    data = tf.io.parse_example(serialized_example, feature_map)\n",
    "\n",
    "    shift = 5\n",
    "    input_seq_length = input_length + max_shift\n",
    "    interval_end = input_length + shift\n",
    "    \n",
    "    ### rev_comp\n",
    "    #rev_comp = random.randrange(0,2)\n",
    "\n",
    "    example = tf.io.parse_example(serialized_example, feature_map)\n",
    "    sequence = tf.io.decode_raw(example['sequence'], tf.bool)\n",
    "    sequence = tf.reshape(sequence, (input_length + max_shift, 4))\n",
    "    sequence = tf.cast(sequence, tf.float32)\n",
    "    sequence = tf.slice(sequence, [shift,0],[input_length,-1])\n",
    "    \n",
    "    target = tf.io.decode_raw(example['target'], tf.float16)\n",
    "    target = tf.reshape(target,\n",
    "                        (out_length, num_targets))\n",
    "    \n",
    "    tss_mask = tf.io.parse_tensor(data['tss_mask'],\n",
    "                                  out_type=tf.int32)\n",
    "\n",
    "    \n",
    "    gene_name= tf.io.parse_tensor(example['gene_name'],out_type=tf.int32)\n",
    "    gene_name = tf.tile(tf.expand_dims(gene_name,axis=0),[638])\n",
    "    cell_types = tf.range(0,638)\n",
    "    \n",
    "    return {'sequence': tf.ensure_shape(sequence,\n",
    "                                        [input_length,4]),\n",
    "            'target': tf.ensure_shape(target,\n",
    "                                      [896,num_targets]),\n",
    "            'tss_mask': tf.ensure_shape(tss_mask,\n",
    "                                        [896,1]),\n",
    "            'gene_name': tf.ensure_shape(gene_name,\n",
    "                                         [638,]),\n",
    "            'cell_types': tf.ensure_shape(cell_types,\n",
    "                                           [638,])}"
   ]
  },
  {
   "cell_type": "code",
   "execution_count": 31,
   "id": "c8c1bbdf-81e3-4530-87c4-dbc9ea9dedb5",
   "metadata": {},
   "outputs": [],
   "source": [
    "dataset = tf.data.TFRecordDataset(\"gs://genformer_data/expanded_originals/196k/human/tfrecords_tss/tssmask-valid-0-0.tfr\",\n",
    "                                  compression_type='ZLIB',\n",
    "                                  num_parallel_reads=4)\n",
    "#dataset = dataset.with_options(options)\n",
    "dataset = dataset.map(lambda record: deserialize_val_TSS(record),\n",
    "                      deterministic=False,\n",
    "                      num_parallel_calls=4)\n",
    "dataset=iter(dataset)"
   ]
  },
  {
   "cell_type": "code",
   "execution_count": 33,
   "id": "3e5d7a6a-5118-4056-8807-913310017ad7",
   "metadata": {},
   "outputs": [
    {
     "data": {
      "text/plain": [
       "(array([281, 282, 283, 284]), array([0, 0, 0, 0]))"
      ]
     },
     "execution_count": 33,
     "metadata": {},
     "output_type": "execute_result"
    }
   ],
   "source": [
    "test=next(dataset)\n",
    "np.nonzero(test['tss_mask'].numpy())"
   ]
  },
  {
   "cell_type": "code",
   "execution_count": 8,
   "id": "d2d5f341-041c-4ea8-9be9-e34627ce3d95",
   "metadata": {},
   "outputs": [],
   "source": []
  },
  {
   "cell_type": "code",
   "execution_count": 9,
   "id": "c05db38b-1d58-477a-8e79-0af019181aec",
   "metadata": {},
   "outputs": [
    {
     "data": {
      "text/plain": [
       "PerReplica:{\n",
       "  0: <tf.Tensor: shape=(1, 896, 5313), dtype=float16, numpy=\n",
       "array([[[0.01155 , 0.02716 , 0.0206  , ..., 0.      , 0.      ,\n",
       "         0.      ],\n",
       "        [0.0109  , 0.04666 , 0.0309  , ..., 0.      , 0.      ,\n",
       "         0.      ],\n",
       "        [0.00792 , 0.035   , 0.01932 , ..., 0.      , 0.      ,\n",
       "         0.      ],\n",
       "        ...,\n",
       "        [0.      , 0.006863, 0.      , ..., 0.      , 0.      ,\n",
       "         0.      ],\n",
       "        [0.      , 0.      , 0.002575, ..., 0.      , 0.0795  ,\n",
       "         0.      ],\n",
       "        [0.014786, 0.      , 0.03992 , ..., 0.      , 0.1423  ,\n",
       "         0.      ]]], dtype=float16)>,\n",
       "  1: <tf.Tensor: shape=(1, 896, 5313), dtype=float16, numpy=\n",
       "array([[[0.09924 , 0.0927  , 0.01834 , ..., 0.      , 0.      ,\n",
       "         0.      ],\n",
       "        [0.11127 , 0.1686  , 0.03397 , ..., 0.      , 0.9844  ,\n",
       "         0.      ],\n",
       "        [0.1432  , 0.2322  , 0.01851 , ..., 0.      , 0.      ,\n",
       "         0.      ],\n",
       "        ...,\n",
       "        [0.00663 , 0.01672 , 0.007565, ..., 0.01852 , 0.11566 ,\n",
       "         0.      ],\n",
       "        [0.004112, 0.001557, 0.      , ..., 0.      , 0.      ,\n",
       "         0.      ],\n",
       "        [0.0696  , 0.03845 , 0.04312 , ..., 0.      , 0.      ,\n",
       "         0.      ]]], dtype=float16)>,\n",
       "  2: <tf.Tensor: shape=(1, 896, 5313), dtype=float16, numpy=\n",
       "array([[[0.0323 , 0.02287, 0.01996, ..., 0.     , 0.     , 0.     ],\n",
       "        [0.03558, 0.0332 , 0.07806, ..., 0.     , 0.     , 0.     ],\n",
       "        [0.03824, 0.0284 , 0.00499, ..., 0.     , 0.     , 0.     ],\n",
       "        ...,\n",
       "        [0.     , 0.     , 0.     , ..., 0.     , 0.     , 0.     ],\n",
       "        [0.     , 0.     , 0.     , ..., 0.     , 0.     , 0.     ],\n",
       "        [0.     , 0.     , 0.     , ..., 0.     , 0.     , 0.     ]]],\n",
       "      dtype=float16)>,\n",
       "  3: <tf.Tensor: shape=(1, 896, 5313), dtype=float16, numpy=\n",
       "array([[[0.      , 0.      , 0.      , ..., 0.      , 0.1184  ,\n",
       "         0.      ],\n",
       "        [0.00742 , 0.005264, 0.      , ..., 0.      , 0.02199 ,\n",
       "         0.003363],\n",
       "        [0.00866 , 0.02127 , 0.01723 , ..., 0.      , 0.      ,\n",
       "         0.0611  ],\n",
       "        ...,\n",
       "        [0.0377  , 0.04834 , 0.      , ..., 0.      , 0.      ,\n",
       "         0.      ],\n",
       "        [0.04605 , 0.08356 , 0.01336 , ..., 0.      , 0.      ,\n",
       "         0.11633 ],\n",
       "        [0.06158 , 0.08026 , 0.06018 , ..., 0.      , 0.      ,\n",
       "         0.      ]]], dtype=float16)>,\n",
       "  4: <tf.Tensor: shape=(1, 896, 5313), dtype=float16, numpy=\n",
       "array([[[0.1236 , 0.1312 , 0.04828, ..., 0.08575, 0.     , 0.2308 ],\n",
       "        [0.1071 , 0.1121 , 0.0584 , ..., 0.03528, 0.09454, 0.3313 ],\n",
       "        [0.0879 , 0.08386, 0.01883, ..., 0.     , 0.     , 0.     ],\n",
       "        ...,\n",
       "        [0.1232 , 0.1165 , 0.066  , ..., 0.     , 0.     , 0.     ],\n",
       "        [0.1432 , 0.1168 , 0.1409 , ..., 0.     , 0.     , 0.     ],\n",
       "        [0.1416 , 0.1624 , 0.2174 , ..., 0.     , 0.     , 0.     ]]],\n",
       "      dtype=float16)>,\n",
       "  5: <tf.Tensor: shape=(1, 896, 5313), dtype=float16, numpy=\n",
       "array([[[0.      , 0.006336, 0.      , ..., 0.      , 0.      ,\n",
       "         0.      ],\n",
       "        [0.006214, 0.0087  , 0.      , ..., 0.      , 0.1772  ,\n",
       "         0.      ],\n",
       "        [0.01516 , 0.      , 0.      , ..., 0.      , 0.      ,\n",
       "         0.      ],\n",
       "        ...,\n",
       "        [0.02126 , 0.01666 , 0.01014 , ..., 0.      , 0.      ,\n",
       "         0.      ],\n",
       "        [0.0131  , 0.02234 , 0.05133 , ..., 0.      , 0.      ,\n",
       "         0.03116 ],\n",
       "        [0.0215  , 0.01453 , 0.01578 , ..., 0.      , 0.      ,\n",
       "         0.      ]]], dtype=float16)>,\n",
       "  6: <tf.Tensor: shape=(1, 896, 5313), dtype=float16, numpy=\n",
       "array([[[0.0171 , 0.01828, 0.0641 , ..., 0.     , 0.     , 0.     ],\n",
       "        [0.0739 , 0.0766 , 0.07513, ..., 0.     , 0.     , 0.     ],\n",
       "        [0.1009 , 0.10986, 0.1041 , ..., 0.     , 0.     , 0.     ],\n",
       "        ...,\n",
       "        [0.04416, 0.0361 , 0.02013, ..., 0.     , 0.     , 0.     ],\n",
       "        [0.1658 , 0.1466 , 0.0925 , ..., 0.10693, 1.861  , 0.226  ],\n",
       "        [0.169  , 0.1389 , 0.1335 , ..., 0.     , 0.     , 0.     ]]],\n",
       "      dtype=float16)>,\n",
       "  7: <tf.Tensor: shape=(1, 896, 5313), dtype=float16, numpy=\n",
       "array([[[0.11694 , 0.10345 , 0.05698 , ..., 0.      , 0.      ,\n",
       "         0.      ],\n",
       "        [0.01694 , 0.02464 , 0.007404, ..., 0.      , 0.      ,\n",
       "         0.      ],\n",
       "        [0.02943 , 0.0111  , 0.1101  , ..., 0.      , 0.      ,\n",
       "         0.      ],\n",
       "        ...,\n",
       "        [0.02324 , 0.0518  , 0.      , ..., 0.      , 0.      ,\n",
       "         0.      ],\n",
       "        [0.0357  , 0.04636 , 0.0531  , ..., 0.      , 0.      ,\n",
       "         0.      ],\n",
       "        [0.010414, 0.01159 , 0.02414 , ..., 0.      , 0.      ,\n",
       "         0.      ]]], dtype=float16)>\n",
       "}"
      ]
     },
     "execution_count": 9,
     "metadata": {},
     "output_type": "execute_result"
    }
   ],
   "source": []
  },
  {
   "cell_type": "code",
   "execution_count": 2,
   "id": "cc56688c-1efe-4d26-82b1-6d50175008e3",
   "metadata": {},
   "outputs": [],
   "source": [
    "def exponential_linspace_int(start, end, num, divisible_by=1):\n",
    "  \"\"\"Exponentially increasing values of integers.\"\"\"\n",
    "  def _round(x):\n",
    "    return int(np.round(x / divisible_by) * divisible_by)\n",
    "\n",
    "  base = np.exp(np.log(end / start) / (num - 1))\n",
    "  return [_round(start * base**i) for i in range(num)]"
   ]
  },
  {
   "cell_type": "code",
   "execution_count": 3,
   "id": "37f19548-3db5-4ce9-affc-036e33c0b999",
   "metadata": {},
   "outputs": [
    {
     "name": "stdout",
     "output_type": "stream",
     "text": [
      "[192, 221, 253, 291, 334, 384]\n"
     ]
    }
   ],
   "source": [
    "print(exponential_linspace_int(192,384,6))"
   ]
  },
  {
   "cell_type": "code",
   "execution_count": null,
   "id": "4a248a50-8ff5-4977-ad56-5aa46b58e32f",
   "metadata": {},
   "outputs": [],
   "source": []
  }
 ],
 "metadata": {
  "environment": {
   "name": "tf2-cpu.2-6.m81",
   "type": "gcloud",
   "uri": "gcr.io/deeplearning-platform-release/tf2-cpu.2-6:m81"
  },
  "kernelspec": {
   "display_name": "Python 3",
   "language": "python",
   "name": "python3"
  },
  "language_info": {
   "codemirror_mode": {
    "name": "ipython",
    "version": 3
   },
   "file_extension": ".py",
   "mimetype": "text/x-python",
   "name": "python",
   "nbconvert_exporter": "python",
   "pygments_lexer": "ipython3",
   "version": "3.7.10"
  }
 },
 "nbformat": 4,
 "nbformat_minor": 5
}
