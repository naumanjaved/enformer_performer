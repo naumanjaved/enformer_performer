{
 "cells": [
  {
   "cell_type": "code",
   "execution_count": 83,
   "id": "f89352f1-c3bf-4225-9de9-d4e1117998bd",
   "metadata": {},
   "outputs": [],
   "source": [
    "import time\n",
    "import os\n",
    "import subprocess\n",
    "import sys\n",
    "import re\n",
    "import argparse\n",
    "import collections\n",
    "import gzip\n",
    "import math\n",
    "import shutil\n",
    "import matplotlib.pyplot as plt\n",
    "import wandb\n",
    "import numpy as np\n",
    "import time\n",
    "from datetime import datetime\n",
    "import random\n",
    "\n",
    "import seaborn as sns\n",
    "%matplotlib inline\n",
    "import logging\n",
    "from silence_tensorflow import silence_tensorflow\n",
    "#silence_tensorflow()\n",
    "os.environ['TPU_LOAD_LIBRARY']='0'\n",
    "os.environ['TF_ENABLE_EAGER_CLIENT_STREAMING_ENQUEUE']='False'\n",
    "import tensorflow as tf\n",
    "\n",
    "\n",
    "import tensorflow.experimental.numpy as tnp\n",
    "import tensorflow_addons as tfa\n",
    "from tensorflow import strings as tfs\n",
    "from tensorflow.keras import mixed_precision\n",
    "from scipy.stats.stats import pearsonr  \n",
    "from scipy.stats.stats import spearmanr  \n",
    "## custom modules\n",
    "import enformer_performer as enformer_performer\n",
    "#import src.aformer_TF as aformer\n",
    "\n",
    "\n",
    "import training_utils as training_utils\n",
    "\n",
    "\n",
    "from scipy import stats\n",
    "\n",
    "\n",
    "\n",
    "import kipoiseq\n",
    "from kipoiseq import Interval\n",
    "import pyfaidx\n",
    "from deeplift import dinuc_shuffle"
   ]
  },
  {
   "cell_type": "code",
   "execution_count": 84,
   "id": "9453310b-f3ab-4159-8a92-aa0982fd2f2a",
   "metadata": {},
   "outputs": [
    {
     "name": "stdout",
     "output_type": "stream",
     "text": [
      "INFO:tensorflow:Deallocate tpu buffers before initializing tpu system.\n"
     ]
    },
    {
     "name": "stderr",
     "output_type": "stream",
     "text": [
      "INFO:tensorflow:Deallocate tpu buffers before initializing tpu system.\n"
     ]
    },
    {
     "name": "stdout",
     "output_type": "stream",
     "text": [
      "WARNING:tensorflow:TPU system node-5 has already been initialized. Reinitializing the TPU can cause previously created variables on TPU to be lost.\n"
     ]
    },
    {
     "name": "stderr",
     "output_type": "stream",
     "text": [
      "WARNING:tensorflow:TPU system node-5 has already been initialized. Reinitializing the TPU can cause previously created variables on TPU to be lost.\n"
     ]
    },
    {
     "name": "stdout",
     "output_type": "stream",
     "text": [
      "INFO:tensorflow:Initializing the TPU system: node-5\n"
     ]
    },
    {
     "name": "stderr",
     "output_type": "stream",
     "text": [
      "INFO:tensorflow:Initializing the TPU system: node-5\n"
     ]
    },
    {
     "name": "stdout",
     "output_type": "stream",
     "text": [
      "INFO:tensorflow:Finished initializing TPU system.\n"
     ]
    },
    {
     "name": "stderr",
     "output_type": "stream",
     "text": [
      "INFO:tensorflow:Finished initializing TPU system.\n"
     ]
    },
    {
     "name": "stdout",
     "output_type": "stream",
     "text": [
      "INFO:tensorflow:Found TPU system:\n"
     ]
    },
    {
     "name": "stderr",
     "output_type": "stream",
     "text": [
      "INFO:tensorflow:Found TPU system:\n"
     ]
    },
    {
     "name": "stdout",
     "output_type": "stream",
     "text": [
      "INFO:tensorflow:*** Num TPU Cores: 8\n"
     ]
    },
    {
     "name": "stderr",
     "output_type": "stream",
     "text": [
      "INFO:tensorflow:*** Num TPU Cores: 8\n"
     ]
    },
    {
     "name": "stdout",
     "output_type": "stream",
     "text": [
      "INFO:tensorflow:*** Num TPU Workers: 1\n"
     ]
    },
    {
     "name": "stderr",
     "output_type": "stream",
     "text": [
      "INFO:tensorflow:*** Num TPU Workers: 1\n"
     ]
    },
    {
     "name": "stdout",
     "output_type": "stream",
     "text": [
      "INFO:tensorflow:*** Num TPU Cores Per Worker: 8\n"
     ]
    },
    {
     "name": "stderr",
     "output_type": "stream",
     "text": [
      "INFO:tensorflow:*** Num TPU Cores Per Worker: 8\n"
     ]
    },
    {
     "name": "stdout",
     "output_type": "stream",
     "text": [
      "INFO:tensorflow:*** Available Device: _DeviceAttributes(/job:localhost/replica:0/task:0/device:CPU:0, CPU, 0, 0)\n"
     ]
    },
    {
     "name": "stderr",
     "output_type": "stream",
     "text": [
      "INFO:tensorflow:*** Available Device: _DeviceAttributes(/job:localhost/replica:0/task:0/device:CPU:0, CPU, 0, 0)\n"
     ]
    },
    {
     "name": "stdout",
     "output_type": "stream",
     "text": [
      "INFO:tensorflow:*** Available Device: _DeviceAttributes(/job:worker/replica:0/task:0/device:CPU:0, CPU, 0, 0)\n"
     ]
    },
    {
     "name": "stderr",
     "output_type": "stream",
     "text": [
      "INFO:tensorflow:*** Available Device: _DeviceAttributes(/job:worker/replica:0/task:0/device:CPU:0, CPU, 0, 0)\n"
     ]
    },
    {
     "name": "stdout",
     "output_type": "stream",
     "text": [
      "INFO:tensorflow:*** Available Device: _DeviceAttributes(/job:worker/replica:0/task:0/device:TPU:0, TPU, 0, 0)\n"
     ]
    },
    {
     "name": "stderr",
     "output_type": "stream",
     "text": [
      "INFO:tensorflow:*** Available Device: _DeviceAttributes(/job:worker/replica:0/task:0/device:TPU:0, TPU, 0, 0)\n"
     ]
    },
    {
     "name": "stdout",
     "output_type": "stream",
     "text": [
      "INFO:tensorflow:*** Available Device: _DeviceAttributes(/job:worker/replica:0/task:0/device:TPU:1, TPU, 0, 0)\n"
     ]
    },
    {
     "name": "stderr",
     "output_type": "stream",
     "text": [
      "INFO:tensorflow:*** Available Device: _DeviceAttributes(/job:worker/replica:0/task:0/device:TPU:1, TPU, 0, 0)\n"
     ]
    },
    {
     "name": "stdout",
     "output_type": "stream",
     "text": [
      "INFO:tensorflow:*** Available Device: _DeviceAttributes(/job:worker/replica:0/task:0/device:TPU:2, TPU, 0, 0)\n"
     ]
    },
    {
     "name": "stderr",
     "output_type": "stream",
     "text": [
      "INFO:tensorflow:*** Available Device: _DeviceAttributes(/job:worker/replica:0/task:0/device:TPU:2, TPU, 0, 0)\n"
     ]
    },
    {
     "name": "stdout",
     "output_type": "stream",
     "text": [
      "INFO:tensorflow:*** Available Device: _DeviceAttributes(/job:worker/replica:0/task:0/device:TPU:3, TPU, 0, 0)\n"
     ]
    },
    {
     "name": "stderr",
     "output_type": "stream",
     "text": [
      "INFO:tensorflow:*** Available Device: _DeviceAttributes(/job:worker/replica:0/task:0/device:TPU:3, TPU, 0, 0)\n"
     ]
    },
    {
     "name": "stdout",
     "output_type": "stream",
     "text": [
      "INFO:tensorflow:*** Available Device: _DeviceAttributes(/job:worker/replica:0/task:0/device:TPU:4, TPU, 0, 0)\n"
     ]
    },
    {
     "name": "stderr",
     "output_type": "stream",
     "text": [
      "INFO:tensorflow:*** Available Device: _DeviceAttributes(/job:worker/replica:0/task:0/device:TPU:4, TPU, 0, 0)\n"
     ]
    },
    {
     "name": "stdout",
     "output_type": "stream",
     "text": [
      "INFO:tensorflow:*** Available Device: _DeviceAttributes(/job:worker/replica:0/task:0/device:TPU:5, TPU, 0, 0)\n"
     ]
    },
    {
     "name": "stderr",
     "output_type": "stream",
     "text": [
      "INFO:tensorflow:*** Available Device: _DeviceAttributes(/job:worker/replica:0/task:0/device:TPU:5, TPU, 0, 0)\n"
     ]
    },
    {
     "name": "stdout",
     "output_type": "stream",
     "text": [
      "INFO:tensorflow:*** Available Device: _DeviceAttributes(/job:worker/replica:0/task:0/device:TPU:6, TPU, 0, 0)\n"
     ]
    },
    {
     "name": "stderr",
     "output_type": "stream",
     "text": [
      "INFO:tensorflow:*** Available Device: _DeviceAttributes(/job:worker/replica:0/task:0/device:TPU:6, TPU, 0, 0)\n"
     ]
    },
    {
     "name": "stdout",
     "output_type": "stream",
     "text": [
      "INFO:tensorflow:*** Available Device: _DeviceAttributes(/job:worker/replica:0/task:0/device:TPU:7, TPU, 0, 0)\n"
     ]
    },
    {
     "name": "stderr",
     "output_type": "stream",
     "text": [
      "INFO:tensorflow:*** Available Device: _DeviceAttributes(/job:worker/replica:0/task:0/device:TPU:7, TPU, 0, 0)\n"
     ]
    },
    {
     "name": "stdout",
     "output_type": "stream",
     "text": [
      "INFO:tensorflow:*** Available Device: _DeviceAttributes(/job:worker/replica:0/task:0/device:TPU_SYSTEM:0, TPU_SYSTEM, 0, 0)\n"
     ]
    },
    {
     "name": "stderr",
     "output_type": "stream",
     "text": [
      "INFO:tensorflow:*** Available Device: _DeviceAttributes(/job:worker/replica:0/task:0/device:TPU_SYSTEM:0, TPU_SYSTEM, 0, 0)\n"
     ]
    },
    {
     "name": "stdout",
     "output_type": "stream",
     "text": [
      "INFO:tensorflow:*** Available Device: _DeviceAttributes(/job:worker/replica:0/task:0/device:XLA_CPU:0, XLA_CPU, 0, 0)\n"
     ]
    },
    {
     "name": "stderr",
     "output_type": "stream",
     "text": [
      "INFO:tensorflow:*** Available Device: _DeviceAttributes(/job:worker/replica:0/task:0/device:XLA_CPU:0, XLA_CPU, 0, 0)\n"
     ]
    }
   ],
   "source": [
    "resolver = tf.distribute.cluster_resolver.TPUClusterResolver(tpu='node-5')\n",
    "tf.config.experimental_connect_to_cluster(resolver)\n",
    "tf.tpu.experimental.initialize_tpu_system(resolver)\n",
    "strategy = tf.distribute.TPUStrategy(resolver)\n",
    "\n",
    "with strategy.scope():\n",
    "    options = tf.data.Options()\n",
    "    options.experimental_distribute.auto_shard_policy = tf.data.experimental.AutoShardPolicy.FILE\n",
    "    options.deterministic=False\n",
    "    #options.experimental_threading.max_intra_op_parallelism = 1\n",
    "    mixed_precision.set_global_policy('mixed_bfloat16')\n",
    "    tf.config.optimizer.set_jit(True)\n",
    "    #options.num_devices = 64\n",
    "\n",
    "    BATCH_SIZE_PER_REPLICA = 1\n",
    "    NUM_REPLICAS = strategy.num_replicas_in_sync\n",
    "    GLOBAL_BATCH_SIZE = BATCH_SIZE_PER_REPLICA * NUM_REPLICAS"
   ]
  },
  {
   "cell_type": "code",
   "execution_count": 85,
   "id": "74340db5-b155-4ffc-93af-f6bc136a6c01",
   "metadata": {},
   "outputs": [],
   "source": [
    "with strategy.scope():\n",
    "    heads_dict = {}\n",
    "    orgs = [\"hg\"]\n",
    "    for k, org in enumerate(orgs):\n",
    "        heads_dict[org] = int(k)\n",
    "        \n",
    "        \n",
    "    class Enformer:\n",
    "        def __init__(self):\n",
    "\n",
    "            #inits=training_utils.get_initializers(\"gs://picard-testing-176520/enformer_performer/models/enformer_performer_230214_E-P-_2696_enformer_393k_load_init-True_freeze-True_LR1-2.5e-06_LR2-8e-05_T-4_F-1536_K-relu_kernel_transformation/iteration_5\")\n",
    "            model = enformer_performer.enformer_performer( num_transformer_layers = 6,\n",
    "                         num_heads= 8,\n",
    "                         heads_channels = {'human': 2696,\n",
    "                                                 'mouse': 987},\n",
    "                         filter_list=[768,896,1024,1152,1280,1536],\n",
    "                         dim=192,\n",
    "                         d_model=1536,\n",
    "                         norm=True,\n",
    "                         max_seq_length=3072,\n",
    "                         nb_random_features=256,\n",
    "                         hidden_size=1536,\n",
    "                         numerical_stabilizer=0.001,\n",
    "                         attention_dropout_rate=0.05,\n",
    "                         dropout_rate=0.40,\n",
    "                         BN_momentum=0.90,\n",
    "                         rel_pos_bins=3072,\n",
    "                         out_length = 3072,\n",
    "                         target_length = 896,\n",
    "                         use_mask_pos=False,\n",
    "                         use_rot_emb=True,\n",
    "                         load_init=False,\n",
    "                         freeze_conv_layers=False,\n",
    "                         stable_variant=True,\n",
    "                         inits=None,\n",
    "                         kernel_transformation=\"relu_kernel_transformation\",\n",
    "                         normalize=True,\n",
    "                         seed=5,\n",
    "                         name='enformer_performer',\n",
    "                         use_max_pool=False,\n",
    "                         block_type='enformer')\n",
    "            seq = tf.ones((1,393216,4))\n",
    "\n",
    "\n",
    "            pred = model(seq,training=False)\n",
    "            print('built model')\n",
    "            model.load_weights(\"gs://picard-testing-176520/enformer_performer/models/enformer_performer_230214_E-P-_2696_enformer_393k_load_init-True_freeze-True_LR1-2.5e-06_LR2-8e-05_T-4_F-1536_K-relu_kernel_transformation/iteration_20/saved_model\")\n",
    "            self._model=model\n",
    "\n",
    "        def predict_on_batch(self, inputs):\n",
    "            return self._model.predict_on_batch(inputs)[0]\n",
    "\n",
    "        @tf.function\n",
    "        def contribution_input_grad(self, input_sequence,\n",
    "                                    target_mask, track_index):\n",
    "            input_sequence = input_sequence[tf.newaxis]\n",
    "\n",
    "            target_mask_mass = tf.reduce_sum(target_mask)\n",
    "            with tf.GradientTape() as tape:\n",
    "                tape.watch(input_sequence)\n",
    "                pred = self._model.predict_on_batch(input_sequence)[0]['human']#[:,:,track_index]\n",
    "\n",
    "                prediction = tf.reduce_sum(\n",
    "                      target_mask[tf.newaxis] * pred) / target_mask_mass\n",
    "\n",
    "            grad = tape.gradient(prediction, input_sequence)\n",
    "            input_grad = grad * input_sequence\n",
    "            input_grad = tf.squeeze(input_grad, axis=0)\n",
    "\n",
    "            return tf.reduce_sum(input_grad, axis=-1), grad\n",
    "        \n",
    "        \n",
    "    # @title `variant_centered_sequences`\n",
    "    #with strategy.scope():\n",
    "    class FastaStringExtractor:\n",
    "\n",
    "        def __init__(self, fasta_file):\n",
    "            self.fasta = pyfaidx.Fasta(fasta_file)\n",
    "            self._chromosome_sizes = {k: len(v) for k, v in self.fasta.items()}\n",
    "\n",
    "        def extract(self, interval: Interval, **kwargs) -> str:\n",
    "            # Truncate interval if it extends beyond the chromosome lengths.\n",
    "            chromosome_length = self._chromosome_sizes[interval.chrom]\n",
    "            trimmed_interval = Interval(interval.chrom,\n",
    "                                        max(interval.start, 0),\n",
    "                                        min(interval.end, chromosome_length),\n",
    "                                        )\n",
    "            # pyfaidx wants a 1-based interval\n",
    "            sequence = str(self.fasta.get_seq(trimmed_interval.chrom,\n",
    "                                              trimmed_interval.start + 1,\n",
    "                                              trimmed_interval.stop).seq).upper()\n",
    "            # Fill truncated values with N's.\n",
    "            pad_upstream = 'N' * max(-interval.start, 0)\n",
    "            pad_downstream = 'N' * max(interval.end - chromosome_length, 0)\n",
    "            return pad_upstream + sequence + pad_downstream\n",
    "\n",
    "        def close(self):\n",
    "            return self.fasta.close()\n",
    "        \n",
    "        \n",
    "    def one_hot_encode(sequence):\n",
    "        return kipoiseq.transforms.functional.one_hot_dna(sequence).astype(np.float32)\n",
    "\n",
    "\n",
    "    def importance_scores(chrom, start, stop, target_index, mask_indices):\n",
    "\n",
    "        target_interval = kipoiseq.Interval(chrom, int(start), int(stop))\n",
    "        resized_interval = target_interval.resize(393216)\n",
    "        sequence_one_hot = one_hot_encode(fasta_extractor.extract(resized_interval))\n",
    "        #print(sequence_one_hot.shape)\n",
    "        #print(sequence_one_hot[np.newaxis].shape)\n",
    "        predictions = model.predict_on_batch(sequence_one_hot[np.newaxis])['human'][0,:,:]\n",
    "\n",
    "        target_mask = np.zeros_like(predictions)\n",
    "        for idx in mask_indices:\n",
    "            target_mask[idx, target_index] = 1\n",
    "            \n",
    "        # This will take some time since tf.function needs to get compiled.\n",
    "        contribution_scores, grad = model.contribution_input_grad(sequence_one_hot.astype(np.float32), target_mask, target_index)\n",
    "        contribution_scores = contribution_scores.numpy()\n",
    "        pooled_contribution_scores = tf.nn.avg_pool1d(np.abs(contribution_scores)[np.newaxis,\n",
    "                                                                                  :, np.newaxis],\n",
    "                                                      128, 128, 'VALID')[0, :, 0].numpy()\n",
    "\n",
    "        base_scores = (sequence_one_hot[:][:].T * [contribution_scores[:],\n",
    "                                                       contribution_scores[:],\n",
    "                                                       contribution_scores[:],\n",
    "                                                       contribution_scores[:]]).T\n",
    "\n",
    "        gradient = np.multiply(sequence_one_hot[:][:].T, (np.squeeze(grad).T))\n",
    "        ###### dinucleotide shuffled sequences\n",
    "        seq_shuffled = dinuc_shuffle.dinuc_shuffle(sequence_one_hot, 1)[0]\n",
    "\n",
    "        target_mask = np.zeros_like(predictions)\n",
    "        for idx in mask_indices:\n",
    "            target_mask[idx, target_index] = 1\n",
    "        # This will take some time since tf.function needs to get compiled.\n",
    "\n",
    "        contribution_scores_scram, grad_scram = model.contribution_input_grad(seq_shuffled, target_mask, target_index)\n",
    "        contribution_scores_scram = contribution_scores_scram.numpy()\n",
    "        pooled_contribution_scores_scram = tf.nn.avg_pool1d(np.abs(contribution_scores_scram)[np.newaxis,\n",
    "                                                                                  :, np.newaxis],\n",
    "                                                      128, 128, 'VALID')[0, :, 0].numpy()\n",
    "\n",
    "        ## get base level matrix\n",
    "\n",
    "        base_scores_scram = (seq_shuffled[:][:].T * [contribution_scores_scram[:],\n",
    "                                            contribution_scores_scram[:],\n",
    "                                            contribution_scores_scram[:],\n",
    "                                            contribution_scores_scram[:]]).T\n",
    "\n",
    "        ## get base level matri\n",
    "        gradient_scram = np.multiply(seq_shuffled[:][:].T, (np.squeeze(grad_scram).T))\n",
    "\n",
    "\n",
    "\n",
    "        return resized_interval,contribution_scores,pooled_contribution_scores,base_scores,np.squeeze(grad), sequence_one_hot,base_scores_scram, predictions"
   ]
  },
  {
   "cell_type": "code",
   "execution_count": 86,
   "id": "58aadf33-0506-4bf6-a752-5097a14a6920",
   "metadata": {},
   "outputs": [],
   "source": [
    "def write_out_bedgraph_pooled(pooled_contribution_scores, interval, filename_base):\n",
    "    start = interval.start\n",
    "    end =  interval.end\n",
    "    chrom = interval.chrom\n",
    "    name = '_'.join([str(chrom), str(start), str(end)])\n",
    "\n",
    "    out_file = open(filename_base + '.pooled.bedGraph', 'w')\n",
    "\n",
    "\n",
    "    for k, value in enumerate(pooled_contribution_scores):\n",
    "\n",
    "        start_interval = k * 128 + start\n",
    "        end_interval = (k+1) * 128 + start\n",
    "\n",
    "        line = [str(chrom),\n",
    "                str(start_interval), str(end_interval),\n",
    "                str(value)]\n",
    "\n",
    "        out_file.write('\\t'.join(line) + '\\n')\n",
    "    out_file.close()\n",
    "    \n",
    "    \n",
    "def write_out_bedgraph_all(contribution_scores, interval, filename_base):\n",
    "    start = interval.start\n",
    "    end =  interval.end\n",
    "    chrom = interval.chrom\n",
    "    name = '_'.join([str(chrom), str(start), str(end)])\n",
    "\n",
    "    out_file = open(filename_base + '.all.bedGraph', 'w')\n",
    "\n",
    "\n",
    "    for k, value in enumerate(contribution_scores):\n",
    "\n",
    "        start_interval = start + k\n",
    "        end_interval = start + k + 1\n",
    "\n",
    "        line = [str(chrom),\n",
    "                str(start_interval), str(end_interval),\n",
    "                str(value)]\n",
    "\n",
    "        out_file.write('\\t'.join(line) + '\\n')\n",
    "    out_file.close()"
   ]
  },
  {
   "cell_type": "code",
   "execution_count": 87,
   "id": "1cb95586-2026-4644-b21a-323105ff2d39",
   "metadata": {},
   "outputs": [
    {
     "name": "stdout",
     "output_type": "stream",
     "text": [
      "built model\n"
     ]
    },
    {
     "data": {
      "text/plain": [
       "Faidx(\"/home/jupyter/reference/hg38.fa\")"
      ]
     },
     "execution_count": 87,
     "metadata": {},
     "output_type": "execute_result"
    }
   ],
   "source": [
    "## iterator\n",
    "#with strategy.scope():\n",
    "model = Enformer()\n",
    "fasta_file = \"/home/jupyter/reference/hg38.fa\"\n",
    "pyfaidx.Faidx(fasta_file)\n",
    "\n"
   ]
  },
  {
   "cell_type": "code",
   "execution_count": 94,
   "id": "f2c5b19e-85a2-4d9f-80fc-d731a6634a23",
   "metadata": {},
   "outputs": [],
   "source": [
    "\n",
    "\n",
    "## center interval at the MYC promoter\n",
    "chrom = \"chr8\"\n",
    "start = 127736200\n",
    "end = 127736285\n",
    "\n",
    "#SEQUENCE_LENGTH=196608*2 # add 6 bp to allow for the +/- 0-3 bp shift\n",
    "#target_length = 196608\n",
    "fasta_extractor = FastaStringExtractor(fasta_file)\n",
    "\n",
    "mask_indices=[446,447,448]\n",
    "out = importance_scores(\"chr8\", 127736151, 127736909,2494, mask_indices) # Jurkat resting corresponds to index 3\n",
    "resized_int, scores, pooled, base_scores,grad, seq_one_hot,base_scores_shuff, predictions = out\n",
    "write_out_bedgraph_pooled(pooled,\n",
    "                          resized_int,\n",
    "                          'k562_393k_test.pool.bedGraph')\n",
    "write_out_bedgraph_all(np.abs(scores),\n",
    "                          resized_int,\n",
    "                          'k562_393k_test.bedGraph')\n",
    "\n",
    "#np.save(\"Jurkat_resting.basescores.npy\", np.array(base_scores))#, fmt='%10.8f')"
   ]
  },
  {
   "cell_type": "code",
   "execution_count": 91,
   "id": "75cfe8da-ad47-4d1a-821a-c6369ae808f3",
   "metadata": {},
   "outputs": [
    {
     "data": {
      "image/png": "[encoded data removed]",
      "text/plain": [
       "<Figure size 1440x216 with 2 Axes>"
      ]
     },
     "metadata": {
      "needs_background": "light"
     },
     "output_type": "display_data"
    }
   ],
   "source": [
    "# K562: 2494\n",
    "# jurkat: 2214\n",
    "\n",
    "def plot_tracks(tracks, interval, height=1.5):\n",
    "  fig, axes = plt.subplots(len(tracks), 1, figsize=(20, height * len(tracks)), sharex=True)\n",
    "  for ax, (title, y) in zip(axes, tracks.items()):\n",
    "    ax.fill_between(np.linspace(interval.start, interval.end, num=len(y)), y)\n",
    "    ax.set_title(title)\n",
    "    sns.despine(top=True, right=True, bottom=True)\n",
    "  ax.set_xlabel(str(interval))\n",
    "  plt.tight_layout()\n",
    "    \n",
    "    \n",
    "target_interval = kipoiseq.Interval(\"chr8\", 127679186, 127793874)\n",
    "    \n",
    "    \n",
    "tracks = {'CAGE: K562': np.log10(1.0+predictions[:, 2494]),\n",
    "          'CAGE: Jurkat': np.log10(1.0+predictions[:, 2601])}\n",
    "plot_tracks(tracks, resized_int)"
   ]
  },
  {
   "cell_type": "code",
   "execution_count": 95,
   "id": "ad0ceb51-99e6-43a8-80e1-d8c3c79f0d8d",
   "metadata": {},
   "outputs": [
    {
     "data": {
      "text/plain": [
       "Interval(chrom='chr8', start=127539922, end=127933138, name='', strand='.', ...)"
      ]
     },
     "execution_count": 95,
     "metadata": {},
     "output_type": "execute_result"
    }
   ],
   "source": [
    "resized_int"
   ]
  },
  {
   "cell_type": "code",
   "execution_count": 96,
   "id": "5ecf8cef-47e2-4510-a82a-66db4b692847",
   "metadata": {},
   "outputs": [
    {
     "data": {
      "text/plain": [
       "314488"
      ]
     },
     "execution_count": 96,
     "metadata": {},
     "output_type": "execute_result"
    }
   ],
   "source": [
    "127854410 - 127539922"
   ]
  },
  {
   "cell_type": "code",
   "execution_count": 74,
   "id": "c55a5d15-afdd-4252-bf46-dbc934b64652",
   "metadata": {},
   "outputs": [
    {
     "data": {
      "text/plain": [
       "Interval(chrom='chr8', start=127539922, end=127933138, name='', strand='.', ...)"
      ]
     },
     "execution_count": 74,
     "metadata": {},
     "output_type": "execute_result"
    }
   ],
   "source": [
    "chr8:127,854,355-127,854,410"
   ]
  },
  {
   "cell_type": "code",
   "execution_count": 99,
   "id": "5b7ae2b7-e090-4e32-baef-3757a05d46fe",
   "metadata": {},
   "outputs": [
    {
     "data": {
      "image/png": "[encoded data removed]",
      "text/plain": [
       "<Figure size 1440x144 with 1 Axes>"
      ]
     },
     "metadata": {
      "needs_background": "light"
     },
     "output_type": "display_data"
    }
   ],
   "source": [
    "import modisco.visualization\n",
    "from modisco.visualization import viz_sequence\n",
    "fig = viz_sequence.plot_weights(base_scores[314408:314508,:], subticks_frequency=20)\n",
    "fig.figure.savefig('k562.logplot.pdf')"
   ]
  },
  {
   "cell_type": "code",
   "execution_count": 58,
   "id": "ca199c53-7a4d-4cb8-9381-50d9de49144f",
   "metadata": {},
   "outputs": [
    {
     "data": {
      "text/plain": [
       "127928200"
      ]
     },
     "execution_count": 58,
     "metadata": {},
     "output_type": "execute_result"
    }
   ],
   "source": [
    "388278 + 127539922"
   ]
  },
  {
   "cell_type": "code",
   "execution_count": null,
   "id": "45baa6cb-b0a1-4a80-8602-6265f438e628",
   "metadata": {},
   "outputs": [],
   "source": [
    "TGAGTCA"
   ]
  }
 ],
 "metadata": {
  "environment": {
   "name": "tf2-cpu.2-6.m81",
   "type": "gcloud",
   "uri": "gcr.io/deeplearning-platform-release/tf2-cpu.2-6:m81"
  },
  "kernelspec": {
   "display_name": "Python 3",
   "language": "python",
   "name": "python3"
  },
  "language_info": {
   "codemirror_mode": {
    "name": "ipython",
    "version": 3
   },
   "file_extension": ".py",
   "mimetype": "text/x-python",
   "name": "python",
   "nbconvert_exporter": "python",
   "pygments_lexer": "ipython3",
   "version": "3.7.10"
  }
 },
 "nbformat": 4,
 "nbformat_minor": 5
}
