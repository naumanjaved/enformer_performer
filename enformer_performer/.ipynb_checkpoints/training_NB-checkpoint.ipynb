{
 "cells": [
  {
   "cell_type": "code",
   "execution_count": 5,
   "id": "f0f91784-f159-4d80-a394-1c57ea7d900c",
   "metadata": {},
   "outputs": [],
   "source": [
    "import time\n",
    "import os\n",
    "import subprocess\n",
    "import sys\n",
    "import re\n",
    "import argparse\n",
    "import collections\n",
    "import gzip\n",
    "import math\n",
    "import shutil\n",
    "\n",
    "\n",
    "\n",
    "import matplotlib.pyplot as plt\n",
    "import wandb\n",
    "import numpy as np\n",
    "import time\n",
    "from datetime import datetime\n",
    "import random\n",
    "\n",
    "import seaborn as sns\n",
    "%matplotlib inline\n",
    "import logging\n",
    "from silence_tensorflow import silence_tensorflow\n",
    "#silence_tensorflow()\n",
    "#os.environ['TPU_LOAD_LIBRARY']='0'\n",
    "os.environ['TF_ENABLE_EAGER_CLIENT_STREAMING_ENQUEUE']='False'\n",
    "import tensorflow as tf\n",
    "\n",
    "\n",
    "import tensorflow.experimental.numpy as tnp\n",
    "import tensorflow_addons as tfa\n",
    "from tensorflow import strings as tfs\n",
    "from tensorflow.keras import mixed_precision\n",
    "from scipy.stats.stats import pearsonr  \n",
    "from scipy.stats.stats import spearmanr  \n",
    "## custom modules\n",
    "import metrics as metrics\n",
    "from optimizers import *\n",
    "import schedulers as schedulers\n",
    "\n",
    "import training_utils as training_utils\n",
    "\n",
    "import enformer_performer as enformer_performer\n",
    "\n",
    "from scipy import stats\n"
   ]
  },
  {
   "cell_type": "code",
   "execution_count": 7,
   "id": "d33684ed-393f-4af6-83b8-ed8150d9be72",
   "metadata": {},
   "outputs": [
    {
     "name": "stderr",
     "output_type": "stream",
     "text": [
      "2023-02-14 14:46:20.887779: E tensorflow/core/common_runtime/eager/context.cc:575] Unable to close remote context with ID 2989401374461686613 for worker: /job:worker/replica:0/task:0 due to failed to connect to all addresses\n",
      "Additional GRPC error information from remote target /job:worker/replica:0/task:0:\n",
      ":{\"created\":\"@1676385980.887449843\",\"description\":\"Failed to pick subchannel\",\"file\":\"external/com_github_grpc_grpc/src/core/ext/filters/client_channel/client_channel.cc\",\"file_line\":3940,\"referenced_errors\":[{\"created\":\"@1676385980.887444548\",\"description\":\"failed to connect to all addresses\",\"file\":\"external/com_github_grpc_grpc/src/core/ext/filters/client_channel/lb_policy/pick_first/pick_first.cc\",\"file_line\":392,\"grpc_status\":14}]}\n",
      "2023-02-14 14:46:20.887951: W tensorflow/core/common_runtime/eager/context.cc:1607] Unable to destroy server_ object, so releasing instead. Servers don't support clean shutdown.\n",
      "2023-02-14 14:46:20.892387: I tensorflow/core/distributed_runtime/rpc/grpc_server_lib.cc:447] Started server with target: grpc://localhost:56464\n"
     ]
    },
    {
     "name": "stdout",
     "output_type": "stream",
     "text": [
      "INFO:tensorflow:Deallocate tpu buffers before initializing tpu system.\n"
     ]
    },
    {
     "name": "stderr",
     "output_type": "stream",
     "text": [
      "INFO:tensorflow:Deallocate tpu buffers before initializing tpu system.\n"
     ]
    },
    {
     "name": "stdout",
     "output_type": "stream",
     "text": [
      "INFO:tensorflow:Initializing the TPU system: node-5\n"
     ]
    },
    {
     "name": "stderr",
     "output_type": "stream",
     "text": [
      "INFO:tensorflow:Initializing the TPU system: node-5\n"
     ]
    },
    {
     "name": "stdout",
     "output_type": "stream",
     "text": [
      "INFO:tensorflow:Finished initializing TPU system.\n"
     ]
    },
    {
     "name": "stderr",
     "output_type": "stream",
     "text": [
      "INFO:tensorflow:Finished initializing TPU system.\n"
     ]
    },
    {
     "name": "stdout",
     "output_type": "stream",
     "text": [
      "INFO:tensorflow:Found TPU system:\n"
     ]
    },
    {
     "name": "stderr",
     "output_type": "stream",
     "text": [
      "INFO:tensorflow:Found TPU system:\n"
     ]
    },
    {
     "name": "stdout",
     "output_type": "stream",
     "text": [
      "INFO:tensorflow:*** Num TPU Cores: 8\n"
     ]
    },
    {
     "name": "stderr",
     "output_type": "stream",
     "text": [
      "INFO:tensorflow:*** Num TPU Cores: 8\n"
     ]
    },
    {
     "name": "stdout",
     "output_type": "stream",
     "text": [
      "INFO:tensorflow:*** Num TPU Workers: 1\n"
     ]
    },
    {
     "name": "stderr",
     "output_type": "stream",
     "text": [
      "INFO:tensorflow:*** Num TPU Workers: 1\n"
     ]
    },
    {
     "name": "stdout",
     "output_type": "stream",
     "text": [
      "INFO:tensorflow:*** Num TPU Cores Per Worker: 8\n"
     ]
    },
    {
     "name": "stderr",
     "output_type": "stream",
     "text": [
      "INFO:tensorflow:*** Num TPU Cores Per Worker: 8\n"
     ]
    },
    {
     "name": "stdout",
     "output_type": "stream",
     "text": [
      "INFO:tensorflow:*** Available Device: _DeviceAttributes(/job:localhost/replica:0/task:0/device:CPU:0, CPU, 0, 0)\n"
     ]
    },
    {
     "name": "stderr",
     "output_type": "stream",
     "text": [
      "INFO:tensorflow:*** Available Device: _DeviceAttributes(/job:localhost/replica:0/task:0/device:CPU:0, CPU, 0, 0)\n"
     ]
    },
    {
     "name": "stdout",
     "output_type": "stream",
     "text": [
      "INFO:tensorflow:*** Available Device: _DeviceAttributes(/job:worker/replica:0/task:0/device:CPU:0, CPU, 0, 0)\n"
     ]
    },
    {
     "name": "stderr",
     "output_type": "stream",
     "text": [
      "INFO:tensorflow:*** Available Device: _DeviceAttributes(/job:worker/replica:0/task:0/device:CPU:0, CPU, 0, 0)\n"
     ]
    },
    {
     "name": "stdout",
     "output_type": "stream",
     "text": [
      "INFO:tensorflow:*** Available Device: _DeviceAttributes(/job:worker/replica:0/task:0/device:TPU:0, TPU, 0, 0)\n"
     ]
    },
    {
     "name": "stderr",
     "output_type": "stream",
     "text": [
      "INFO:tensorflow:*** Available Device: _DeviceAttributes(/job:worker/replica:0/task:0/device:TPU:0, TPU, 0, 0)\n"
     ]
    },
    {
     "name": "stdout",
     "output_type": "stream",
     "text": [
      "INFO:tensorflow:*** Available Device: _DeviceAttributes(/job:worker/replica:0/task:0/device:TPU:1, TPU, 0, 0)\n"
     ]
    },
    {
     "name": "stderr",
     "output_type": "stream",
     "text": [
      "INFO:tensorflow:*** Available Device: _DeviceAttributes(/job:worker/replica:0/task:0/device:TPU:1, TPU, 0, 0)\n"
     ]
    },
    {
     "name": "stdout",
     "output_type": "stream",
     "text": [
      "INFO:tensorflow:*** Available Device: _DeviceAttributes(/job:worker/replica:0/task:0/device:TPU:2, TPU, 0, 0)\n"
     ]
    },
    {
     "name": "stderr",
     "output_type": "stream",
     "text": [
      "INFO:tensorflow:*** Available Device: _DeviceAttributes(/job:worker/replica:0/task:0/device:TPU:2, TPU, 0, 0)\n"
     ]
    },
    {
     "name": "stdout",
     "output_type": "stream",
     "text": [
      "INFO:tensorflow:*** Available Device: _DeviceAttributes(/job:worker/replica:0/task:0/device:TPU:3, TPU, 0, 0)\n"
     ]
    },
    {
     "name": "stderr",
     "output_type": "stream",
     "text": [
      "INFO:tensorflow:*** Available Device: _DeviceAttributes(/job:worker/replica:0/task:0/device:TPU:3, TPU, 0, 0)\n"
     ]
    },
    {
     "name": "stdout",
     "output_type": "stream",
     "text": [
      "INFO:tensorflow:*** Available Device: _DeviceAttributes(/job:worker/replica:0/task:0/device:TPU:4, TPU, 0, 0)\n"
     ]
    },
    {
     "name": "stderr",
     "output_type": "stream",
     "text": [
      "INFO:tensorflow:*** Available Device: _DeviceAttributes(/job:worker/replica:0/task:0/device:TPU:4, TPU, 0, 0)\n"
     ]
    },
    {
     "name": "stdout",
     "output_type": "stream",
     "text": [
      "INFO:tensorflow:*** Available Device: _DeviceAttributes(/job:worker/replica:0/task:0/device:TPU:5, TPU, 0, 0)\n"
     ]
    },
    {
     "name": "stderr",
     "output_type": "stream",
     "text": [
      "INFO:tensorflow:*** Available Device: _DeviceAttributes(/job:worker/replica:0/task:0/device:TPU:5, TPU, 0, 0)\n"
     ]
    },
    {
     "name": "stdout",
     "output_type": "stream",
     "text": [
      "INFO:tensorflow:*** Available Device: _DeviceAttributes(/job:worker/replica:0/task:0/device:TPU:6, TPU, 0, 0)\n"
     ]
    },
    {
     "name": "stderr",
     "output_type": "stream",
     "text": [
      "INFO:tensorflow:*** Available Device: _DeviceAttributes(/job:worker/replica:0/task:0/device:TPU:6, TPU, 0, 0)\n"
     ]
    },
    {
     "name": "stdout",
     "output_type": "stream",
     "text": [
      "INFO:tensorflow:*** Available Device: _DeviceAttributes(/job:worker/replica:0/task:0/device:TPU:7, TPU, 0, 0)\n"
     ]
    },
    {
     "name": "stderr",
     "output_type": "stream",
     "text": [
      "INFO:tensorflow:*** Available Device: _DeviceAttributes(/job:worker/replica:0/task:0/device:TPU:7, TPU, 0, 0)\n"
     ]
    },
    {
     "name": "stdout",
     "output_type": "stream",
     "text": [
      "INFO:tensorflow:*** Available Device: _DeviceAttributes(/job:worker/replica:0/task:0/device:TPU_SYSTEM:0, TPU_SYSTEM, 0, 0)\n"
     ]
    },
    {
     "name": "stderr",
     "output_type": "stream",
     "text": [
      "INFO:tensorflow:*** Available Device: _DeviceAttributes(/job:worker/replica:0/task:0/device:TPU_SYSTEM:0, TPU_SYSTEM, 0, 0)\n"
     ]
    },
    {
     "name": "stdout",
     "output_type": "stream",
     "text": [
      "INFO:tensorflow:*** Available Device: _DeviceAttributes(/job:worker/replica:0/task:0/device:XLA_CPU:0, XLA_CPU, 0, 0)\n"
     ]
    },
    {
     "name": "stderr",
     "output_type": "stream",
     "text": [
      "INFO:tensorflow:*** Available Device: _DeviceAttributes(/job:worker/replica:0/task:0/device:XLA_CPU:0, XLA_CPU, 0, 0)\n",
      "WARNING:absl:options.experimental_threading is deprecated. Use options.threading instead.\n"
     ]
    }
   ],
   "source": [
    "resolver = tf.distribute.cluster_resolver.TPUClusterResolver(tpu='node-5')\n",
    "tf.config.experimental_connect_to_cluster(resolver)\n",
    "tf.tpu.experimental.initialize_tpu_system(resolver)\n",
    "strategy = tf.distribute.TPUStrategy(resolver)\n",
    "\n",
    "with strategy.scope():\n",
    "    options = tf.data.Options()\n",
    "    options.experimental_distribute.auto_shard_policy=\\\n",
    "        tf.data.experimental.AutoShardPolicy.FILE\n",
    "    options.deterministic=False\n",
    "    options.experimental_threading.max_intra_op_parallelism=1\n",
    "    mixed_precision.set_global_policy('mixed_bfloat16')\n",
    "    #options.num_devices = 64\n",
    "\n",
    "    BATCH_SIZE_PER_REPLICA = 1 # batch size 24, use LR ~ 2.5 e -04\n",
    "    NUM_REPLICAS = strategy.num_replicas_in_sync\n",
    "    GLOBAL_BATCH_SIZE = BATCH_SIZE_PER_REPLICA * NUM_REPLICAS\n",
    "    "
   ]
  },
  {
   "cell_type": "code",
   "execution_count": 8,
   "id": "93effd89-8681-48e6-be68-36e027605040",
   "metadata": {},
   "outputs": [
    {
     "name": "stdout",
     "output_type": "stream",
     "text": [
      "393216\n",
      "896\n",
      "0\n",
      "2696\n"
     ]
    }
   ],
   "source": [
    "iterators={'human': ('gs://genformer_data/expanded_originals/no_TF/393k',2696),\n",
    "           'mouse': ('gs://genformer_data/expanded_originals/no_TF/393k',987),\n",
    "           'canine': ('gs://genformer_data/expanded_originals/no_TF/393k',13),\n",
    "           'rhesus': ('gs://genformer_data/expanded_originals/no_TF/393k',15),\n",
    "           'rat': ('gs://genformer_data/expanded_originals/no_TF/393k',13)}\n",
    "           \n",
    "g = tf.random.Generator.from_non_deterministic_state()\n",
    "tr_data_it_dict,val_data_it_dict,val_data_TSS_it =  \\\n",
    "    training_utils.return_distributed_iterators(iterators,\n",
    "                                                \"gs://genformer_data/expanded_originals/no_TF/393k/human/tfrecords_tss\",\n",
    "                                                2696,\n",
    "                                                 GLOBAL_BATCH_SIZE,\n",
    "                                                 393216,\n",
    "                                                 3072,\n",
    "                                                 1088,\n",
    "                                                 10,\n",
    "                                                 4,\n",
    "                                                 10,\n",
    "                                                 strategy,\n",
    "                                                 options,\n",
    "                                                 g)\n"
   ]
  },
  {
   "cell_type": "code",
   "execution_count": 9,
   "id": "b0de2869-14d8-46c8-9efd-77cb51e28a8d",
   "metadata": {},
   "outputs": [
    {
     "ename": "TypeError",
     "evalue": "('Keyword argument not understood:', 'out_length')",
     "output_type": "error",
     "traceback": [
      "\u001b[0;31m---------------------------------------------------------------------------\u001b[0m",
      "\u001b[0;31mTypeError\u001b[0m                                 Traceback (most recent call last)",
      "\u001b[0;32m/tmp/ipykernel_18235/2551930768.py\u001b[0m in \u001b[0;36m<module>\u001b[0;34m\u001b[0m\n\u001b[1;32m     23\u001b[0m         \u001b[0mkernel_transformation\u001b[0m\u001b[0;34m=\u001b[0m\u001b[0;34m\"softmax_kernel_transformation\"\u001b[0m\u001b[0;34m,\u001b[0m\u001b[0;34m\u001b[0m\u001b[0;34m\u001b[0m\u001b[0m\n\u001b[1;32m     24\u001b[0m         \u001b[0mnormalize\u001b[0m\u001b[0;34m=\u001b[0m\u001b[0;32mTrue\u001b[0m\u001b[0;34m,\u001b[0m\u001b[0;34m\u001b[0m\u001b[0;34m\u001b[0m\u001b[0m\n\u001b[0;32m---> 25\u001b[0;31m         seed=5)\n\u001b[0m",
      "\u001b[0;32m~/dev/genformer_public/enformer_performer/enformer_performer.py\u001b[0m in \u001b[0;36m__init__\u001b[0;34m(self, num_transformer_layers, num_heads, heads_channels, filter_list, dim, d_model, norm, max_seq_length, nb_random_features, hidden_size, numerical_stabilizer, attention_dropout_rate, dropout_rate, BN_momentum, rel_pos_bins, use_mask_pos, use_rot_emb, load_init, freeze_conv_layers, stable_variant, inits, kernel_transformation, normalize, seed, name, use_max_pool, block_type, **kwargs)\u001b[0m\n\u001b[1;32m     57\u001b[0m \u001b[0;34m\u001b[0m\u001b[0m\n\u001b[1;32m     58\u001b[0m           \u001b[0mname\u001b[0m\u001b[0;34m:\u001b[0m \u001b[0mmodel\u001b[0m \u001b[0mname\u001b[0m\u001b[0;34m\u001b[0m\u001b[0;34m\u001b[0m\u001b[0m\n\u001b[0;32m---> 59\u001b[0;31m         \"\"\"\n\u001b[0m\u001b[1;32m     60\u001b[0m \u001b[0;34m\u001b[0m\u001b[0m\n\u001b[1;32m     61\u001b[0m         \u001b[0msuper\u001b[0m\u001b[0;34m(\u001b[0m\u001b[0menformer_performer\u001b[0m\u001b[0;34m,\u001b[0m \u001b[0mself\u001b[0m\u001b[0;34m)\u001b[0m\u001b[0;34m.\u001b[0m\u001b[0m__init__\u001b[0m\u001b[0;34m(\u001b[0m\u001b[0mname\u001b[0m\u001b[0;34m=\u001b[0m\u001b[0mname\u001b[0m\u001b[0;34m,\u001b[0m\u001b[0;34m**\u001b[0m\u001b[0mkwargs\u001b[0m\u001b[0;34m)\u001b[0m\u001b[0;34m\u001b[0m\u001b[0;34m\u001b[0m\u001b[0m\n",
      "\u001b[0;32m/opt/conda/lib/python3.7/site-packages/tensorflow/python/trackable/base.py\u001b[0m in \u001b[0;36m_method_wrapper\u001b[0;34m(self, *args, **kwargs)\u001b[0m\n\u001b[1;32m    203\u001b[0m     \u001b[0mself\u001b[0m\u001b[0;34m.\u001b[0m\u001b[0m_self_setattr_tracking\u001b[0m \u001b[0;34m=\u001b[0m \u001b[0;32mFalse\u001b[0m  \u001b[0;31m# pylint: disable=protected-access\u001b[0m\u001b[0;34m\u001b[0m\u001b[0;34m\u001b[0m\u001b[0m\n\u001b[1;32m    204\u001b[0m     \u001b[0;32mtry\u001b[0m\u001b[0;34m:\u001b[0m\u001b[0;34m\u001b[0m\u001b[0;34m\u001b[0m\u001b[0m\n\u001b[0;32m--> 205\u001b[0;31m       \u001b[0mresult\u001b[0m \u001b[0;34m=\u001b[0m \u001b[0mmethod\u001b[0m\u001b[0;34m(\u001b[0m\u001b[0mself\u001b[0m\u001b[0;34m,\u001b[0m \u001b[0;34m*\u001b[0m\u001b[0margs\u001b[0m\u001b[0;34m,\u001b[0m \u001b[0;34m**\u001b[0m\u001b[0mkwargs\u001b[0m\u001b[0;34m)\u001b[0m\u001b[0;34m\u001b[0m\u001b[0;34m\u001b[0m\u001b[0m\n\u001b[0m\u001b[1;32m    206\u001b[0m     \u001b[0;32mfinally\u001b[0m\u001b[0;34m:\u001b[0m\u001b[0;34m\u001b[0m\u001b[0;34m\u001b[0m\u001b[0m\n\u001b[1;32m    207\u001b[0m       \u001b[0mself\u001b[0m\u001b[0;34m.\u001b[0m\u001b[0m_self_setattr_tracking\u001b[0m \u001b[0;34m=\u001b[0m \u001b[0mprevious_value\u001b[0m  \u001b[0;31m# pylint: disable=protected-access\u001b[0m\u001b[0;34m\u001b[0m\u001b[0;34m\u001b[0m\u001b[0m\n",
      "\u001b[0;32m/opt/conda/lib/python3.7/site-packages/keras/utils/traceback_utils.py\u001b[0m in \u001b[0;36merror_handler\u001b[0;34m(*args, **kwargs)\u001b[0m\n\u001b[1;32m     68\u001b[0m             \u001b[0;31m# To get the full stack trace, call:\u001b[0m\u001b[0;34m\u001b[0m\u001b[0;34m\u001b[0m\u001b[0;34m\u001b[0m\u001b[0m\n\u001b[1;32m     69\u001b[0m             \u001b[0;31m# `tf.debugging.disable_traceback_filtering()`\u001b[0m\u001b[0;34m\u001b[0m\u001b[0;34m\u001b[0m\u001b[0;34m\u001b[0m\u001b[0m\n\u001b[0;32m---> 70\u001b[0;31m             \u001b[0;32mraise\u001b[0m \u001b[0me\u001b[0m\u001b[0;34m.\u001b[0m\u001b[0mwith_traceback\u001b[0m\u001b[0;34m(\u001b[0m\u001b[0mfiltered_tb\u001b[0m\u001b[0;34m)\u001b[0m \u001b[0;32mfrom\u001b[0m \u001b[0;32mNone\u001b[0m\u001b[0;34m\u001b[0m\u001b[0;34m\u001b[0m\u001b[0m\n\u001b[0m\u001b[1;32m     71\u001b[0m         \u001b[0;32mfinally\u001b[0m\u001b[0;34m:\u001b[0m\u001b[0;34m\u001b[0m\u001b[0;34m\u001b[0m\u001b[0m\n\u001b[1;32m     72\u001b[0m             \u001b[0;32mdel\u001b[0m \u001b[0mfiltered_tb\u001b[0m\u001b[0;34m\u001b[0m\u001b[0;34m\u001b[0m\u001b[0m\n",
      "\u001b[0;32m/opt/conda/lib/python3.7/site-packages/keras/utils/generic_utils.py\u001b[0m in \u001b[0;36mvalidate_kwargs\u001b[0;34m(kwargs, allowed_kwargs, error_message)\u001b[0m\n\u001b[1;32m    513\u001b[0m     \u001b[0;32mfor\u001b[0m \u001b[0mkwarg\u001b[0m \u001b[0;32min\u001b[0m \u001b[0mkwargs\u001b[0m\u001b[0;34m:\u001b[0m\u001b[0;34m\u001b[0m\u001b[0;34m\u001b[0m\u001b[0m\n\u001b[1;32m    514\u001b[0m         \u001b[0;32mif\u001b[0m \u001b[0mkwarg\u001b[0m \u001b[0;32mnot\u001b[0m \u001b[0;32min\u001b[0m \u001b[0mallowed_kwargs\u001b[0m\u001b[0;34m:\u001b[0m\u001b[0;34m\u001b[0m\u001b[0;34m\u001b[0m\u001b[0m\n\u001b[0;32m--> 515\u001b[0;31m             \u001b[0;32mraise\u001b[0m \u001b[0mTypeError\u001b[0m\u001b[0;34m(\u001b[0m\u001b[0merror_message\u001b[0m\u001b[0;34m,\u001b[0m \u001b[0mkwarg\u001b[0m\u001b[0;34m)\u001b[0m\u001b[0;34m\u001b[0m\u001b[0;34m\u001b[0m\u001b[0m\n\u001b[0m\u001b[1;32m    516\u001b[0m \u001b[0;34m\u001b[0m\u001b[0m\n\u001b[1;32m    517\u001b[0m \u001b[0;34m\u001b[0m\u001b[0m\n",
      "\u001b[0;31mTypeError\u001b[0m: ('Keyword argument not understood:', 'out_length')"
     ]
    }
   ],
   "source": [
    "with strategy.scope():\n",
    "    model = enformer_performer.enformer_performer(\n",
    "        num_transformer_layers=6,\n",
    "        num_heads=8,\n",
    "        heads_channels= {'human': 2696,\n",
    "                         'mouse': 987,\n",
    "                         'canine': 13,\n",
    "                         'rhesus': 15,\n",
    "                         'rat': 13},\n",
    "        out_length=3072,\n",
    "        target_length=896,\n",
    "        stable_variant=True,\n",
    "        dim=192,\n",
    "        d_model=1536,\n",
    "        norm=True,\n",
    "        max_seq_length=3072,\n",
    "        nb_random_features=256,\n",
    "        hidden_size=1536,\n",
    "        numerical_stabilizer=0.001,\n",
    "        rel_pos_bins=3072,\n",
    "        use_mask_pos=False,\n",
    "        use_rot_emb=True,\n",
    "        kernel_transformation=\"softmax_kernel_transformation\",\n",
    "        normalize=True,\n",
    "        seed=5)"
   ]
  },
  {
   "cell_type": "code",
   "execution_count": null,
   "id": "cb20d1ad-4e38-4e69-9e29-75a19e7bfc91",
   "metadata": {},
   "outputs": [],
   "source": [
    "with strategy.scope():        \n",
    "\n",
    "    optimizer1 = tf.keras.optimizers.Adam(learning_rate=1.0e-04)\n",
    "\n",
    "    optimizer2 = tf.keras.optimizers.Adam(learning_rate=1.0e-04)\n",
    "    optimizers_in = optimizer1,optimizer2\n",
    "\n",
    "    metric_dict = {}\n",
    "    organism_dict = {'human': 50,\n",
    "                     'mouse': 50,\n",
    "                     'rhesus':30,\n",
    "                     'rat': 30,\n",
    "                     'canine': 30}\n",
    "\n",
    "                               \n",
    "    dist_train_step, dist_val_step_h,dist_val_step_m, val_step_TSS, build_step,metric_dict = training_utils.return_train_val_functions(model,\n",
    "                                                                                                                                       50,\n",
    "                                                                                                                                       organism_dict,\n",
    "                                                                                                                                         50,\n",
    "                                                                                                                                       optimizers_in,\n",
    "                                                                                                                                        2058,\n",
    "                                                                                                                                         strategy,\n",
    "                                                                                                                                         metric_dict, \n",
    "                                                                                                                                         GLOBAL_BATCH_SIZE,\n",
    "                                                                                                                                        5.0,\n",
    "                                                                                                                                         BATCH_SIZE_PER_REPLICA,\n",
    "                                                                                                                                        loss_fn_main='poisson')\n",
    "    \n"
   ]
  },
  {
   "cell_type": "code",
   "execution_count": null,
   "id": "2400a655-9fec-4661-aa56-415bf14c3191",
   "metadata": {},
   "outputs": [],
   "source": [
    "with strategy.scope():        \n",
    "    ### main training loop\n",
    "    global_step = 0\n",
    "    val_losses = []\n",
    "    val_pearsons = []\n",
    "    val_R2 = []\n",
    "    patience_counter = 0\n",
    "    stop_criteria = False\n",
    "    best_epoch = 0\n",
    "\n",
    "    for epoch_i in range(1, 4):\n",
    "        print('starting epoch_', str(epoch_i))\n",
    "        start = time.time()\n",
    "        if epoch_i == 1:\n",
    "            # run once to build the model w/o updating anything\n",
    "            build_step(val_data_it_dict['human'])\n",
    "\n",
    "        assert len(organism_dict.keys()) == len(tr_data_it_dict.keys())\n",
    "            \n",
    "        iters = (tr_data_it_dict['human'],\n",
    "                        tr_data_it_dict['mouse'],\n",
    "                        tr_data_it_dict['rhesus'],\n",
    "                        tr_data_it_dict['rat'],\n",
    "                        tr_data_it_dict['canine'])\n",
    "        dist_train_step(iters)\n",
    "        \n",
    "\n",
    "\n",
    "        end = time.time()\n",
    "        duration = (end - start) / 60.\n",
    "        print('completed epoch ' + str(epoch_i))\n",
    "        print('hg_train_loss: ' + str(metric_dict['human_tr'].result().numpy()))\n",
    "        \n",
    "        print('training duration(mins): ' + str(duration))\n",
    "\n",
    "        start = time.time()\n",
    "        dist_val_step_h(val_data_it_dict['human'])\n",
    "\n",
    "        print('val_loss: ' + str(metric_dict['human_val'].result().numpy()))\n",
    "        val_losses.append(metric_dict['human_val'].result().numpy())\n",
    "\n",
    "        print('human_pearsonsR: ')\n",
    "        pearsonsR=metric_dict['human_pearsonsR'].result()['PearsonR'].numpy()\n",
    "        print(pearsonsR)\n",
    "\n",
    "        val_pearsons.append(np.nanmedian(pearsonsR))\n",
    "        print('human_R2: ')\n",
    "        print(metric_dict['human_R2'].result()['R2'].numpy())\n",
    "\n",
    "\n",
    "        end = time.time()\n",
    "        duration = (end - start) / 60.\n",
    "        print('completed epoch ' + str(epoch_i) + ' validation')\n",
    "        print('validation duration(mins): ' + str(duration))\n",
    "        print('patience counter at: ' + str(patience_counter))\n",
    "\n",
    "        \n",
    "        val_step_TSS(val_data_TSS_it)\n",
    "        \n",
    "\n",
    "        y_trues = metric_dict['hg_corr_stats'].result()['y_trues'].numpy()\n",
    "        y_preds = metric_dict['hg_corr_stats'].result()['y_preds'].numpy()\n",
    "        cell_types = metric_dict['hg_corr_stats'].result()['cell_types'].numpy()\n",
    "        gene_map = metric_dict['hg_corr_stats'].result()['gene_map'].numpy()\n",
    "        \n",
    "        \n",
    "        \n",
    "        if (epoch_i > 2):\n",
    "            stop_criteria,patience_counter,best_epoch = \\\n",
    "                training_utils.early_stopping(current_val_loss=val_losses[-1],\n",
    "                                                logged_val_losses=val_losses,\n",
    "                                                current_pearsons=val_pearsons[-1],\n",
    "                                                logged_pearsons=val_pearsons,\n",
    "                                                current_epoch=epoch_i,\n",
    "                                                best_epoch=best_epoch,\n",
    "                                                save_freq=5,\n",
    "                                                patience=5,\n",
    "                                                patience_counter=patience_counter,\n",
    "                                                min_delta=1.0e-05,\n",
    "                                                model=enformer_model,\n",
    "                                                save_directory=\"gs://picard-testing-176520/test\",\n",
    "                                                saved_model_basename=\"test_model\",\n",
    "                                                checkpoint=checkpoint)\n",
    "        #plt.close('all')\n",
    "        print('patience counter at: ' + str(patience_counter))\n",
    "        for key, item in metric_dict.items():\n",
    "            item.reset_state()"
   ]
  },
  {
   "cell_type": "code",
   "execution_count": null,
   "id": "358524f4-aa67-4890-b071-f75ddd41ffe3",
   "metadata": {},
   "outputs": [],
   "source": [
    "tf.reduce_mean(tf.keras.losses.poisson(tf.transpose(test1, perm=[0, 2, 1]),tf.transpose(test2, perm=[0, 2, 1])))"
   ]
  },
  {
   "cell_type": "code",
   "execution_count": 44,
   "id": "0851f0f5-fa50-46e2-8340-8609696bde5b",
   "metadata": {},
   "outputs": [
    {
     "data": {
      "text/plain": [
       "<tf.Tensor: shape=(1, 3), dtype=float32, numpy=array([[ 0.      ,  8.559048, 17.118095]], dtype=float32)>"
      ]
     },
     "execution_count": 44,
     "metadata": {},
     "output_type": "execute_result"
    }
   ],
   "source": [
    "tf.keras.losses.poisson(tf.transpose(test1, perm=[0, 2, 1]),tf.transpose(test2, perm=[0, 2, 1]))"
   ]
  },
  {
   "cell_type": "code",
   "execution_count": 45,
   "id": "15794832-68b0-4ce2-89ea-8118966b32dd",
   "metadata": {},
   "outputs": [
    {
     "data": {
      "text/plain": [
       "8.559047666666666"
      ]
     },
     "execution_count": 45,
     "metadata": {},
     "output_type": "execute_result"
    }
   ],
   "source": [
    "(17.118095 + 8.559048) / 3"
   ]
  },
  {
   "cell_type": "code",
   "execution_count": 48,
   "id": "6f197005-88eb-401e-8f9c-1895e00b8cd9",
   "metadata": {},
   "outputs": [
    {
     "data": {
      "text/plain": [
       "<tf.Tensor: shape=(1, 3), dtype=float32, numpy=array([[ 0.      ,  8.559048, 17.118095]], dtype=float32)>"
      ]
     },
     "execution_count": 48,
     "metadata": {},
     "output_type": "execute_result"
    }
   ],
   "source": [
    "t=tf.keras.losses.Poisson(reduction=tf.keras.losses.Reduction.NONE)\n",
    "\n",
    "t(tf.transpose(test1, perm=[0, 2, 1]),tf.transpose(test2, perm=[0, 2, 1]))"
   ]
  },
  {
   "cell_type": "code",
   "execution_count": 17,
   "id": "9facfb42-cacc-468f-9673-4cd27f607375",
   "metadata": {},
   "outputs": [],
   "source": [
    "def deserialize(serialized_example):\n",
    "    \"\"\"Deserialize bytes stored in TFRecordFile.\"\"\"\n",
    "    feature_map = {\n",
    "      'sequence': tf.io.FixedLenFeature([], tf.string),\n",
    "      'target': tf.io.FixedLenFeature([], tf.string),\n",
    "    }\n",
    "    \n",
    "    data = tf.io.parse_example(serialized_example, feature_map)\n",
    "\n",
    "    sequence = tf.io.decode_raw(data['sequence'], tf.bool)\n",
    "    sequence = tf.reshape(sequence, (131072, 4))\n",
    "    sequence = tf.cast(sequence, tf.float32)\n",
    "    \n",
    "    target = tf.io.decode_raw(data['target'], tf.float16)\n",
    "    target = tf.reshape(target,\n",
    "                        (896, 5313))\n",
    "\n",
    "    return {'sequence': tf.ensure_shape(sequence,\n",
    "                                        [131072,4]),\n",
    "            'target': tf.ensure_shape(target,\n",
    "                                      [896,5313])}\n",
    "\n",
    "\n",
    "dataset = tf.data.TFRecordDataset(\"gs://terra_cagerna/basenji_barnyard/data/human/tfrecords/train-0-0.tfr\",\n",
    "                                  compression_type='ZLIB',\n",
    "                                  num_parallel_reads=4)\n",
    "\n",
    "dataset=dataset.map(lambda record: deserialize(record),\n",
    "                                               num_parallel_calls=4)\n",
    "dataset_iter=iter(dataset.batch(1))"
   ]
  },
  {
   "cell_type": "code",
   "execution_count": 18,
   "id": "19003a3e-f89a-4f56-9769-eb64b0fffc69",
   "metadata": {},
   "outputs": [],
   "source": [
    "out=next(dataset_iter)"
   ]
  },
  {
   "cell_type": "code",
   "execution_count": 30,
   "id": "1a7a8d0d-1b08-483d-a758-6e713ed85015",
   "metadata": {},
   "outputs": [],
   "source": [
    "def deserialize_val_TSS(serialized_example,input_length=196608,max_shift=10, out_length=896,num_targets=5313):\n",
    "    \"\"\"Deserialize bytes stored in TFRecordFile.\"\"\"\n",
    "    feature_map = {\n",
    "        'sequence': tf.io.FixedLenFeature([], tf.string),\n",
    "        'target': tf.io.FixedLenFeature([], tf.string),\n",
    "        'tss_mask': tf.io.FixedLenFeature([], tf.string),\n",
    "        'gene_name': tf.io.FixedLenFeature([], tf.string)\n",
    "    }\n",
    "    \n",
    "    data = tf.io.parse_example(serialized_example, feature_map)\n",
    "\n",
    "    shift = 5\n",
    "    input_seq_length = input_length + max_shift\n",
    "    interval_end = input_length + shift\n",
    "    \n",
    "    ### rev_comp\n",
    "    #rev_comp = random.randrange(0,2)\n",
    "\n",
    "    example = tf.io.parse_example(serialized_example, feature_map)\n",
    "    sequence = tf.io.decode_raw(example['sequence'], tf.bool)\n",
    "    sequence = tf.reshape(sequence, (input_length + max_shift, 4))\n",
    "    sequence = tf.cast(sequence, tf.float32)\n",
    "    sequence = tf.slice(sequence, [shift,0],[input_length,-1])\n",
    "    \n",
    "    target = tf.io.decode_raw(example['target'], tf.float16)\n",
    "    target = tf.reshape(target,\n",
    "                        (out_length, num_targets))\n",
    "    \n",
    "    tss_mask = tf.io.parse_tensor(data['tss_mask'],\n",
    "                                  out_type=tf.int32)\n",
    "\n",
    "    \n",
    "    gene_name= tf.io.parse_tensor(example['gene_name'],out_type=tf.int32)\n",
    "    gene_name = tf.tile(tf.expand_dims(gene_name,axis=0),[638])\n",
    "    cell_types = tf.range(0,638)\n",
    "    \n",
    "    return {'sequence': tf.ensure_shape(sequence,\n",
    "                                        [input_length,4]),\n",
    "            'target': tf.ensure_shape(target,\n",
    "                                      [896,num_targets]),\n",
    "            'tss_mask': tf.ensure_shape(tss_mask,\n",
    "                                        [896,1]),\n",
    "            'gene_name': tf.ensure_shape(gene_name,\n",
    "                                         [638,]),\n",
    "            'cell_types': tf.ensure_shape(cell_types,\n",
    "                                           [638,])}"
   ]
  },
  {
   "cell_type": "code",
   "execution_count": 31,
   "id": "c8c1bbdf-81e3-4530-87c4-dbc9ea9dedb5",
   "metadata": {},
   "outputs": [],
   "source": [
    "dataset = tf.data.TFRecordDataset(\"gs://genformer_data/expanded_originals/196k/human/tfrecords_tss/tssmask-valid-0-0.tfr\",\n",
    "                                  compression_type='ZLIB',\n",
    "                                  num_parallel_reads=4)\n",
    "#dataset = dataset.with_options(options)\n",
    "dataset = dataset.map(lambda record: deserialize_val_TSS(record),\n",
    "                      deterministic=False,\n",
    "                      num_parallel_calls=4)\n",
    "dataset=iter(dataset)"
   ]
  },
  {
   "cell_type": "code",
   "execution_count": 33,
   "id": "3e5d7a6a-5118-4056-8807-913310017ad7",
   "metadata": {},
   "outputs": [
    {
     "data": {
      "text/plain": [
       "(array([281, 282, 283, 284]), array([0, 0, 0, 0]))"
      ]
     },
     "execution_count": 33,
     "metadata": {},
     "output_type": "execute_result"
    }
   ],
   "source": [
    "test=next(dataset)\n",
    "np.nonzero(test['tss_mask'].numpy())"
   ]
  },
  {
   "cell_type": "code",
   "execution_count": 8,
   "id": "d2d5f341-041c-4ea8-9be9-e34627ce3d95",
   "metadata": {},
   "outputs": [],
   "source": []
  },
  {
   "cell_type": "code",
   "execution_count": 9,
   "id": "c05db38b-1d58-477a-8e79-0af019181aec",
   "metadata": {},
   "outputs": [
    {
     "data": {
      "text/plain": [
       "PerReplica:{\n",
       "  0: <tf.Tensor: shape=(1, 896, 5313), dtype=float16, numpy=\n",
       "array([[[0.01155 , 0.02716 , 0.0206  , ..., 0.      , 0.      ,\n",
       "         0.      ],\n",
       "        [0.0109  , 0.04666 , 0.0309  , ..., 0.      , 0.      ,\n",
       "         0.      ],\n",
       "        [0.00792 , 0.035   , 0.01932 , ..., 0.      , 0.      ,\n",
       "         0.      ],\n",
       "        ...,\n",
       "        [0.      , 0.006863, 0.      , ..., 0.      , 0.      ,\n",
       "         0.      ],\n",
       "        [0.      , 0.      , 0.002575, ..., 0.      , 0.0795  ,\n",
       "         0.      ],\n",
       "        [0.014786, 0.      , 0.03992 , ..., 0.      , 0.1423  ,\n",
       "         0.      ]]], dtype=float16)>,\n",
       "  1: <tf.Tensor: shape=(1, 896, 5313), dtype=float16, numpy=\n",
       "array([[[0.09924 , 0.0927  , 0.01834 , ..., 0.      , 0.      ,\n",
       "         0.      ],\n",
       "        [0.11127 , 0.1686  , 0.03397 , ..., 0.      , 0.9844  ,\n",
       "         0.      ],\n",
       "        [0.1432  , 0.2322  , 0.01851 , ..., 0.      , 0.      ,\n",
       "         0.      ],\n",
       "        ...,\n",
       "        [0.00663 , 0.01672 , 0.007565, ..., 0.01852 , 0.11566 ,\n",
       "         0.      ],\n",
       "        [0.004112, 0.001557, 0.      , ..., 0.      , 0.      ,\n",
       "         0.      ],\n",
       "        [0.0696  , 0.03845 , 0.04312 , ..., 0.      , 0.      ,\n",
       "         0.      ]]], dtype=float16)>,\n",
       "  2: <tf.Tensor: shape=(1, 896, 5313), dtype=float16, numpy=\n",
       "array([[[0.0323 , 0.02287, 0.01996, ..., 0.     , 0.     , 0.     ],\n",
       "        [0.03558, 0.0332 , 0.07806, ..., 0.     , 0.     , 0.     ],\n",
       "        [0.03824, 0.0284 , 0.00499, ..., 0.     , 0.     , 0.     ],\n",
       "        ...,\n",
       "        [0.     , 0.     , 0.     , ..., 0.     , 0.     , 0.     ],\n",
       "        [0.     , 0.     , 0.     , ..., 0.     , 0.     , 0.     ],\n",
       "        [0.     , 0.     , 0.     , ..., 0.     , 0.     , 0.     ]]],\n",
       "      dtype=float16)>,\n",
       "  3: <tf.Tensor: shape=(1, 896, 5313), dtype=float16, numpy=\n",
       "array([[[0.      , 0.      , 0.      , ..., 0.      , 0.1184  ,\n",
       "         0.      ],\n",
       "        [0.00742 , 0.005264, 0.      , ..., 0.      , 0.02199 ,\n",
       "         0.003363],\n",
       "        [0.00866 , 0.02127 , 0.01723 , ..., 0.      , 0.      ,\n",
       "         0.0611  ],\n",
       "        ...,\n",
       "        [0.0377  , 0.04834 , 0.      , ..., 0.      , 0.      ,\n",
       "         0.      ],\n",
       "        [0.04605 , 0.08356 , 0.01336 , ..., 0.      , 0.      ,\n",
       "         0.11633 ],\n",
       "        [0.06158 , 0.08026 , 0.06018 , ..., 0.      , 0.      ,\n",
       "         0.      ]]], dtype=float16)>,\n",
       "  4: <tf.Tensor: shape=(1, 896, 5313), dtype=float16, numpy=\n",
       "array([[[0.1236 , 0.1312 , 0.04828, ..., 0.08575, 0.     , 0.2308 ],\n",
       "        [0.1071 , 0.1121 , 0.0584 , ..., 0.03528, 0.09454, 0.3313 ],\n",
       "        [0.0879 , 0.08386, 0.01883, ..., 0.     , 0.     , 0.     ],\n",
       "        ...,\n",
       "        [0.1232 , 0.1165 , 0.066  , ..., 0.     , 0.     , 0.     ],\n",
       "        [0.1432 , 0.1168 , 0.1409 , ..., 0.     , 0.     , 0.     ],\n",
       "        [0.1416 , 0.1624 , 0.2174 , ..., 0.     , 0.     , 0.     ]]],\n",
       "      dtype=float16)>,\n",
       "  5: <tf.Tensor: shape=(1, 896, 5313), dtype=float16, numpy=\n",
       "array([[[0.      , 0.006336, 0.      , ..., 0.      , 0.      ,\n",
       "         0.      ],\n",
       "        [0.006214, 0.0087  , 0.      , ..., 0.      , 0.1772  ,\n",
       "         0.      ],\n",
       "        [0.01516 , 0.      , 0.      , ..., 0.      , 0.      ,\n",
       "         0.      ],\n",
       "        ...,\n",
       "        [0.02126 , 0.01666 , 0.01014 , ..., 0.      , 0.      ,\n",
       "         0.      ],\n",
       "        [0.0131  , 0.02234 , 0.05133 , ..., 0.      , 0.      ,\n",
       "         0.03116 ],\n",
       "        [0.0215  , 0.01453 , 0.01578 , ..., 0.      , 0.      ,\n",
       "         0.      ]]], dtype=float16)>,\n",
       "  6: <tf.Tensor: shape=(1, 896, 5313), dtype=float16, numpy=\n",
       "array([[[0.0171 , 0.01828, 0.0641 , ..., 0.     , 0.     , 0.     ],\n",
       "        [0.0739 , 0.0766 , 0.07513, ..., 0.     , 0.     , 0.     ],\n",
       "        [0.1009 , 0.10986, 0.1041 , ..., 0.     , 0.     , 0.     ],\n",
       "        ...,\n",
       "        [0.04416, 0.0361 , 0.02013, ..., 0.     , 0.     , 0.     ],\n",
       "        [0.1658 , 0.1466 , 0.0925 , ..., 0.10693, 1.861  , 0.226  ],\n",
       "        [0.169  , 0.1389 , 0.1335 , ..., 0.     , 0.     , 0.     ]]],\n",
       "      dtype=float16)>,\n",
       "  7: <tf.Tensor: shape=(1, 896, 5313), dtype=float16, numpy=\n",
       "array([[[0.11694 , 0.10345 , 0.05698 , ..., 0.      , 0.      ,\n",
       "         0.      ],\n",
       "        [0.01694 , 0.02464 , 0.007404, ..., 0.      , 0.      ,\n",
       "         0.      ],\n",
       "        [0.02943 , 0.0111  , 0.1101  , ..., 0.      , 0.      ,\n",
       "         0.      ],\n",
       "        ...,\n",
       "        [0.02324 , 0.0518  , 0.      , ..., 0.      , 0.      ,\n",
       "         0.      ],\n",
       "        [0.0357  , 0.04636 , 0.0531  , ..., 0.      , 0.      ,\n",
       "         0.      ],\n",
       "        [0.010414, 0.01159 , 0.02414 , ..., 0.      , 0.      ,\n",
       "         0.      ]]], dtype=float16)>\n",
       "}"
      ]
     },
     "execution_count": 9,
     "metadata": {},
     "output_type": "execute_result"
    }
   ],
   "source": []
  },
  {
   "cell_type": "code",
   "execution_count": 2,
   "id": "cc56688c-1efe-4d26-82b1-6d50175008e3",
   "metadata": {},
   "outputs": [],
   "source": [
    "def exponential_linspace_int(start, end, num, divisible_by=1):\n",
    "  \"\"\"Exponentially increasing values of integers.\"\"\"\n",
    "  def _round(x):\n",
    "    return int(np.round(x / divisible_by) * divisible_by)\n",
    "\n",
    "  base = np.exp(np.log(end / start) / (num - 1))\n",
    "  return [_round(start * base**i) for i in range(num)]"
   ]
  },
  {
   "cell_type": "code",
   "execution_count": 3,
   "id": "37f19548-3db5-4ce9-affc-036e33c0b999",
   "metadata": {},
   "outputs": [
    {
     "name": "stdout",
     "output_type": "stream",
     "text": [
      "[192, 221, 253, 291, 334, 384]\n"
     ]
    }
   ],
   "source": [
    "print(exponential_linspace_int(192,384,6))"
   ]
  },
  {
   "cell_type": "code",
   "execution_count": null,
   "id": "4a248a50-8ff5-4977-ad56-5aa46b58e32f",
   "metadata": {},
   "outputs": [],
   "source": []
  }
 ],
 "metadata": {
  "environment": {
   "name": "tf2-cpu.2-6.m81",
   "type": "gcloud",
   "uri": "gcr.io/deeplearning-platform-release/tf2-cpu.2-6:m81"
  },
  "kernelspec": {
   "display_name": "Python 3",
   "language": "python",
   "name": "python3"
  },
  "language_info": {
   "codemirror_mode": {
    "name": "ipython",
    "version": 3
   },
   "file_extension": ".py",
   "mimetype": "text/x-python",
   "name": "python",
   "nbconvert_exporter": "python",
   "pygments_lexer": "ipython3",
   "version": "3.7.10"
  }
 },
 "nbformat": 4,
 "nbformat_minor": 5
}
