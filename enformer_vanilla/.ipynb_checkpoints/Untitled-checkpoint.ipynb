{
 "cells": [],
 "metadata": {
  "environment": {
   "name": "tf2-cpu.2-6.m81",
   "type": "gcloud",
   "uri": "gcr.io/deeplearning-platform-release/tf2-cpu.2-6:m81"
  }
 },
 "nbformat": 4,
 "nbformat_minor": 5
}
